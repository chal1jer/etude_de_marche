{
 "cells": [
  {
   "cell_type": "markdown",
   "metadata": {},
   "source": [
    "# <font color=\"#8333ff\">P5: Étude de marché</font>"
   ]
  },
  {
   "cell_type": "code",
   "execution_count": 1,
   "metadata": {},
   "outputs": [
    {
     "name": "stdout",
     "output_type": "stream",
     "text": [
      "1.14.3\n",
      "1.0.3\n",
      "0.8.1\n"
     ]
    }
   ],
   "source": [
    "# Import des librairies standards\n",
    "import numpy as np\n",
    "print(f\"numpy version {np.__version__}\")\n",
    "import pandas as pd\n",
    "print(f\"pandas version {pd.__version__}\")\n",
    "\n",
    "# Pour la visualisation\n",
    "import seaborn as sns\n",
    "print(f\"seaborn version {sns.__version__}\")\n",
    "import matplotlib.pyplot as plt\n",
    "\n",
    "# Classe pour standardisation \n",
    "from sklearn.preprocessing import StandardScaler\n",
    "# Pour l'ACP\n",
    "from sklearn.decomposition import PCA\n",
    "# Import the hierarchical clustering algorithm\n",
    "from sklearn.cluster import AgglomerativeClustering\n",
    "\n",
    "from sklearn import decomposition, preprocessing, metrics\n",
    "\n",
    "# Dendrogramme\n",
    "from scipy.cluster.hierarchy import linkage, fcluster \n",
    "\n",
    "# Fonctions créées pour ce projet\n",
    "from functions import *\n",
    "\n",
    "# Pour afficher toutes les lignes et colonnes des df\n",
    "pd.set_option('display.max_rows', None, 'display.max_columns', None)"
   ]
  },
  {
   "cell_type": "markdown",
   "metadata": {},
   "source": [
    "# <font color='#FFCA36'>1. Construction de l'échantillon</font>"
   ]
  },
  {
   "cell_type": "markdown",
   "metadata": {},
   "source": [
    "## 1.1. Différence de population entre une année antérieure (au choix) et l'année courante, exprimée en pourcentage"
   ]
  },
  {
   "cell_type": "markdown",
   "metadata": {},
   "source": [
    "J'ai choisi de prendre les années 2013 et 2017 parce que :\n",
    "- si besoin, je pourrai faire des recoupements avec le projet 3 déjà effectué,\n",
    "- 2017 est une année assez proche\n",
    "- 2013 et 2017 ne sont pas trop éloignées, ce qui me semble plus pertinent pour constater le trend."
   ]
  },
  {
   "cell_type": "code",
   "execution_count": 210,
   "metadata": {},
   "outputs": [],
   "source": [
    "# Import des données population\n",
    "pop = pd.read_csv(\"C:/Users/Zang/Documents/APPRENDER/OPENCLASSROOMS/PARCOURS DA/P5_Etude_de_marche/pop13&17.csv\")"
   ]
  },
  {
   "cell_type": "code",
   "execution_count": 211,
   "metadata": {},
   "outputs": [
    {
     "data": {
      "text/html": [
       "<div>\n",
       "<style scoped>\n",
       "    .dataframe tbody tr th:only-of-type {\n",
       "        vertical-align: middle;\n",
       "    }\n",
       "\n",
       "    .dataframe tbody tr th {\n",
       "        vertical-align: top;\n",
       "    }\n",
       "\n",
       "    .dataframe thead th {\n",
       "        text-align: right;\n",
       "    }\n",
       "</style>\n",
       "<table border=\"1\" class=\"dataframe\">\n",
       "  <thead>\n",
       "    <tr style=\"text-align: right;\">\n",
       "      <th></th>\n",
       "      <th>Code Domaine</th>\n",
       "      <th>Domaine</th>\n",
       "      <th>Code zone</th>\n",
       "      <th>Zone</th>\n",
       "      <th>Code Élément</th>\n",
       "      <th>Élément</th>\n",
       "      <th>Code Produit</th>\n",
       "      <th>Produit</th>\n",
       "      <th>Code année</th>\n",
       "      <th>Année</th>\n",
       "      <th>Unité</th>\n",
       "      <th>Valeur</th>\n",
       "      <th>Note</th>\n",
       "    </tr>\n",
       "  </thead>\n",
       "  <tbody>\n",
       "    <tr>\n",
       "      <th>0</th>\n",
       "      <td>OA</td>\n",
       "      <td>Séries temporelles annuelles</td>\n",
       "      <td>2</td>\n",
       "      <td>Afghanistan</td>\n",
       "      <td>511</td>\n",
       "      <td>Population totale</td>\n",
       "      <td>3010</td>\n",
       "      <td>Population-Estimations</td>\n",
       "      <td>2013</td>\n",
       "      <td>2013</td>\n",
       "      <td>1000 personnes</td>\n",
       "      <td>32269.589</td>\n",
       "      <td>NaN</td>\n",
       "    </tr>\n",
       "    <tr>\n",
       "      <th>1</th>\n",
       "      <td>OA</td>\n",
       "      <td>Séries temporelles annuelles</td>\n",
       "      <td>2</td>\n",
       "      <td>Afghanistan</td>\n",
       "      <td>511</td>\n",
       "      <td>Population totale</td>\n",
       "      <td>3010</td>\n",
       "      <td>Population-Estimations</td>\n",
       "      <td>2017</td>\n",
       "      <td>2017</td>\n",
       "      <td>1000 personnes</td>\n",
       "      <td>36296.113</td>\n",
       "      <td>NaN</td>\n",
       "    </tr>\n",
       "    <tr>\n",
       "      <th>2</th>\n",
       "      <td>OA</td>\n",
       "      <td>Séries temporelles annuelles</td>\n",
       "      <td>202</td>\n",
       "      <td>Afrique du Sud</td>\n",
       "      <td>511</td>\n",
       "      <td>Population totale</td>\n",
       "      <td>3010</td>\n",
       "      <td>Population-Estimations</td>\n",
       "      <td>2013</td>\n",
       "      <td>2013</td>\n",
       "      <td>1000 personnes</td>\n",
       "      <td>53687.121</td>\n",
       "      <td>NaN</td>\n",
       "    </tr>\n",
       "    <tr>\n",
       "      <th>3</th>\n",
       "      <td>OA</td>\n",
       "      <td>Séries temporelles annuelles</td>\n",
       "      <td>202</td>\n",
       "      <td>Afrique du Sud</td>\n",
       "      <td>511</td>\n",
       "      <td>Population totale</td>\n",
       "      <td>3010</td>\n",
       "      <td>Population-Estimations</td>\n",
       "      <td>2017</td>\n",
       "      <td>2017</td>\n",
       "      <td>1000 personnes</td>\n",
       "      <td>57009.756</td>\n",
       "      <td>NaN</td>\n",
       "    </tr>\n",
       "    <tr>\n",
       "      <th>4</th>\n",
       "      <td>OA</td>\n",
       "      <td>Séries temporelles annuelles</td>\n",
       "      <td>3</td>\n",
       "      <td>Albanie</td>\n",
       "      <td>511</td>\n",
       "      <td>Population totale</td>\n",
       "      <td>3010</td>\n",
       "      <td>Population-Estimations</td>\n",
       "      <td>2013</td>\n",
       "      <td>2013</td>\n",
       "      <td>1000 personnes</td>\n",
       "      <td>2903.790</td>\n",
       "      <td>NaN</td>\n",
       "    </tr>\n",
       "  </tbody>\n",
       "</table>\n",
       "</div>"
      ],
      "text/plain": [
       "  Code Domaine                       Domaine  Code zone            Zone  \\\n",
       "0           OA  Séries temporelles annuelles          2     Afghanistan   \n",
       "1           OA  Séries temporelles annuelles          2     Afghanistan   \n",
       "2           OA  Séries temporelles annuelles        202  Afrique du Sud   \n",
       "3           OA  Séries temporelles annuelles        202  Afrique du Sud   \n",
       "4           OA  Séries temporelles annuelles          3         Albanie   \n",
       "\n",
       "   Code Élément            Élément  Code Produit                 Produit  \\\n",
       "0           511  Population totale          3010  Population-Estimations   \n",
       "1           511  Population totale          3010  Population-Estimations   \n",
       "2           511  Population totale          3010  Population-Estimations   \n",
       "3           511  Population totale          3010  Population-Estimations   \n",
       "4           511  Population totale          3010  Population-Estimations   \n",
       "\n",
       "   Code année  Année           Unité     Valeur Note  \n",
       "0        2013   2013  1000 personnes  32269.589  NaN  \n",
       "1        2017   2017  1000 personnes  36296.113  NaN  \n",
       "2        2013   2013  1000 personnes  53687.121  NaN  \n",
       "3        2017   2017  1000 personnes  57009.756  NaN  \n",
       "4        2013   2013  1000 personnes   2903.790  NaN  "
      ]
     },
     "execution_count": 211,
     "metadata": {},
     "output_type": "execute_result"
    }
   ],
   "source": [
    "pop.head()"
   ]
  },
  {
   "cell_type": "code",
   "execution_count": 212,
   "metadata": {},
   "outputs": [],
   "source": [
    "# Je garde les colonnes utiles pour plus de lisibilité\n",
    "pop = pop.drop([\"Code Domaine\", \"Domaine\", \"Code Élément\", \"Code Produit\", \"Produit\", \"Code année\", \"Note\"], axis=1)"
   ]
  },
  {
   "cell_type": "code",
   "execution_count": 213,
   "metadata": {},
   "outputs": [
    {
     "data": {
      "text/html": [
       "<div>\n",
       "<style scoped>\n",
       "    .dataframe tbody tr th:only-of-type {\n",
       "        vertical-align: middle;\n",
       "    }\n",
       "\n",
       "    .dataframe tbody tr th {\n",
       "        vertical-align: top;\n",
       "    }\n",
       "\n",
       "    .dataframe thead th {\n",
       "        text-align: right;\n",
       "    }\n",
       "</style>\n",
       "<table border=\"1\" class=\"dataframe\">\n",
       "  <thead>\n",
       "    <tr style=\"text-align: right;\">\n",
       "      <th></th>\n",
       "      <th>Code zone</th>\n",
       "      <th>Zone</th>\n",
       "      <th>Élément</th>\n",
       "      <th>Année</th>\n",
       "      <th>Unité</th>\n",
       "      <th>Valeur</th>\n",
       "    </tr>\n",
       "  </thead>\n",
       "  <tbody>\n",
       "    <tr>\n",
       "      <th>count</th>\n",
       "      <td>474.000000</td>\n",
       "      <td>474</td>\n",
       "      <td>474</td>\n",
       "      <td>474.000000</td>\n",
       "      <td>474</td>\n",
       "      <td>4.740000e+02</td>\n",
       "    </tr>\n",
       "    <tr>\n",
       "      <th>unique</th>\n",
       "      <td>NaN</td>\n",
       "      <td>237</td>\n",
       "      <td>1</td>\n",
       "      <td>NaN</td>\n",
       "      <td>1</td>\n",
       "      <td>NaN</td>\n",
       "    </tr>\n",
       "    <tr>\n",
       "      <th>top</th>\n",
       "      <td>NaN</td>\n",
       "      <td>Qatar</td>\n",
       "      <td>Population totale</td>\n",
       "      <td>NaN</td>\n",
       "      <td>1000 personnes</td>\n",
       "      <td>NaN</td>\n",
       "    </tr>\n",
       "    <tr>\n",
       "      <th>freq</th>\n",
       "      <td>NaN</td>\n",
       "      <td>2</td>\n",
       "      <td>474</td>\n",
       "      <td>NaN</td>\n",
       "      <td>474</td>\n",
       "      <td>NaN</td>\n",
       "    </tr>\n",
       "    <tr>\n",
       "      <th>mean</th>\n",
       "      <td>135.805907</td>\n",
       "      <td>NaN</td>\n",
       "      <td>NaN</td>\n",
       "      <td>2015.000000</td>\n",
       "      <td>NaN</td>\n",
       "      <td>3.720375e+04</td>\n",
       "    </tr>\n",
       "    <tr>\n",
       "      <th>std</th>\n",
       "      <td>79.051916</td>\n",
       "      <td>NaN</td>\n",
       "      <td>NaN</td>\n",
       "      <td>2.002113</td>\n",
       "      <td>NaN</td>\n",
       "      <td>1.583227e+05</td>\n",
       "    </tr>\n",
       "    <tr>\n",
       "      <th>min</th>\n",
       "      <td>1.000000</td>\n",
       "      <td>NaN</td>\n",
       "      <td>NaN</td>\n",
       "      <td>2013.000000</td>\n",
       "      <td>NaN</td>\n",
       "      <td>7.930000e-01</td>\n",
       "    </tr>\n",
       "    <tr>\n",
       "      <th>25%</th>\n",
       "      <td>69.000000</td>\n",
       "      <td>NaN</td>\n",
       "      <td>NaN</td>\n",
       "      <td>2013.000000</td>\n",
       "      <td>NaN</td>\n",
       "      <td>3.824602e+02</td>\n",
       "    </tr>\n",
       "    <tr>\n",
       "      <th>50%</th>\n",
       "      <td>134.000000</td>\n",
       "      <td>NaN</td>\n",
       "      <td>NaN</td>\n",
       "      <td>2015.000000</td>\n",
       "      <td>NaN</td>\n",
       "      <td>5.203511e+03</td>\n",
       "    </tr>\n",
       "    <tr>\n",
       "      <th>75%</th>\n",
       "      <td>199.000000</td>\n",
       "      <td>NaN</td>\n",
       "      <td>NaN</td>\n",
       "      <td>2017.000000</td>\n",
       "      <td>NaN</td>\n",
       "      <td>1.963509e+04</td>\n",
       "    </tr>\n",
       "    <tr>\n",
       "      <th>max</th>\n",
       "      <td>351.000000</td>\n",
       "      <td>NaN</td>\n",
       "      <td>NaN</td>\n",
       "      <td>2017.000000</td>\n",
       "      <td>NaN</td>\n",
       "      <td>1.452625e+06</td>\n",
       "    </tr>\n",
       "  </tbody>\n",
       "</table>\n",
       "</div>"
      ],
      "text/plain": [
       "         Code zone   Zone            Élément        Année           Unité  \\\n",
       "count   474.000000    474                474   474.000000             474   \n",
       "unique         NaN    237                  1          NaN               1   \n",
       "top            NaN  Qatar  Population totale          NaN  1000 personnes   \n",
       "freq           NaN      2                474          NaN             474   \n",
       "mean    135.805907    NaN                NaN  2015.000000             NaN   \n",
       "std      79.051916    NaN                NaN     2.002113             NaN   \n",
       "min       1.000000    NaN                NaN  2013.000000             NaN   \n",
       "25%      69.000000    NaN                NaN  2013.000000             NaN   \n",
       "50%     134.000000    NaN                NaN  2015.000000             NaN   \n",
       "75%     199.000000    NaN                NaN  2017.000000             NaN   \n",
       "max     351.000000    NaN                NaN  2017.000000             NaN   \n",
       "\n",
       "              Valeur  \n",
       "count   4.740000e+02  \n",
       "unique           NaN  \n",
       "top              NaN  \n",
       "freq             NaN  \n",
       "mean    3.720375e+04  \n",
       "std     1.583227e+05  \n",
       "min     7.930000e-01  \n",
       "25%     3.824602e+02  \n",
       "50%     5.203511e+03  \n",
       "75%     1.963509e+04  \n",
       "max     1.452625e+06  "
      ]
     },
     "execution_count": 213,
     "metadata": {},
     "output_type": "execute_result"
    }
   ],
   "source": [
    "pop.describe(include='all')"
   ]
  },
  {
   "cell_type": "code",
   "execution_count": 214,
   "metadata": {},
   "outputs": [
    {
     "data": {
      "text/html": [
       "<div>\n",
       "<style scoped>\n",
       "    .dataframe tbody tr th:only-of-type {\n",
       "        vertical-align: middle;\n",
       "    }\n",
       "\n",
       "    .dataframe tbody tr th {\n",
       "        vertical-align: top;\n",
       "    }\n",
       "\n",
       "    .dataframe thead th {\n",
       "        text-align: right;\n",
       "    }\n",
       "</style>\n",
       "<table border=\"1\" class=\"dataframe\">\n",
       "  <thead>\n",
       "    <tr style=\"text-align: right;\">\n",
       "      <th></th>\n",
       "      <th>Code zone</th>\n",
       "      <th>Zone</th>\n",
       "      <th>Élément</th>\n",
       "      <th>Année</th>\n",
       "      <th>Unité</th>\n",
       "      <th>Valeur</th>\n",
       "    </tr>\n",
       "  </thead>\n",
       "  <tbody>\n",
       "    <tr>\n",
       "      <th>82</th>\n",
       "      <td>351</td>\n",
       "      <td>Chine</td>\n",
       "      <td>Population totale</td>\n",
       "      <td>2013</td>\n",
       "      <td>1000 personnes</td>\n",
       "      <td>1422971.062</td>\n",
       "    </tr>\n",
       "    <tr>\n",
       "      <th>83</th>\n",
       "      <td>351</td>\n",
       "      <td>Chine</td>\n",
       "      <td>Population totale</td>\n",
       "      <td>2017</td>\n",
       "      <td>1000 personnes</td>\n",
       "      <td>1452625.244</td>\n",
       "    </tr>\n",
       "    <tr>\n",
       "      <th>84</th>\n",
       "      <td>96</td>\n",
       "      <td>Chine - RAS de Hong-Kong</td>\n",
       "      <td>Population totale</td>\n",
       "      <td>2013</td>\n",
       "      <td>1000 personnes</td>\n",
       "      <td>7088.778</td>\n",
       "    </tr>\n",
       "    <tr>\n",
       "      <th>85</th>\n",
       "      <td>96</td>\n",
       "      <td>Chine - RAS de Hong-Kong</td>\n",
       "      <td>Population totale</td>\n",
       "      <td>2017</td>\n",
       "      <td>1000 personnes</td>\n",
       "      <td>7306.322</td>\n",
       "    </tr>\n",
       "    <tr>\n",
       "      <th>86</th>\n",
       "      <td>128</td>\n",
       "      <td>Chine - RAS de Macao</td>\n",
       "      <td>Population totale</td>\n",
       "      <td>2013</td>\n",
       "      <td>1000 personnes</td>\n",
       "      <td>577.372</td>\n",
       "    </tr>\n",
       "    <tr>\n",
       "      <th>87</th>\n",
       "      <td>128</td>\n",
       "      <td>Chine - RAS de Macao</td>\n",
       "      <td>Population totale</td>\n",
       "      <td>2017</td>\n",
       "      <td>1000 personnes</td>\n",
       "      <td>622.585</td>\n",
       "    </tr>\n",
       "    <tr>\n",
       "      <th>88</th>\n",
       "      <td>41</td>\n",
       "      <td>Chine, continentale</td>\n",
       "      <td>Population totale</td>\n",
       "      <td>2013</td>\n",
       "      <td>1000 personnes</td>\n",
       "      <td>1391883.330</td>\n",
       "    </tr>\n",
       "    <tr>\n",
       "      <th>89</th>\n",
       "      <td>41</td>\n",
       "      <td>Chine, continentale</td>\n",
       "      <td>Population totale</td>\n",
       "      <td>2017</td>\n",
       "      <td>1000 personnes</td>\n",
       "      <td>1421021.791</td>\n",
       "    </tr>\n",
       "    <tr>\n",
       "      <th>90</th>\n",
       "      <td>214</td>\n",
       "      <td>Chine, Taiwan Province de</td>\n",
       "      <td>Population totale</td>\n",
       "      <td>2013</td>\n",
       "      <td>1000 personnes</td>\n",
       "      <td>23421.582</td>\n",
       "    </tr>\n",
       "    <tr>\n",
       "      <th>91</th>\n",
       "      <td>214</td>\n",
       "      <td>Chine, Taiwan Province de</td>\n",
       "      <td>Population totale</td>\n",
       "      <td>2017</td>\n",
       "      <td>1000 personnes</td>\n",
       "      <td>23674.546</td>\n",
       "    </tr>\n",
       "  </tbody>\n",
       "</table>\n",
       "</div>"
      ],
      "text/plain": [
       "    Code zone                       Zone            Élément  Année  \\\n",
       "82        351                      Chine  Population totale   2013   \n",
       "83        351                      Chine  Population totale   2017   \n",
       "84         96   Chine - RAS de Hong-Kong  Population totale   2013   \n",
       "85         96   Chine - RAS de Hong-Kong  Population totale   2017   \n",
       "86        128       Chine - RAS de Macao  Population totale   2013   \n",
       "87        128       Chine - RAS de Macao  Population totale   2017   \n",
       "88         41        Chine, continentale  Population totale   2013   \n",
       "89         41        Chine, continentale  Population totale   2017   \n",
       "90        214  Chine, Taiwan Province de  Population totale   2013   \n",
       "91        214  Chine, Taiwan Province de  Population totale   2017   \n",
       "\n",
       "             Unité       Valeur  \n",
       "82  1000 personnes  1422971.062  \n",
       "83  1000 personnes  1452625.244  \n",
       "84  1000 personnes     7088.778  \n",
       "85  1000 personnes     7306.322  \n",
       "86  1000 personnes      577.372  \n",
       "87  1000 personnes      622.585  \n",
       "88  1000 personnes  1391883.330  \n",
       "89  1000 personnes  1421021.791  \n",
       "90  1000 personnes    23421.582  \n",
       "91  1000 personnes    23674.546  "
      ]
     },
     "execution_count": 214,
     "metadata": {},
     "output_type": "execute_result"
    }
   ],
   "source": [
    "# Il y a plusieurs occurrences de la Chine\n",
    "pop[pop.Zone.str.contains(\"Chine\")]"
   ]
  },
  {
   "cell_type": "code",
   "execution_count": 215,
   "metadata": {},
   "outputs": [],
   "source": [
    "# Je supprime la ligne \"Chine\" et garde les autres\n",
    "pop = pop.drop([82,83])"
   ]
  },
  {
   "cell_type": "code",
   "execution_count": 216,
   "metadata": {},
   "outputs": [
    {
     "data": {
      "text/plain": [
       "Code zone    0\n",
       "Zone         0\n",
       "Élément      0\n",
       "Année        0\n",
       "Unité        0\n",
       "Valeur       0\n",
       "dtype: int64"
      ]
     },
     "execution_count": 216,
     "metadata": {},
     "output_type": "execute_result"
    }
   ],
   "source": [
    "# Vérification de la présence de valeurs nulles\n",
    "pop.isnull().sum()"
   ]
  },
  {
   "cell_type": "code",
   "execution_count": 91,
   "metadata": {},
   "outputs": [
    {
     "data": {
      "text/html": [
       "<div>\n",
       "<style scoped>\n",
       "    .dataframe tbody tr th:only-of-type {\n",
       "        vertical-align: middle;\n",
       "    }\n",
       "\n",
       "    .dataframe tbody tr th {\n",
       "        vertical-align: top;\n",
       "    }\n",
       "\n",
       "    .dataframe thead th {\n",
       "        text-align: right;\n",
       "    }\n",
       "</style>\n",
       "<table border=\"1\" class=\"dataframe\">\n",
       "  <thead>\n",
       "    <tr style=\"text-align: right;\">\n",
       "      <th></th>\n",
       "      <th>Code zone</th>\n",
       "      <th>Zone</th>\n",
       "      <th>Élément</th>\n",
       "      <th>Année</th>\n",
       "      <th>Unité</th>\n",
       "      <th>Valeur</th>\n",
       "    </tr>\n",
       "  </thead>\n",
       "  <tbody>\n",
       "    <tr>\n",
       "      <th>0</th>\n",
       "      <td>2</td>\n",
       "      <td>Afghanistan</td>\n",
       "      <td>Population totale</td>\n",
       "      <td>2013</td>\n",
       "      <td>1000 personnes</td>\n",
       "      <td>32269.589</td>\n",
       "    </tr>\n",
       "    <tr>\n",
       "      <th>1</th>\n",
       "      <td>2</td>\n",
       "      <td>Afghanistan</td>\n",
       "      <td>Population totale</td>\n",
       "      <td>2017</td>\n",
       "      <td>1000 personnes</td>\n",
       "      <td>36296.113</td>\n",
       "    </tr>\n",
       "    <tr>\n",
       "      <th>2</th>\n",
       "      <td>202</td>\n",
       "      <td>Afrique du Sud</td>\n",
       "      <td>Population totale</td>\n",
       "      <td>2013</td>\n",
       "      <td>1000 personnes</td>\n",
       "      <td>53687.121</td>\n",
       "    </tr>\n",
       "    <tr>\n",
       "      <th>3</th>\n",
       "      <td>202</td>\n",
       "      <td>Afrique du Sud</td>\n",
       "      <td>Population totale</td>\n",
       "      <td>2017</td>\n",
       "      <td>1000 personnes</td>\n",
       "      <td>57009.756</td>\n",
       "    </tr>\n",
       "    <tr>\n",
       "      <th>4</th>\n",
       "      <td>3</td>\n",
       "      <td>Albanie</td>\n",
       "      <td>Population totale</td>\n",
       "      <td>2013</td>\n",
       "      <td>1000 personnes</td>\n",
       "      <td>2903.790</td>\n",
       "    </tr>\n",
       "  </tbody>\n",
       "</table>\n",
       "</div>"
      ],
      "text/plain": [
       "   Code zone            Zone            Élément  Année           Unité  \\\n",
       "0          2     Afghanistan  Population totale   2013  1000 personnes   \n",
       "1          2     Afghanistan  Population totale   2017  1000 personnes   \n",
       "2        202  Afrique du Sud  Population totale   2013  1000 personnes   \n",
       "3        202  Afrique du Sud  Population totale   2017  1000 personnes   \n",
       "4          3         Albanie  Population totale   2013  1000 personnes   \n",
       "\n",
       "      Valeur  \n",
       "0  32269.589  \n",
       "1  36296.113  \n",
       "2  53687.121  \n",
       "3  57009.756  \n",
       "4   2903.790  "
      ]
     },
     "execution_count": 91,
     "metadata": {},
     "output_type": "execute_result"
    }
   ],
   "source": [
    "pop.head()"
   ]
  },
  {
   "cell_type": "code",
   "execution_count": 217,
   "metadata": {},
   "outputs": [],
   "source": [
    "# Je créé la colonne population\n",
    "pop['population'] = (pop['Valeur'] * 1000).astype(int)"
   ]
  },
  {
   "cell_type": "code",
   "execution_count": 218,
   "metadata": {},
   "outputs": [
    {
     "data": {
      "text/html": [
       "<div>\n",
       "<style scoped>\n",
       "    .dataframe tbody tr th:only-of-type {\n",
       "        vertical-align: middle;\n",
       "    }\n",
       "\n",
       "    .dataframe tbody tr th {\n",
       "        vertical-align: top;\n",
       "    }\n",
       "\n",
       "    .dataframe thead th {\n",
       "        text-align: right;\n",
       "    }\n",
       "</style>\n",
       "<table border=\"1\" class=\"dataframe\">\n",
       "  <thead>\n",
       "    <tr style=\"text-align: right;\">\n",
       "      <th></th>\n",
       "      <th>Code zone</th>\n",
       "      <th>Zone</th>\n",
       "      <th>Élément</th>\n",
       "      <th>Année</th>\n",
       "      <th>Unité</th>\n",
       "      <th>Valeur</th>\n",
       "      <th>population</th>\n",
       "    </tr>\n",
       "  </thead>\n",
       "  <tbody>\n",
       "    <tr>\n",
       "      <th>0</th>\n",
       "      <td>2</td>\n",
       "      <td>Afghanistan</td>\n",
       "      <td>Population totale</td>\n",
       "      <td>2013</td>\n",
       "      <td>1000 personnes</td>\n",
       "      <td>32269.589</td>\n",
       "      <td>32269589</td>\n",
       "    </tr>\n",
       "    <tr>\n",
       "      <th>1</th>\n",
       "      <td>2</td>\n",
       "      <td>Afghanistan</td>\n",
       "      <td>Population totale</td>\n",
       "      <td>2017</td>\n",
       "      <td>1000 personnes</td>\n",
       "      <td>36296.113</td>\n",
       "      <td>36296113</td>\n",
       "    </tr>\n",
       "    <tr>\n",
       "      <th>2</th>\n",
       "      <td>202</td>\n",
       "      <td>Afrique du Sud</td>\n",
       "      <td>Population totale</td>\n",
       "      <td>2013</td>\n",
       "      <td>1000 personnes</td>\n",
       "      <td>53687.121</td>\n",
       "      <td>53687121</td>\n",
       "    </tr>\n",
       "    <tr>\n",
       "      <th>3</th>\n",
       "      <td>202</td>\n",
       "      <td>Afrique du Sud</td>\n",
       "      <td>Population totale</td>\n",
       "      <td>2017</td>\n",
       "      <td>1000 personnes</td>\n",
       "      <td>57009.756</td>\n",
       "      <td>57009755</td>\n",
       "    </tr>\n",
       "    <tr>\n",
       "      <th>4</th>\n",
       "      <td>3</td>\n",
       "      <td>Albanie</td>\n",
       "      <td>Population totale</td>\n",
       "      <td>2013</td>\n",
       "      <td>1000 personnes</td>\n",
       "      <td>2903.790</td>\n",
       "      <td>2903790</td>\n",
       "    </tr>\n",
       "  </tbody>\n",
       "</table>\n",
       "</div>"
      ],
      "text/plain": [
       "   Code zone            Zone            Élément  Année           Unité  \\\n",
       "0          2     Afghanistan  Population totale   2013  1000 personnes   \n",
       "1          2     Afghanistan  Population totale   2017  1000 personnes   \n",
       "2        202  Afrique du Sud  Population totale   2013  1000 personnes   \n",
       "3        202  Afrique du Sud  Population totale   2017  1000 personnes   \n",
       "4          3         Albanie  Population totale   2013  1000 personnes   \n",
       "\n",
       "      Valeur  population  \n",
       "0  32269.589    32269589  \n",
       "1  36296.113    36296113  \n",
       "2  53687.121    53687121  \n",
       "3  57009.756    57009755  \n",
       "4   2903.790     2903790  "
      ]
     },
     "execution_count": 218,
     "metadata": {},
     "output_type": "execute_result"
    }
   ],
   "source": [
    "pop.head()"
   ]
  },
  {
   "cell_type": "code",
   "execution_count": 219,
   "metadata": {},
   "outputs": [],
   "source": [
    "# Transformation de temp en table pivot\n",
    "pop = pop.pivot_table(\n",
    "    index=[\"Code zone\",\"Zone\"],\n",
    "    columns = [\"Année\"],\n",
    "    values=[\"population\"], \n",
    "    aggfunc=sum)"
   ]
  },
  {
   "cell_type": "code",
   "execution_count": 220,
   "metadata": {},
   "outputs": [],
   "source": [
    "# On renomme les colonnes\n",
    "pop.columns = ['pop_2013','pop_2017']"
   ]
  },
  {
   "cell_type": "code",
   "execution_count": 221,
   "metadata": {},
   "outputs": [],
   "source": [
    "# Suppression de l'index\n",
    "pop = pop.reset_index()"
   ]
  },
  {
   "cell_type": "code",
   "execution_count": 222,
   "metadata": {},
   "outputs": [
    {
     "data": {
      "text/plain": [
       "(236, 4)"
      ]
     },
     "execution_count": 222,
     "metadata": {},
     "output_type": "execute_result"
    }
   ],
   "source": [
    "pop.shape"
   ]
  },
  {
   "cell_type": "code",
   "execution_count": 223,
   "metadata": {},
   "outputs": [],
   "source": [
    "# Calcul de l'évolution de la population entre 2017 et 2013\n",
    "pop['ratio_evol_pop'] = (pop['pop_2017'] - pop['pop_2013']) / pop['pop_2013']"
   ]
  },
  {
   "cell_type": "code",
   "execution_count": 224,
   "metadata": {},
   "outputs": [
    {
     "data": {
      "text/html": [
       "<div>\n",
       "<style scoped>\n",
       "    .dataframe tbody tr th:only-of-type {\n",
       "        vertical-align: middle;\n",
       "    }\n",
       "\n",
       "    .dataframe tbody tr th {\n",
       "        vertical-align: top;\n",
       "    }\n",
       "\n",
       "    .dataframe thead th {\n",
       "        text-align: right;\n",
       "    }\n",
       "</style>\n",
       "<table border=\"1\" class=\"dataframe\">\n",
       "  <thead>\n",
       "    <tr style=\"text-align: right;\">\n",
       "      <th></th>\n",
       "      <th>Code zone</th>\n",
       "      <th>Zone</th>\n",
       "      <th>pop_2013</th>\n",
       "      <th>pop_2017</th>\n",
       "      <th>ratio_evol_pop</th>\n",
       "    </tr>\n",
       "  </thead>\n",
       "  <tbody>\n",
       "    <tr>\n",
       "      <th>0</th>\n",
       "      <td>1</td>\n",
       "      <td>Arménie</td>\n",
       "      <td>2897587</td>\n",
       "      <td>2944790</td>\n",
       "      <td>0.016290</td>\n",
       "    </tr>\n",
       "    <tr>\n",
       "      <th>1</th>\n",
       "      <td>2</td>\n",
       "      <td>Afghanistan</td>\n",
       "      <td>32269589</td>\n",
       "      <td>36296113</td>\n",
       "      <td>0.124778</td>\n",
       "    </tr>\n",
       "    <tr>\n",
       "      <th>2</th>\n",
       "      <td>3</td>\n",
       "      <td>Albanie</td>\n",
       "      <td>2903790</td>\n",
       "      <td>2884169</td>\n",
       "      <td>-0.006757</td>\n",
       "    </tr>\n",
       "    <tr>\n",
       "      <th>3</th>\n",
       "      <td>4</td>\n",
       "      <td>Algérie</td>\n",
       "      <td>38140133</td>\n",
       "      <td>41389189</td>\n",
       "      <td>0.085187</td>\n",
       "    </tr>\n",
       "    <tr>\n",
       "      <th>4</th>\n",
       "      <td>5</td>\n",
       "      <td>Samoa américaines</td>\n",
       "      <td>55713</td>\n",
       "      <td>55620</td>\n",
       "      <td>-0.001669</td>\n",
       "    </tr>\n",
       "  </tbody>\n",
       "</table>\n",
       "</div>"
      ],
      "text/plain": [
       "   Code zone               Zone  pop_2013  pop_2017  ratio_evol_pop\n",
       "0          1            Arménie   2897587   2944790        0.016290\n",
       "1          2        Afghanistan  32269589  36296113        0.124778\n",
       "2          3            Albanie   2903790   2884169       -0.006757\n",
       "3          4            Algérie  38140133  41389189        0.085187\n",
       "4          5  Samoa américaines     55713     55620       -0.001669"
      ]
     },
     "execution_count": 224,
     "metadata": {},
     "output_type": "execute_result"
    }
   ],
   "source": [
    "pop.head()"
   ]
  },
  {
   "cell_type": "code",
   "execution_count": 225,
   "metadata": {},
   "outputs": [
    {
     "data": {
      "text/html": [
       "<div>\n",
       "<style scoped>\n",
       "    .dataframe tbody tr th:only-of-type {\n",
       "        vertical-align: middle;\n",
       "    }\n",
       "\n",
       "    .dataframe tbody tr th {\n",
       "        vertical-align: top;\n",
       "    }\n",
       "\n",
       "    .dataframe thead th {\n",
       "        text-align: right;\n",
       "    }\n",
       "</style>\n",
       "<table border=\"1\" class=\"dataframe\">\n",
       "  <thead>\n",
       "    <tr style=\"text-align: right;\">\n",
       "      <th></th>\n",
       "      <th>Code zone</th>\n",
       "      <th>Zone</th>\n",
       "      <th>pop_2013</th>\n",
       "      <th>pop_2017</th>\n",
       "      <th>ratio_evol_pop</th>\n",
       "    </tr>\n",
       "  </thead>\n",
       "  <tbody>\n",
       "    <tr>\n",
       "      <th>58</th>\n",
       "      <td>68</td>\n",
       "      <td>France</td>\n",
       "      <td>63893525</td>\n",
       "      <td>64842509</td>\n",
       "      <td>0.014853</td>\n",
       "    </tr>\n",
       "  </tbody>\n",
       "</table>\n",
       "</div>"
      ],
      "text/plain": [
       "    Code zone    Zone  pop_2013  pop_2017  ratio_evol_pop\n",
       "58         68  France  63893525  64842509        0.014853"
      ]
     },
     "execution_count": 225,
     "metadata": {},
     "output_type": "execute_result"
    }
   ],
   "source": [
    "# Exemple : la France\n",
    "pop[pop[\"Zone\"]=='France']"
   ]
  },
  {
   "cell_type": "code",
   "execution_count": 226,
   "metadata": {},
   "outputs": [
    {
     "data": {
      "text/plain": [
       "0"
      ]
     },
     "execution_count": 226,
     "metadata": {},
     "output_type": "execute_result"
    }
   ],
   "source": [
    "# Vérification si doublons\n",
    "pop.duplicated().sum()"
   ]
  },
  {
   "cell_type": "code",
   "execution_count": 227,
   "metadata": {},
   "outputs": [],
   "source": [
    "# Enregistrement\n",
    "pop.to_csv('C:/Users/Zang/Documents/APPRENDER/OPENCLASSROOMS/PARCOURS DA/P5_Etude_de_marche/pop18b.csv', index=False)"
   ]
  },
  {
   "cell_type": "code",
   "execution_count": 2,
   "metadata": {},
   "outputs": [],
   "source": [
    "# Chargement des données (si besoin)\n",
    "pop = pd.read_csv('C:/Users/Zang/Documents/APPRENDER/OPENCLASSROOMS/PARCOURS DA/P5_Etude_de_marche/pop18b.csv')"
   ]
  },
  {
   "cell_type": "markdown",
   "metadata": {},
   "source": [
    "## Préparation des autres données"
   ]
  },
  {
   "cell_type": "code",
   "execution_count": 228,
   "metadata": {},
   "outputs": [],
   "source": [
    "# Import des données des bilans alimentaires 2017 \n",
    "veg = pd.read_csv(\"C:/Users/Zang/Documents/APPRENDER/OPENCLASSROOMS/PARCOURS DA/P5_Etude_de_marche/2017ani.csv\")\n",
    "ani = pd.read_csv(\"C:/Users/Zang/Documents/APPRENDER/OPENCLASSROOMS/PARCOURS DA/P5_Etude_de_marche/2017veg.csv\")"
   ]
  },
  {
   "cell_type": "code",
   "execution_count": 229,
   "metadata": {},
   "outputs": [],
   "source": [
    "# Ajout de la variable origin\n",
    "ani[\"origin\"] = \"animal\"\n",
    "veg[\"origin\"] = \"vegetal\""
   ]
  },
  {
   "cell_type": "code",
   "execution_count": 230,
   "metadata": {},
   "outputs": [],
   "source": [
    "# On regroupe veg et ani en un unique dataframe, via une union\n",
    "temp = ani.append(veg)"
   ]
  },
  {
   "cell_type": "code",
   "execution_count": 231,
   "metadata": {},
   "outputs": [],
   "source": [
    "# Suppression de ani et veg\n",
    "del ani, veg"
   ]
  },
  {
   "cell_type": "code",
   "execution_count": 232,
   "metadata": {},
   "outputs": [],
   "source": [
    "# On renomme les colonnes de temp\n",
    "temp.columns = [\"xx\",\"xx2\",\"country_code\",\"country\",'xx3','element','item_code','item','xx4',\"year\",\"unit\",\"value\"\n",
    "                ,'origin']"
   ]
  },
  {
   "cell_type": "code",
   "execution_count": 233,
   "metadata": {},
   "outputs": [
    {
     "data": {
      "text/html": [
       "<div>\n",
       "<style scoped>\n",
       "    .dataframe tbody tr th:only-of-type {\n",
       "        vertical-align: middle;\n",
       "    }\n",
       "\n",
       "    .dataframe tbody tr th {\n",
       "        vertical-align: top;\n",
       "    }\n",
       "\n",
       "    .dataframe thead th {\n",
       "        text-align: right;\n",
       "    }\n",
       "</style>\n",
       "<table border=\"1\" class=\"dataframe\">\n",
       "  <thead>\n",
       "    <tr style=\"text-align: right;\">\n",
       "      <th></th>\n",
       "      <th>xx</th>\n",
       "      <th>xx2</th>\n",
       "      <th>country_code</th>\n",
       "      <th>country</th>\n",
       "      <th>xx3</th>\n",
       "      <th>element</th>\n",
       "      <th>item_code</th>\n",
       "      <th>item</th>\n",
       "      <th>xx4</th>\n",
       "      <th>year</th>\n",
       "      <th>unit</th>\n",
       "      <th>value</th>\n",
       "      <th>origin</th>\n",
       "    </tr>\n",
       "  </thead>\n",
       "  <tbody>\n",
       "    <tr>\n",
       "      <th>0</th>\n",
       "      <td>FBS</td>\n",
       "      <td>Nouveaux Bilans Alimentaire</td>\n",
       "      <td>2</td>\n",
       "      <td>Afghanistan</td>\n",
       "      <td>664</td>\n",
       "      <td>Disponibilité alimentaire (Kcal/personne/jour)</td>\n",
       "      <td>2511</td>\n",
       "      <td>Blé</td>\n",
       "      <td>2017</td>\n",
       "      <td>2017</td>\n",
       "      <td>Kcal/personne/jour</td>\n",
       "      <td>1331.00</td>\n",
       "      <td>animal</td>\n",
       "    </tr>\n",
       "    <tr>\n",
       "      <th>1</th>\n",
       "      <td>FBS</td>\n",
       "      <td>Nouveaux Bilans Alimentaire</td>\n",
       "      <td>2</td>\n",
       "      <td>Afghanistan</td>\n",
       "      <td>674</td>\n",
       "      <td>Disponibilité de protéines en quantité (g/pers...</td>\n",
       "      <td>2511</td>\n",
       "      <td>Blé</td>\n",
       "      <td>2017</td>\n",
       "      <td>2017</td>\n",
       "      <td>g/personne/jour</td>\n",
       "      <td>35.88</td>\n",
       "      <td>animal</td>\n",
       "    </tr>\n",
       "    <tr>\n",
       "      <th>2</th>\n",
       "      <td>FBS</td>\n",
       "      <td>Nouveaux Bilans Alimentaire</td>\n",
       "      <td>2</td>\n",
       "      <td>Afghanistan</td>\n",
       "      <td>664</td>\n",
       "      <td>Disponibilité alimentaire (Kcal/personne/jour)</td>\n",
       "      <td>2805</td>\n",
       "      <td>Riz (Eq Blanchi)</td>\n",
       "      <td>2017</td>\n",
       "      <td>2017</td>\n",
       "      <td>Kcal/personne/jour</td>\n",
       "      <td>135.00</td>\n",
       "      <td>animal</td>\n",
       "    </tr>\n",
       "    <tr>\n",
       "      <th>3</th>\n",
       "      <td>FBS</td>\n",
       "      <td>Nouveaux Bilans Alimentaire</td>\n",
       "      <td>2</td>\n",
       "      <td>Afghanistan</td>\n",
       "      <td>674</td>\n",
       "      <td>Disponibilité de protéines en quantité (g/pers...</td>\n",
       "      <td>2805</td>\n",
       "      <td>Riz (Eq Blanchi)</td>\n",
       "      <td>2017</td>\n",
       "      <td>2017</td>\n",
       "      <td>g/personne/jour</td>\n",
       "      <td>2.58</td>\n",
       "      <td>animal</td>\n",
       "    </tr>\n",
       "    <tr>\n",
       "      <th>4</th>\n",
       "      <td>FBS</td>\n",
       "      <td>Nouveaux Bilans Alimentaire</td>\n",
       "      <td>2</td>\n",
       "      <td>Afghanistan</td>\n",
       "      <td>664</td>\n",
       "      <td>Disponibilité alimentaire (Kcal/personne/jour)</td>\n",
       "      <td>2513</td>\n",
       "      <td>Orge</td>\n",
       "      <td>2017</td>\n",
       "      <td>2017</td>\n",
       "      <td>Kcal/personne/jour</td>\n",
       "      <td>5.00</td>\n",
       "      <td>animal</td>\n",
       "    </tr>\n",
       "  </tbody>\n",
       "</table>\n",
       "</div>"
      ],
      "text/plain": [
       "    xx                          xx2  country_code      country  xx3  \\\n",
       "0  FBS  Nouveaux Bilans Alimentaire             2  Afghanistan  664   \n",
       "1  FBS  Nouveaux Bilans Alimentaire             2  Afghanistan  674   \n",
       "2  FBS  Nouveaux Bilans Alimentaire             2  Afghanistan  664   \n",
       "3  FBS  Nouveaux Bilans Alimentaire             2  Afghanistan  674   \n",
       "4  FBS  Nouveaux Bilans Alimentaire             2  Afghanistan  664   \n",
       "\n",
       "                                             element  item_code  \\\n",
       "0     Disponibilité alimentaire (Kcal/personne/jour)       2511   \n",
       "1  Disponibilité de protéines en quantité (g/pers...       2511   \n",
       "2     Disponibilité alimentaire (Kcal/personne/jour)       2805   \n",
       "3  Disponibilité de protéines en quantité (g/pers...       2805   \n",
       "4     Disponibilité alimentaire (Kcal/personne/jour)       2513   \n",
       "\n",
       "               item   xx4  year                unit    value  origin  \n",
       "0               Blé  2017  2017  Kcal/personne/jour  1331.00  animal  \n",
       "1               Blé  2017  2017     g/personne/jour    35.88  animal  \n",
       "2  Riz (Eq Blanchi)  2017  2017  Kcal/personne/jour   135.00  animal  \n",
       "3  Riz (Eq Blanchi)  2017  2017     g/personne/jour     2.58  animal  \n",
       "4              Orge  2017  2017  Kcal/personne/jour     5.00  animal  "
      ]
     },
     "execution_count": 233,
     "metadata": {},
     "output_type": "execute_result"
    }
   ],
   "source": [
    "temp.head()"
   ]
  },
  {
   "cell_type": "code",
   "execution_count": 234,
   "metadata": {},
   "outputs": [],
   "source": [
    "# Transformation de temp en table pivot\n",
    "data = temp.pivot_table(index=[\"country_code\",\"country\",\"item_code\",\"item\",\"year\",\"origin\"],\n",
    "                        columns = [\"element\"], \n",
    "                        values=[\"value\"],\n",
    "                        aggfunc=sum)"
   ]
  },
  {
   "cell_type": "code",
   "execution_count": 24,
   "metadata": {},
   "outputs": [
    {
     "data": {
      "text/html": [
       "<div>\n",
       "<style scoped>\n",
       "    .dataframe tbody tr th:only-of-type {\n",
       "        vertical-align: middle;\n",
       "    }\n",
       "\n",
       "    .dataframe tbody tr th {\n",
       "        vertical-align: top;\n",
       "    }\n",
       "\n",
       "    .dataframe thead tr th {\n",
       "        text-align: left;\n",
       "    }\n",
       "\n",
       "    .dataframe thead tr:last-of-type th {\n",
       "        text-align: right;\n",
       "    }\n",
       "</style>\n",
       "<table border=\"1\" class=\"dataframe\">\n",
       "  <thead>\n",
       "    <tr>\n",
       "      <th></th>\n",
       "      <th></th>\n",
       "      <th></th>\n",
       "      <th></th>\n",
       "      <th></th>\n",
       "      <th></th>\n",
       "      <th colspan=\"2\" halign=\"left\">value</th>\n",
       "    </tr>\n",
       "    <tr>\n",
       "      <th></th>\n",
       "      <th></th>\n",
       "      <th></th>\n",
       "      <th></th>\n",
       "      <th></th>\n",
       "      <th>element</th>\n",
       "      <th>Disponibilité alimentaire (Kcal/personne/jour)</th>\n",
       "      <th>Disponibilité de protéines en quantité (g/personne/jour)</th>\n",
       "    </tr>\n",
       "    <tr>\n",
       "      <th>country_code</th>\n",
       "      <th>country</th>\n",
       "      <th>item_code</th>\n",
       "      <th>item</th>\n",
       "      <th>year</th>\n",
       "      <th>origin</th>\n",
       "      <th></th>\n",
       "      <th></th>\n",
       "    </tr>\n",
       "  </thead>\n",
       "  <tbody>\n",
       "    <tr>\n",
       "      <th rowspan=\"5\" valign=\"top\">1</th>\n",
       "      <th rowspan=\"5\" valign=\"top\">Arménie</th>\n",
       "      <th>2511</th>\n",
       "      <th>Blé</th>\n",
       "      <th>2017</th>\n",
       "      <th>animal</th>\n",
       "      <td>1053.0</td>\n",
       "      <td>31.35</td>\n",
       "    </tr>\n",
       "    <tr>\n",
       "      <th>2513</th>\n",
       "      <th>Orge</th>\n",
       "      <th>2017</th>\n",
       "      <th>animal</th>\n",
       "      <td>4.0</td>\n",
       "      <td>0.15</td>\n",
       "    </tr>\n",
       "    <tr>\n",
       "      <th>2514</th>\n",
       "      <th>Maïs</th>\n",
       "      <th>2017</th>\n",
       "      <th>animal</th>\n",
       "      <td>68.0</td>\n",
       "      <td>2.64</td>\n",
       "    </tr>\n",
       "    <tr>\n",
       "      <th>2515</th>\n",
       "      <th>Seigle</th>\n",
       "      <th>2017</th>\n",
       "      <th>animal</th>\n",
       "      <td>1.0</td>\n",
       "      <td>0.03</td>\n",
       "    </tr>\n",
       "    <tr>\n",
       "      <th>2516</th>\n",
       "      <th>Avoine</th>\n",
       "      <th>2017</th>\n",
       "      <th>animal</th>\n",
       "      <td>7.0</td>\n",
       "      <td>0.26</td>\n",
       "    </tr>\n",
       "  </tbody>\n",
       "</table>\n",
       "</div>"
      ],
      "text/plain": [
       "                                                                                           value  \\\n",
       "element                                           Disponibilité alimentaire (Kcal/personne/jour)   \n",
       "country_code country item_code item   year origin                                                  \n",
       "1            Arménie 2511      Blé    2017 animal                                         1053.0   \n",
       "                     2513      Orge   2017 animal                                            4.0   \n",
       "                     2514      Maïs   2017 animal                                           68.0   \n",
       "                     2515      Seigle 2017 animal                                            1.0   \n",
       "                     2516      Avoine 2017 animal                                            7.0   \n",
       "\n",
       "                                                                                                            \n",
       "element                                           Disponibilité de protéines en quantité (g/personne/jour)  \n",
       "country_code country item_code item   year origin                                                           \n",
       "1            Arménie 2511      Blé    2017 animal                                              31.35        \n",
       "                     2513      Orge   2017 animal                                               0.15        \n",
       "                     2514      Maïs   2017 animal                                               2.64        \n",
       "                     2515      Seigle 2017 animal                                               0.03        \n",
       "                     2516      Avoine 2017 animal                                               0.26        "
      ]
     },
     "execution_count": 24,
     "metadata": {},
     "output_type": "execute_result"
    }
   ],
   "source": [
    "data.head()"
   ]
  },
  {
   "cell_type": "code",
   "execution_count": 235,
   "metadata": {},
   "outputs": [],
   "source": [
    "# Suppression de temp\n",
    "del temp"
   ]
  },
  {
   "cell_type": "code",
   "execution_count": 236,
   "metadata": {},
   "outputs": [],
   "source": [
    "# On renomme les colonnes\n",
    "data.columns = ['dispo_ALI_(kcal/pers/j)', 'dispo_PROT_(g/pers/j)']"
   ]
  },
  {
   "cell_type": "code",
   "execution_count": 237,
   "metadata": {},
   "outputs": [],
   "source": [
    "data = data.reset_index()"
   ]
  },
  {
   "cell_type": "code",
   "execution_count": 109,
   "metadata": {},
   "outputs": [
    {
     "data": {
      "text/html": [
       "<div>\n",
       "<style scoped>\n",
       "    .dataframe tbody tr th:only-of-type {\n",
       "        vertical-align: middle;\n",
       "    }\n",
       "\n",
       "    .dataframe tbody tr th {\n",
       "        vertical-align: top;\n",
       "    }\n",
       "\n",
       "    .dataframe thead th {\n",
       "        text-align: right;\n",
       "    }\n",
       "</style>\n",
       "<table border=\"1\" class=\"dataframe\">\n",
       "  <thead>\n",
       "    <tr style=\"text-align: right;\">\n",
       "      <th></th>\n",
       "      <th>country_code</th>\n",
       "      <th>country</th>\n",
       "      <th>item_code</th>\n",
       "      <th>item</th>\n",
       "      <th>year</th>\n",
       "      <th>origin</th>\n",
       "      <th>dispo_ALI_(kcal/pers/j)</th>\n",
       "      <th>dispo_PROT_(g/pers/j)</th>\n",
       "    </tr>\n",
       "  </thead>\n",
       "  <tbody>\n",
       "    <tr>\n",
       "      <th>0</th>\n",
       "      <td>1</td>\n",
       "      <td>Arménie</td>\n",
       "      <td>2511</td>\n",
       "      <td>Blé</td>\n",
       "      <td>2017</td>\n",
       "      <td>animal</td>\n",
       "      <td>1053.0</td>\n",
       "      <td>31.35</td>\n",
       "    </tr>\n",
       "    <tr>\n",
       "      <th>1</th>\n",
       "      <td>1</td>\n",
       "      <td>Arménie</td>\n",
       "      <td>2513</td>\n",
       "      <td>Orge</td>\n",
       "      <td>2017</td>\n",
       "      <td>animal</td>\n",
       "      <td>4.0</td>\n",
       "      <td>0.15</td>\n",
       "    </tr>\n",
       "    <tr>\n",
       "      <th>2</th>\n",
       "      <td>1</td>\n",
       "      <td>Arménie</td>\n",
       "      <td>2514</td>\n",
       "      <td>Maïs</td>\n",
       "      <td>2017</td>\n",
       "      <td>animal</td>\n",
       "      <td>68.0</td>\n",
       "      <td>2.64</td>\n",
       "    </tr>\n",
       "    <tr>\n",
       "      <th>3</th>\n",
       "      <td>1</td>\n",
       "      <td>Arménie</td>\n",
       "      <td>2515</td>\n",
       "      <td>Seigle</td>\n",
       "      <td>2017</td>\n",
       "      <td>animal</td>\n",
       "      <td>1.0</td>\n",
       "      <td>0.03</td>\n",
       "    </tr>\n",
       "    <tr>\n",
       "      <th>4</th>\n",
       "      <td>1</td>\n",
       "      <td>Arménie</td>\n",
       "      <td>2516</td>\n",
       "      <td>Avoine</td>\n",
       "      <td>2017</td>\n",
       "      <td>animal</td>\n",
       "      <td>7.0</td>\n",
       "      <td>0.26</td>\n",
       "    </tr>\n",
       "  </tbody>\n",
       "</table>\n",
       "</div>"
      ],
      "text/plain": [
       "   country_code  country  item_code    item  year  origin  \\\n",
       "0             1  Arménie       2511     Blé  2017  animal   \n",
       "1             1  Arménie       2513    Orge  2017  animal   \n",
       "2             1  Arménie       2514    Maïs  2017  animal   \n",
       "3             1  Arménie       2515  Seigle  2017  animal   \n",
       "4             1  Arménie       2516  Avoine  2017  animal   \n",
       "\n",
       "   dispo_ALI_(kcal/pers/j)  dispo_PROT_(g/pers/j)  \n",
       "0                   1053.0                  31.35  \n",
       "1                      4.0                   0.15  \n",
       "2                     68.0                   2.64  \n",
       "3                      1.0                   0.03  \n",
       "4                      7.0                   0.26  "
      ]
     },
     "execution_count": 109,
     "metadata": {},
     "output_type": "execute_result"
    }
   ],
   "source": [
    "data.head()"
   ]
  },
  {
   "cell_type": "code",
   "execution_count": 110,
   "metadata": {},
   "outputs": [
    {
     "data": {
      "text/plain": [
       "(14602, 8)"
      ]
     },
     "execution_count": 110,
     "metadata": {},
     "output_type": "execute_result"
    }
   ],
   "source": [
    "data.shape"
   ]
  },
  {
   "cell_type": "markdown",
   "metadata": {},
   "source": [
    "## 1.2. Disponibilité alimentaire en calories par habitant"
   ]
  },
  {
   "cell_type": "code",
   "execution_count": 252,
   "metadata": {},
   "outputs": [],
   "source": [
    "# le gb suivant celui-ci est préférable\n",
    "# groupby sur dispo ali\n",
    "# dalcal = data.groupby(['country_code']).sum().filter(['dispo ALI (kcal/pers/j)'])"
   ]
  },
  {
   "cell_type": "code",
   "execution_count": 238,
   "metadata": {},
   "outputs": [],
   "source": [
    "# Je créé un df \n",
    "dalcal = data.groupby(['country_code', 'country']).agg({'dispo_ALI_(kcal/pers/j)':'sum'}).reset_index()"
   ]
  },
  {
   "cell_type": "code",
   "execution_count": 239,
   "metadata": {},
   "outputs": [
    {
     "data": {
      "text/html": [
       "<div>\n",
       "<style scoped>\n",
       "    .dataframe tbody tr th:only-of-type {\n",
       "        vertical-align: middle;\n",
       "    }\n",
       "\n",
       "    .dataframe tbody tr th {\n",
       "        vertical-align: top;\n",
       "    }\n",
       "\n",
       "    .dataframe thead th {\n",
       "        text-align: right;\n",
       "    }\n",
       "</style>\n",
       "<table border=\"1\" class=\"dataframe\">\n",
       "  <thead>\n",
       "    <tr style=\"text-align: right;\">\n",
       "      <th></th>\n",
       "      <th>country_code</th>\n",
       "      <th>country</th>\n",
       "      <th>dispo_ALI_(kcal/pers/j)</th>\n",
       "    </tr>\n",
       "  </thead>\n",
       "  <tbody>\n",
       "    <tr>\n",
       "      <th>0</th>\n",
       "      <td>1</td>\n",
       "      <td>Arménie</td>\n",
       "      <td>3072.0</td>\n",
       "    </tr>\n",
       "    <tr>\n",
       "      <th>1</th>\n",
       "      <td>2</td>\n",
       "      <td>Afghanistan</td>\n",
       "      <td>1997.0</td>\n",
       "    </tr>\n",
       "    <tr>\n",
       "      <th>2</th>\n",
       "      <td>3</td>\n",
       "      <td>Albanie</td>\n",
       "      <td>3400.0</td>\n",
       "    </tr>\n",
       "    <tr>\n",
       "      <th>3</th>\n",
       "      <td>4</td>\n",
       "      <td>Algérie</td>\n",
       "      <td>3345.0</td>\n",
       "    </tr>\n",
       "    <tr>\n",
       "      <th>4</th>\n",
       "      <td>7</td>\n",
       "      <td>Angola</td>\n",
       "      <td>2266.0</td>\n",
       "    </tr>\n",
       "  </tbody>\n",
       "</table>\n",
       "</div>"
      ],
      "text/plain": [
       "   country_code      country  dispo_ALI_(kcal/pers/j)\n",
       "0             1      Arménie                   3072.0\n",
       "1             2  Afghanistan                   1997.0\n",
       "2             3      Albanie                   3400.0\n",
       "3             4      Algérie                   3345.0\n",
       "4             7       Angola                   2266.0"
      ]
     },
     "execution_count": 239,
     "metadata": {},
     "output_type": "execute_result"
    }
   ],
   "source": [
    "dalcal.head()"
   ]
  },
  {
   "cell_type": "code",
   "execution_count": 240,
   "metadata": {},
   "outputs": [
    {
     "data": {
      "text/plain": [
       "(173, 3)"
      ]
     },
     "execution_count": 240,
     "metadata": {},
     "output_type": "execute_result"
    }
   ],
   "source": [
    "dalcal.shape"
   ]
  },
  {
   "cell_type": "code",
   "execution_count": 241,
   "metadata": {},
   "outputs": [],
   "source": [
    "# Il y a plus de lignes dans pop, je vérifie pourquoi\n",
    "verifc = pd.merge(dalcal, pop, left_on='country_code', right_on='Code zone', how='outer')"
   ]
  },
  {
   "cell_type": "code",
   "execution_count": 242,
   "metadata": {},
   "outputs": [
    {
     "data": {
      "text/plain": [
       "country_code               64\n",
       "country                    64\n",
       "dispo_ALI_(kcal/pers/j)    64\n",
       "Code zone                   1\n",
       "Zone                        1\n",
       "pop_2013                    1\n",
       "pop_2017                    1\n",
       "ratio_evol_pop              1\n",
       "dtype: int64"
      ]
     },
     "execution_count": 242,
     "metadata": {},
     "output_type": "execute_result"
    }
   ],
   "source": [
    "verifc.isnull().sum()"
   ]
  },
  {
   "cell_type": "code",
   "execution_count": 243,
   "metadata": {},
   "outputs": [
    {
     "data": {
      "text/html": [
       "<div>\n",
       "<style scoped>\n",
       "    .dataframe tbody tr th:only-of-type {\n",
       "        vertical-align: middle;\n",
       "    }\n",
       "\n",
       "    .dataframe tbody tr th {\n",
       "        vertical-align: top;\n",
       "    }\n",
       "\n",
       "    .dataframe thead th {\n",
       "        text-align: right;\n",
       "    }\n",
       "</style>\n",
       "<table border=\"1\" class=\"dataframe\">\n",
       "  <thead>\n",
       "    <tr style=\"text-align: right;\">\n",
       "      <th></th>\n",
       "      <th>country_code</th>\n",
       "      <th>country</th>\n",
       "      <th>dispo_ALI_(kcal/pers/j)</th>\n",
       "      <th>Code zone</th>\n",
       "      <th>Zone</th>\n",
       "      <th>pop_2013</th>\n",
       "      <th>pop_2017</th>\n",
       "      <th>ratio_evol_pop</th>\n",
       "    </tr>\n",
       "  </thead>\n",
       "  <tbody>\n",
       "    <tr>\n",
       "      <th>173</th>\n",
       "      <td>NaN</td>\n",
       "      <td>NaN</td>\n",
       "      <td>NaN</td>\n",
       "      <td>5.0</td>\n",
       "      <td>Samoa américaines</td>\n",
       "      <td>55713.0</td>\n",
       "      <td>55620.0</td>\n",
       "      <td>-0.001669</td>\n",
       "    </tr>\n",
       "    <tr>\n",
       "      <th>174</th>\n",
       "      <td>NaN</td>\n",
       "      <td>NaN</td>\n",
       "      <td>NaN</td>\n",
       "      <td>6.0</td>\n",
       "      <td>Andorre</td>\n",
       "      <td>80774.0</td>\n",
       "      <td>77001.0</td>\n",
       "      <td>-0.046711</td>\n",
       "    </tr>\n",
       "    <tr>\n",
       "      <th>175</th>\n",
       "      <td>NaN</td>\n",
       "      <td>NaN</td>\n",
       "      <td>NaN</td>\n",
       "      <td>13.0</td>\n",
       "      <td>Bahreïn</td>\n",
       "      <td>1315027.0</td>\n",
       "      <td>1494076.0</td>\n",
       "      <td>0.136156</td>\n",
       "    </tr>\n",
       "    <tr>\n",
       "      <th>176</th>\n",
       "      <td>NaN</td>\n",
       "      <td>NaN</td>\n",
       "      <td>NaN</td>\n",
       "      <td>17.0</td>\n",
       "      <td>Bermudes</td>\n",
       "      <td>64386.0</td>\n",
       "      <td>63049.0</td>\n",
       "      <td>-0.020765</td>\n",
       "    </tr>\n",
       "    <tr>\n",
       "      <th>177</th>\n",
       "      <td>NaN</td>\n",
       "      <td>NaN</td>\n",
       "      <td>NaN</td>\n",
       "      <td>18.0</td>\n",
       "      <td>Bhoutan</td>\n",
       "      <td>710237.0</td>\n",
       "      <td>745563.0</td>\n",
       "      <td>0.049738</td>\n",
       "    </tr>\n",
       "    <tr>\n",
       "      <th>178</th>\n",
       "      <td>NaN</td>\n",
       "      <td>NaN</td>\n",
       "      <td>NaN</td>\n",
       "      <td>22.0</td>\n",
       "      <td>Aruba</td>\n",
       "      <td>103158.0</td>\n",
       "      <td>105366.0</td>\n",
       "      <td>0.021404</td>\n",
       "    </tr>\n",
       "    <tr>\n",
       "      <th>179</th>\n",
       "      <td>NaN</td>\n",
       "      <td>NaN</td>\n",
       "      <td>NaN</td>\n",
       "      <td>26.0</td>\n",
       "      <td>Brunéi Darussalam</td>\n",
       "      <td>404421.0</td>\n",
       "      <td>424473.0</td>\n",
       "      <td>0.049582</td>\n",
       "    </tr>\n",
       "    <tr>\n",
       "      <th>180</th>\n",
       "      <td>NaN</td>\n",
       "      <td>NaN</td>\n",
       "      <td>NaN</td>\n",
       "      <td>29.0</td>\n",
       "      <td>Burundi</td>\n",
       "      <td>9540291.0</td>\n",
       "      <td>10827018.0</td>\n",
       "      <td>0.134873</td>\n",
       "    </tr>\n",
       "    <tr>\n",
       "      <th>181</th>\n",
       "      <td>NaN</td>\n",
       "      <td>NaN</td>\n",
       "      <td>NaN</td>\n",
       "      <td>36.0</td>\n",
       "      <td>Îles Caïmanes</td>\n",
       "      <td>59931.0</td>\n",
       "      <td>63382.0</td>\n",
       "      <td>0.057583</td>\n",
       "    </tr>\n",
       "    <tr>\n",
       "      <th>182</th>\n",
       "      <td>NaN</td>\n",
       "      <td>NaN</td>\n",
       "      <td>NaN</td>\n",
       "      <td>45.0</td>\n",
       "      <td>Comores</td>\n",
       "      <td>741505.0</td>\n",
       "      <td>813891.0</td>\n",
       "      <td>0.097620</td>\n",
       "    </tr>\n",
       "    <tr>\n",
       "      <th>183</th>\n",
       "      <td>NaN</td>\n",
       "      <td>NaN</td>\n",
       "      <td>NaN</td>\n",
       "      <td>47.0</td>\n",
       "      <td>Îles Cook</td>\n",
       "      <td>17833.0</td>\n",
       "      <td>17507.0</td>\n",
       "      <td>-0.018281</td>\n",
       "    </tr>\n",
       "    <tr>\n",
       "      <th>184</th>\n",
       "      <td>NaN</td>\n",
       "      <td>NaN</td>\n",
       "      <td>NaN</td>\n",
       "      <td>61.0</td>\n",
       "      <td>Guinée équatoriale</td>\n",
       "      <td>1076413.0</td>\n",
       "      <td>1262002.0</td>\n",
       "      <td>0.172414</td>\n",
       "    </tr>\n",
       "    <tr>\n",
       "      <th>185</th>\n",
       "      <td>NaN</td>\n",
       "      <td>NaN</td>\n",
       "      <td>NaN</td>\n",
       "      <td>64.0</td>\n",
       "      <td>Îles Féroé</td>\n",
       "      <td>47891.0</td>\n",
       "      <td>48331.0</td>\n",
       "      <td>0.009188</td>\n",
       "    </tr>\n",
       "    <tr>\n",
       "      <th>186</th>\n",
       "      <td>NaN</td>\n",
       "      <td>NaN</td>\n",
       "      <td>NaN</td>\n",
       "      <td>65.0</td>\n",
       "      <td>Îles Falkland (Malvinas)</td>\n",
       "      <td>2793.0</td>\n",
       "      <td>3068.0</td>\n",
       "      <td>0.098460</td>\n",
       "    </tr>\n",
       "    <tr>\n",
       "      <th>187</th>\n",
       "      <td>NaN</td>\n",
       "      <td>NaN</td>\n",
       "      <td>NaN</td>\n",
       "      <td>69.0</td>\n",
       "      <td>Guyane française</td>\n",
       "      <td>249054.0</td>\n",
       "      <td>275191.0</td>\n",
       "      <td>0.104945</td>\n",
       "    </tr>\n",
       "    <tr>\n",
       "      <th>188</th>\n",
       "      <td>NaN</td>\n",
       "      <td>NaN</td>\n",
       "      <td>NaN</td>\n",
       "      <td>82.0</td>\n",
       "      <td>Gibraltar</td>\n",
       "      <td>33692.0</td>\n",
       "      <td>33728.0</td>\n",
       "      <td>0.001069</td>\n",
       "    </tr>\n",
       "    <tr>\n",
       "      <th>189</th>\n",
       "      <td>NaN</td>\n",
       "      <td>NaN</td>\n",
       "      <td>NaN</td>\n",
       "      <td>85.0</td>\n",
       "      <td>Groenland</td>\n",
       "      <td>56413.0</td>\n",
       "      <td>56481.0</td>\n",
       "      <td>0.001205</td>\n",
       "    </tr>\n",
       "    <tr>\n",
       "      <th>190</th>\n",
       "      <td>NaN</td>\n",
       "      <td>NaN</td>\n",
       "      <td>NaN</td>\n",
       "      <td>87.0</td>\n",
       "      <td>Guadeloupe</td>\n",
       "      <td>402829.0</td>\n",
       "      <td>399671.0</td>\n",
       "      <td>-0.007840</td>\n",
       "    </tr>\n",
       "    <tr>\n",
       "      <th>191</th>\n",
       "      <td>NaN</td>\n",
       "      <td>NaN</td>\n",
       "      <td>NaN</td>\n",
       "      <td>88.0</td>\n",
       "      <td>Guam</td>\n",
       "      <td>160407.0</td>\n",
       "      <td>164280.0</td>\n",
       "      <td>0.024145</td>\n",
       "    </tr>\n",
       "    <tr>\n",
       "      <th>192</th>\n",
       "      <td>NaN</td>\n",
       "      <td>NaN</td>\n",
       "      <td>NaN</td>\n",
       "      <td>94.0</td>\n",
       "      <td>Saint-Siège</td>\n",
       "      <td>800.0</td>\n",
       "      <td>792.0</td>\n",
       "      <td>-0.010000</td>\n",
       "    </tr>\n",
       "    <tr>\n",
       "      <th>193</th>\n",
       "      <td>NaN</td>\n",
       "      <td>NaN</td>\n",
       "      <td>NaN</td>\n",
       "      <td>124.0</td>\n",
       "      <td>Libye</td>\n",
       "      <td>6320360.0</td>\n",
       "      <td>6580724.0</td>\n",
       "      <td>0.041194</td>\n",
       "    </tr>\n",
       "    <tr>\n",
       "      <th>194</th>\n",
       "      <td>NaN</td>\n",
       "      <td>NaN</td>\n",
       "      <td>NaN</td>\n",
       "      <td>125.0</td>\n",
       "      <td>Liechtenstein</td>\n",
       "      <td>36934.0</td>\n",
       "      <td>37800.0</td>\n",
       "      <td>0.023447</td>\n",
       "    </tr>\n",
       "    <tr>\n",
       "      <th>195</th>\n",
       "      <td>NaN</td>\n",
       "      <td>NaN</td>\n",
       "      <td>NaN</td>\n",
       "      <td>127.0</td>\n",
       "      <td>Îles Marshall</td>\n",
       "      <td>56938.0</td>\n",
       "      <td>58058.0</td>\n",
       "      <td>0.019671</td>\n",
       "    </tr>\n",
       "    <tr>\n",
       "      <th>196</th>\n",
       "      <td>NaN</td>\n",
       "      <td>NaN</td>\n",
       "      <td>NaN</td>\n",
       "      <td>135.0</td>\n",
       "      <td>Martinique</td>\n",
       "      <td>384575.0</td>\n",
       "      <td>375948.0</td>\n",
       "      <td>-0.022433</td>\n",
       "    </tr>\n",
       "    <tr>\n",
       "      <th>197</th>\n",
       "      <td>NaN</td>\n",
       "      <td>NaN</td>\n",
       "      <td>NaN</td>\n",
       "      <td>140.0</td>\n",
       "      <td>Monaco</td>\n",
       "      <td>36900.0</td>\n",
       "      <td>38391.0</td>\n",
       "      <td>0.040407</td>\n",
       "    </tr>\n",
       "    <tr>\n",
       "      <th>198</th>\n",
       "      <td>NaN</td>\n",
       "      <td>NaN</td>\n",
       "      <td>NaN</td>\n",
       "      <td>142.0</td>\n",
       "      <td>Montserrat</td>\n",
       "      <td>4944.0</td>\n",
       "      <td>4984.0</td>\n",
       "      <td>0.008091</td>\n",
       "    </tr>\n",
       "    <tr>\n",
       "      <th>199</th>\n",
       "      <td>NaN</td>\n",
       "      <td>NaN</td>\n",
       "      <td>NaN</td>\n",
       "      <td>145.0</td>\n",
       "      <td>Micronésie (États fédérés de)</td>\n",
       "      <td>105926.0</td>\n",
       "      <td>111459.0</td>\n",
       "      <td>0.052235</td>\n",
       "    </tr>\n",
       "    <tr>\n",
       "      <th>200</th>\n",
       "      <td>NaN</td>\n",
       "      <td>NaN</td>\n",
       "      <td>NaN</td>\n",
       "      <td>148.0</td>\n",
       "      <td>Nauru</td>\n",
       "      <td>10209.0</td>\n",
       "      <td>10573.0</td>\n",
       "      <td>0.035655</td>\n",
       "    </tr>\n",
       "    <tr>\n",
       "      <th>201</th>\n",
       "      <td>NaN</td>\n",
       "      <td>NaN</td>\n",
       "      <td>NaN</td>\n",
       "      <td>151.0</td>\n",
       "      <td>Antilles néerlandaises (ex)</td>\n",
       "      <td>263872.0</td>\n",
       "      <td>275186.0</td>\n",
       "      <td>0.042877</td>\n",
       "    </tr>\n",
       "    <tr>\n",
       "      <th>202</th>\n",
       "      <td>NaN</td>\n",
       "      <td>NaN</td>\n",
       "      <td>NaN</td>\n",
       "      <td>160.0</td>\n",
       "      <td>Nioué</td>\n",
       "      <td>1611.0</td>\n",
       "      <td>1609.0</td>\n",
       "      <td>-0.001241</td>\n",
       "    </tr>\n",
       "    <tr>\n",
       "      <th>203</th>\n",
       "      <td>NaN</td>\n",
       "      <td>NaN</td>\n",
       "      <td>NaN</td>\n",
       "      <td>163.0</td>\n",
       "      <td>Îles Mariannes du Nord</td>\n",
       "      <td>54784.0</td>\n",
       "      <td>56562.0</td>\n",
       "      <td>0.032455</td>\n",
       "    </tr>\n",
       "    <tr>\n",
       "      <th>204</th>\n",
       "      <td>NaN</td>\n",
       "      <td>NaN</td>\n",
       "      <td>NaN</td>\n",
       "      <td>168.0</td>\n",
       "      <td>Papouasie-Nouvelle-Guinée</td>\n",
       "      <td>7788380.0</td>\n",
       "      <td>8438036.0</td>\n",
       "      <td>0.083413</td>\n",
       "    </tr>\n",
       "    <tr>\n",
       "      <th>205</th>\n",
       "      <td>NaN</td>\n",
       "      <td>NaN</td>\n",
       "      <td>NaN</td>\n",
       "      <td>177.0</td>\n",
       "      <td>Porto Rico</td>\n",
       "      <td>3503857.0</td>\n",
       "      <td>3163667.0</td>\n",
       "      <td>-0.097090</td>\n",
       "    </tr>\n",
       "    <tr>\n",
       "      <th>206</th>\n",
       "      <td>NaN</td>\n",
       "      <td>NaN</td>\n",
       "      <td>NaN</td>\n",
       "      <td>178.0</td>\n",
       "      <td>Érythrée</td>\n",
       "      <td>3281449.0</td>\n",
       "      <td>3412893.0</td>\n",
       "      <td>0.040057</td>\n",
       "    </tr>\n",
       "    <tr>\n",
       "      <th>207</th>\n",
       "      <td>NaN</td>\n",
       "      <td>NaN</td>\n",
       "      <td>NaN</td>\n",
       "      <td>179.0</td>\n",
       "      <td>Qatar</td>\n",
       "      <td>2336574.0</td>\n",
       "      <td>2724728.0</td>\n",
       "      <td>0.166121</td>\n",
       "    </tr>\n",
       "    <tr>\n",
       "      <th>208</th>\n",
       "      <td>NaN</td>\n",
       "      <td>NaN</td>\n",
       "      <td>NaN</td>\n",
       "      <td>180.0</td>\n",
       "      <td>Palaos</td>\n",
       "      <td>17605.0</td>\n",
       "      <td>17808.0</td>\n",
       "      <td>0.011531</td>\n",
       "    </tr>\n",
       "    <tr>\n",
       "      <th>209</th>\n",
       "      <td>NaN</td>\n",
       "      <td>NaN</td>\n",
       "      <td>NaN</td>\n",
       "      <td>182.0</td>\n",
       "      <td>Réunion</td>\n",
       "      <td>850513.0</td>\n",
       "      <td>876133.0</td>\n",
       "      <td>0.030123</td>\n",
       "    </tr>\n",
       "    <tr>\n",
       "      <th>210</th>\n",
       "      <td>NaN</td>\n",
       "      <td>NaN</td>\n",
       "      <td>NaN</td>\n",
       "      <td>187.0</td>\n",
       "      <td>Sainte-Hélène, Ascension et Tristan da Cunha</td>\n",
       "      <td>5584.0</td>\n",
       "      <td>6007.0</td>\n",
       "      <td>0.075752</td>\n",
       "    </tr>\n",
       "    <tr>\n",
       "      <th>211</th>\n",
       "      <td>NaN</td>\n",
       "      <td>NaN</td>\n",
       "      <td>NaN</td>\n",
       "      <td>190.0</td>\n",
       "      <td>Saint-Pierre-et-Miquelon</td>\n",
       "      <td>6172.0</td>\n",
       "      <td>5887.0</td>\n",
       "      <td>-0.046176</td>\n",
       "    </tr>\n",
       "    <tr>\n",
       "      <th>212</th>\n",
       "      <td>NaN</td>\n",
       "      <td>NaN</td>\n",
       "      <td>NaN</td>\n",
       "      <td>192.0</td>\n",
       "      <td>Saint-Marin</td>\n",
       "      <td>32553.0</td>\n",
       "      <td>33671.0</td>\n",
       "      <td>0.034344</td>\n",
       "    </tr>\n",
       "    <tr>\n",
       "      <th>213</th>\n",
       "      <td>NaN</td>\n",
       "      <td>NaN</td>\n",
       "      <td>NaN</td>\n",
       "      <td>196.0</td>\n",
       "      <td>Seychelles</td>\n",
       "      <td>93395.0</td>\n",
       "      <td>96417.0</td>\n",
       "      <td>0.032357</td>\n",
       "    </tr>\n",
       "    <tr>\n",
       "      <th>214</th>\n",
       "      <td>NaN</td>\n",
       "      <td>NaN</td>\n",
       "      <td>NaN</td>\n",
       "      <td>200.0</td>\n",
       "      <td>Singapour</td>\n",
       "      <td>5453736.0</td>\n",
       "      <td>5708041.0</td>\n",
       "      <td>0.046630</td>\n",
       "    </tr>\n",
       "    <tr>\n",
       "      <th>215</th>\n",
       "      <td>NaN</td>\n",
       "      <td>NaN</td>\n",
       "      <td>NaN</td>\n",
       "      <td>201.0</td>\n",
       "      <td>Somalie</td>\n",
       "      <td>13063701.0</td>\n",
       "      <td>14589178.0</td>\n",
       "      <td>0.116772</td>\n",
       "    </tr>\n",
       "    <tr>\n",
       "      <th>216</th>\n",
       "      <td>NaN</td>\n",
       "      <td>NaN</td>\n",
       "      <td>NaN</td>\n",
       "      <td>205.0</td>\n",
       "      <td>Sahara occidental</td>\n",
       "      <td>504858.0</td>\n",
       "      <td>552615.0</td>\n",
       "      <td>0.094595</td>\n",
       "    </tr>\n",
       "    <tr>\n",
       "      <th>217</th>\n",
       "      <td>NaN</td>\n",
       "      <td>NaN</td>\n",
       "      <td>NaN</td>\n",
       "      <td>212.0</td>\n",
       "      <td>République arabe syrienne</td>\n",
       "      <td>19578461.0</td>\n",
       "      <td>17095678.0</td>\n",
       "      <td>-0.126812</td>\n",
       "    </tr>\n",
       "    <tr>\n",
       "      <th>218</th>\n",
       "      <td>NaN</td>\n",
       "      <td>NaN</td>\n",
       "      <td>NaN</td>\n",
       "      <td>218.0</td>\n",
       "      <td>Tokélaou</td>\n",
       "      <td>1187.0</td>\n",
       "      <td>1300.0</td>\n",
       "      <td>0.095198</td>\n",
       "    </tr>\n",
       "    <tr>\n",
       "      <th>219</th>\n",
       "      <td>NaN</td>\n",
       "      <td>NaN</td>\n",
       "      <td>NaN</td>\n",
       "      <td>219.0</td>\n",
       "      <td>Tonga</td>\n",
       "      <td>101767.0</td>\n",
       "      <td>101997.0</td>\n",
       "      <td>0.002260</td>\n",
       "    </tr>\n",
       "    <tr>\n",
       "      <th>220</th>\n",
       "      <td>NaN</td>\n",
       "      <td>NaN</td>\n",
       "      <td>NaN</td>\n",
       "      <td>224.0</td>\n",
       "      <td>Îles Turques-et-Caïques</td>\n",
       "      <td>34731.0</td>\n",
       "      <td>37115.0</td>\n",
       "      <td>0.068642</td>\n",
       "    </tr>\n",
       "    <tr>\n",
       "      <th>221</th>\n",
       "      <td>NaN</td>\n",
       "      <td>NaN</td>\n",
       "      <td>NaN</td>\n",
       "      <td>227.0</td>\n",
       "      <td>Tuvalu</td>\n",
       "      <td>10857.0</td>\n",
       "      <td>11370.0</td>\n",
       "      <td>0.047251</td>\n",
       "    </tr>\n",
       "    <tr>\n",
       "      <th>222</th>\n",
       "      <td>NaN</td>\n",
       "      <td>NaN</td>\n",
       "      <td>NaN</td>\n",
       "      <td>239.0</td>\n",
       "      <td>Îles Vierges britanniques</td>\n",
       "      <td>28846.0</td>\n",
       "      <td>29577.0</td>\n",
       "      <td>0.025341</td>\n",
       "    </tr>\n",
       "    <tr>\n",
       "      <th>223</th>\n",
       "      <td>NaN</td>\n",
       "      <td>NaN</td>\n",
       "      <td>NaN</td>\n",
       "      <td>240.0</td>\n",
       "      <td>Îles Vierges américaines</td>\n",
       "      <td>105303.0</td>\n",
       "      <td>104751.0</td>\n",
       "      <td>-0.005242</td>\n",
       "    </tr>\n",
       "    <tr>\n",
       "      <th>224</th>\n",
       "      <td>NaN</td>\n",
       "      <td>NaN</td>\n",
       "      <td>NaN</td>\n",
       "      <td>243.0</td>\n",
       "      <td>Îles Wallis-et-Futuna</td>\n",
       "      <td>12356.0</td>\n",
       "      <td>11900.0</td>\n",
       "      <td>-0.036905</td>\n",
       "    </tr>\n",
       "    <tr>\n",
       "      <th>225</th>\n",
       "      <td>NaN</td>\n",
       "      <td>NaN</td>\n",
       "      <td>NaN</td>\n",
       "      <td>250.0</td>\n",
       "      <td>République démocratique du Congo</td>\n",
       "      <td>71358807.0</td>\n",
       "      <td>81398764.0</td>\n",
       "      <td>0.140697</td>\n",
       "    </tr>\n",
       "    <tr>\n",
       "      <th>226</th>\n",
       "      <td>NaN</td>\n",
       "      <td>NaN</td>\n",
       "      <td>NaN</td>\n",
       "      <td>258.0</td>\n",
       "      <td>Anguilla</td>\n",
       "      <td>13954.0</td>\n",
       "      <td>14584.0</td>\n",
       "      <td>0.045148</td>\n",
       "    </tr>\n",
       "    <tr>\n",
       "      <th>227</th>\n",
       "      <td>NaN</td>\n",
       "      <td>NaN</td>\n",
       "      <td>NaN</td>\n",
       "      <td>259.0</td>\n",
       "      <td>Îles Anglo-Normandes</td>\n",
       "      <td>163037.0</td>\n",
       "      <td>168665.0</td>\n",
       "      <td>0.034520</td>\n",
       "    </tr>\n",
       "    <tr>\n",
       "      <th>228</th>\n",
       "      <td>NaN</td>\n",
       "      <td>NaN</td>\n",
       "      <td>NaN</td>\n",
       "      <td>264.0</td>\n",
       "      <td>Île de Man</td>\n",
       "      <td>83976.0</td>\n",
       "      <td>83598.0</td>\n",
       "      <td>-0.004501</td>\n",
       "    </tr>\n",
       "    <tr>\n",
       "      <th>229</th>\n",
       "      <td>NaN</td>\n",
       "      <td>NaN</td>\n",
       "      <td>NaN</td>\n",
       "      <td>270.0</td>\n",
       "      <td>Mayotte</td>\n",
       "      <td>227378.0</td>\n",
       "      <td>252957.0</td>\n",
       "      <td>0.112495</td>\n",
       "    </tr>\n",
       "    <tr>\n",
       "      <th>230</th>\n",
       "      <td>NaN</td>\n",
       "      <td>NaN</td>\n",
       "      <td>NaN</td>\n",
       "      <td>277.0</td>\n",
       "      <td>Soudan du Sud</td>\n",
       "      <td>10355035.0</td>\n",
       "      <td>10910763.0</td>\n",
       "      <td>0.053667</td>\n",
       "    </tr>\n",
       "    <tr>\n",
       "      <th>231</th>\n",
       "      <td>NaN</td>\n",
       "      <td>NaN</td>\n",
       "      <td>NaN</td>\n",
       "      <td>278.0</td>\n",
       "      <td>Bonaire, Saint-Eustache et Saba</td>\n",
       "      <td>23505.0</td>\n",
       "      <td>25401.0</td>\n",
       "      <td>0.080664</td>\n",
       "    </tr>\n",
       "    <tr>\n",
       "      <th>232</th>\n",
       "      <td>NaN</td>\n",
       "      <td>NaN</td>\n",
       "      <td>NaN</td>\n",
       "      <td>279.0</td>\n",
       "      <td>Curaçao</td>\n",
       "      <td>156793.0</td>\n",
       "      <td>161997.0</td>\n",
       "      <td>0.033190</td>\n",
       "    </tr>\n",
       "    <tr>\n",
       "      <th>233</th>\n",
       "      <td>NaN</td>\n",
       "      <td>NaN</td>\n",
       "      <td>NaN</td>\n",
       "      <td>280.0</td>\n",
       "      <td>Sint Maarten  (partie néerlandaise)</td>\n",
       "      <td>37583.0</td>\n",
       "      <td>41443.0</td>\n",
       "      <td>0.102706</td>\n",
       "    </tr>\n",
       "    <tr>\n",
       "      <th>234</th>\n",
       "      <td>NaN</td>\n",
       "      <td>NaN</td>\n",
       "      <td>NaN</td>\n",
       "      <td>281.0</td>\n",
       "      <td>Saint-Martin (partie française)</td>\n",
       "      <td>36453.0</td>\n",
       "      <td>36560.0</td>\n",
       "      <td>0.002935</td>\n",
       "    </tr>\n",
       "    <tr>\n",
       "      <th>235</th>\n",
       "      <td>NaN</td>\n",
       "      <td>NaN</td>\n",
       "      <td>NaN</td>\n",
       "      <td>282.0</td>\n",
       "      <td>Saint-Barthélemy</td>\n",
       "      <td>9537.0</td>\n",
       "      <td>9783.0</td>\n",
       "      <td>0.025794</td>\n",
       "    </tr>\n",
       "    <tr>\n",
       "      <th>236</th>\n",
       "      <td>NaN</td>\n",
       "      <td>NaN</td>\n",
       "      <td>NaN</td>\n",
       "      <td>299.0</td>\n",
       "      <td>Palestine</td>\n",
       "      <td>4333523.0</td>\n",
       "      <td>4747227.0</td>\n",
       "      <td>0.095466</td>\n",
       "    </tr>\n",
       "  </tbody>\n",
       "</table>\n",
       "</div>"
      ],
      "text/plain": [
       "     country_code country  dispo_ALI_(kcal/pers/j)  Code zone  \\\n",
       "173           NaN     NaN                      NaN        5.0   \n",
       "174           NaN     NaN                      NaN        6.0   \n",
       "175           NaN     NaN                      NaN       13.0   \n",
       "176           NaN     NaN                      NaN       17.0   \n",
       "177           NaN     NaN                      NaN       18.0   \n",
       "178           NaN     NaN                      NaN       22.0   \n",
       "179           NaN     NaN                      NaN       26.0   \n",
       "180           NaN     NaN                      NaN       29.0   \n",
       "181           NaN     NaN                      NaN       36.0   \n",
       "182           NaN     NaN                      NaN       45.0   \n",
       "183           NaN     NaN                      NaN       47.0   \n",
       "184           NaN     NaN                      NaN       61.0   \n",
       "185           NaN     NaN                      NaN       64.0   \n",
       "186           NaN     NaN                      NaN       65.0   \n",
       "187           NaN     NaN                      NaN       69.0   \n",
       "188           NaN     NaN                      NaN       82.0   \n",
       "189           NaN     NaN                      NaN       85.0   \n",
       "190           NaN     NaN                      NaN       87.0   \n",
       "191           NaN     NaN                      NaN       88.0   \n",
       "192           NaN     NaN                      NaN       94.0   \n",
       "193           NaN     NaN                      NaN      124.0   \n",
       "194           NaN     NaN                      NaN      125.0   \n",
       "195           NaN     NaN                      NaN      127.0   \n",
       "196           NaN     NaN                      NaN      135.0   \n",
       "197           NaN     NaN                      NaN      140.0   \n",
       "198           NaN     NaN                      NaN      142.0   \n",
       "199           NaN     NaN                      NaN      145.0   \n",
       "200           NaN     NaN                      NaN      148.0   \n",
       "201           NaN     NaN                      NaN      151.0   \n",
       "202           NaN     NaN                      NaN      160.0   \n",
       "203           NaN     NaN                      NaN      163.0   \n",
       "204           NaN     NaN                      NaN      168.0   \n",
       "205           NaN     NaN                      NaN      177.0   \n",
       "206           NaN     NaN                      NaN      178.0   \n",
       "207           NaN     NaN                      NaN      179.0   \n",
       "208           NaN     NaN                      NaN      180.0   \n",
       "209           NaN     NaN                      NaN      182.0   \n",
       "210           NaN     NaN                      NaN      187.0   \n",
       "211           NaN     NaN                      NaN      190.0   \n",
       "212           NaN     NaN                      NaN      192.0   \n",
       "213           NaN     NaN                      NaN      196.0   \n",
       "214           NaN     NaN                      NaN      200.0   \n",
       "215           NaN     NaN                      NaN      201.0   \n",
       "216           NaN     NaN                      NaN      205.0   \n",
       "217           NaN     NaN                      NaN      212.0   \n",
       "218           NaN     NaN                      NaN      218.0   \n",
       "219           NaN     NaN                      NaN      219.0   \n",
       "220           NaN     NaN                      NaN      224.0   \n",
       "221           NaN     NaN                      NaN      227.0   \n",
       "222           NaN     NaN                      NaN      239.0   \n",
       "223           NaN     NaN                      NaN      240.0   \n",
       "224           NaN     NaN                      NaN      243.0   \n",
       "225           NaN     NaN                      NaN      250.0   \n",
       "226           NaN     NaN                      NaN      258.0   \n",
       "227           NaN     NaN                      NaN      259.0   \n",
       "228           NaN     NaN                      NaN      264.0   \n",
       "229           NaN     NaN                      NaN      270.0   \n",
       "230           NaN     NaN                      NaN      277.0   \n",
       "231           NaN     NaN                      NaN      278.0   \n",
       "232           NaN     NaN                      NaN      279.0   \n",
       "233           NaN     NaN                      NaN      280.0   \n",
       "234           NaN     NaN                      NaN      281.0   \n",
       "235           NaN     NaN                      NaN      282.0   \n",
       "236           NaN     NaN                      NaN      299.0   \n",
       "\n",
       "                                             Zone    pop_2013    pop_2017  \\\n",
       "173                             Samoa américaines     55713.0     55620.0   \n",
       "174                                       Andorre     80774.0     77001.0   \n",
       "175                                       Bahreïn   1315027.0   1494076.0   \n",
       "176                                      Bermudes     64386.0     63049.0   \n",
       "177                                       Bhoutan    710237.0    745563.0   \n",
       "178                                         Aruba    103158.0    105366.0   \n",
       "179                             Brunéi Darussalam    404421.0    424473.0   \n",
       "180                                       Burundi   9540291.0  10827018.0   \n",
       "181                                 Îles Caïmanes     59931.0     63382.0   \n",
       "182                                       Comores    741505.0    813891.0   \n",
       "183                                     Îles Cook     17833.0     17507.0   \n",
       "184                            Guinée équatoriale   1076413.0   1262002.0   \n",
       "185                                    Îles Féroé     47891.0     48331.0   \n",
       "186                      Îles Falkland (Malvinas)      2793.0      3068.0   \n",
       "187                              Guyane française    249054.0    275191.0   \n",
       "188                                     Gibraltar     33692.0     33728.0   \n",
       "189                                     Groenland     56413.0     56481.0   \n",
       "190                                    Guadeloupe    402829.0    399671.0   \n",
       "191                                          Guam    160407.0    164280.0   \n",
       "192                                   Saint-Siège       800.0       792.0   \n",
       "193                                         Libye   6320360.0   6580724.0   \n",
       "194                                 Liechtenstein     36934.0     37800.0   \n",
       "195                                 Îles Marshall     56938.0     58058.0   \n",
       "196                                    Martinique    384575.0    375948.0   \n",
       "197                                        Monaco     36900.0     38391.0   \n",
       "198                                    Montserrat      4944.0      4984.0   \n",
       "199                 Micronésie (États fédérés de)    105926.0    111459.0   \n",
       "200                                         Nauru     10209.0     10573.0   \n",
       "201                   Antilles néerlandaises (ex)    263872.0    275186.0   \n",
       "202                                         Nioué      1611.0      1609.0   \n",
       "203                        Îles Mariannes du Nord     54784.0     56562.0   \n",
       "204                     Papouasie-Nouvelle-Guinée   7788380.0   8438036.0   \n",
       "205                                    Porto Rico   3503857.0   3163667.0   \n",
       "206                                      Érythrée   3281449.0   3412893.0   \n",
       "207                                         Qatar   2336574.0   2724728.0   \n",
       "208                                        Palaos     17605.0     17808.0   \n",
       "209                                       Réunion    850513.0    876133.0   \n",
       "210  Sainte-Hélène, Ascension et Tristan da Cunha      5584.0      6007.0   \n",
       "211                      Saint-Pierre-et-Miquelon      6172.0      5887.0   \n",
       "212                                   Saint-Marin     32553.0     33671.0   \n",
       "213                                    Seychelles     93395.0     96417.0   \n",
       "214                                     Singapour   5453736.0   5708041.0   \n",
       "215                                       Somalie  13063701.0  14589178.0   \n",
       "216                             Sahara occidental    504858.0    552615.0   \n",
       "217                     République arabe syrienne  19578461.0  17095678.0   \n",
       "218                                      Tokélaou      1187.0      1300.0   \n",
       "219                                         Tonga    101767.0    101997.0   \n",
       "220                       Îles Turques-et-Caïques     34731.0     37115.0   \n",
       "221                                        Tuvalu     10857.0     11370.0   \n",
       "222                     Îles Vierges britanniques     28846.0     29577.0   \n",
       "223                      Îles Vierges américaines    105303.0    104751.0   \n",
       "224                         Îles Wallis-et-Futuna     12356.0     11900.0   \n",
       "225              République démocratique du Congo  71358807.0  81398764.0   \n",
       "226                                      Anguilla     13954.0     14584.0   \n",
       "227                          Îles Anglo-Normandes    163037.0    168665.0   \n",
       "228                                    Île de Man     83976.0     83598.0   \n",
       "229                                       Mayotte    227378.0    252957.0   \n",
       "230                                 Soudan du Sud  10355035.0  10910763.0   \n",
       "231               Bonaire, Saint-Eustache et Saba     23505.0     25401.0   \n",
       "232                                       Curaçao    156793.0    161997.0   \n",
       "233           Sint Maarten  (partie néerlandaise)     37583.0     41443.0   \n",
       "234               Saint-Martin (partie française)     36453.0     36560.0   \n",
       "235                              Saint-Barthélemy      9537.0      9783.0   \n",
       "236                                     Palestine   4333523.0   4747227.0   \n",
       "\n",
       "     ratio_evol_pop  \n",
       "173       -0.001669  \n",
       "174       -0.046711  \n",
       "175        0.136156  \n",
       "176       -0.020765  \n",
       "177        0.049738  \n",
       "178        0.021404  \n",
       "179        0.049582  \n",
       "180        0.134873  \n",
       "181        0.057583  \n",
       "182        0.097620  \n",
       "183       -0.018281  \n",
       "184        0.172414  \n",
       "185        0.009188  \n",
       "186        0.098460  \n",
       "187        0.104945  \n",
       "188        0.001069  \n",
       "189        0.001205  \n",
       "190       -0.007840  \n",
       "191        0.024145  \n",
       "192       -0.010000  \n",
       "193        0.041194  \n",
       "194        0.023447  \n",
       "195        0.019671  \n",
       "196       -0.022433  \n",
       "197        0.040407  \n",
       "198        0.008091  \n",
       "199        0.052235  \n",
       "200        0.035655  \n",
       "201        0.042877  \n",
       "202       -0.001241  \n",
       "203        0.032455  \n",
       "204        0.083413  \n",
       "205       -0.097090  \n",
       "206        0.040057  \n",
       "207        0.166121  \n",
       "208        0.011531  \n",
       "209        0.030123  \n",
       "210        0.075752  \n",
       "211       -0.046176  \n",
       "212        0.034344  \n",
       "213        0.032357  \n",
       "214        0.046630  \n",
       "215        0.116772  \n",
       "216        0.094595  \n",
       "217       -0.126812  \n",
       "218        0.095198  \n",
       "219        0.002260  \n",
       "220        0.068642  \n",
       "221        0.047251  \n",
       "222        0.025341  \n",
       "223       -0.005242  \n",
       "224       -0.036905  \n",
       "225        0.140697  \n",
       "226        0.045148  \n",
       "227        0.034520  \n",
       "228       -0.004501  \n",
       "229        0.112495  \n",
       "230        0.053667  \n",
       "231        0.080664  \n",
       "232        0.033190  \n",
       "233        0.102706  \n",
       "234        0.002935  \n",
       "235        0.025794  \n",
       "236        0.095466  "
      ]
     },
     "execution_count": 243,
     "metadata": {},
     "output_type": "execute_result"
    }
   ],
   "source": [
    "# Recherche des valeurs nulles\n",
    "verifc[verifc['country'].isnull()]"
   ]
  },
  {
   "cell_type": "markdown",
   "metadata": {},
   "source": [
    "Ce sont des pays / régions pour lesquels il n'y a pas de données de dispo ali. L'autre valeur nulle correspond à l'occurrence Chine supprimée de la table pop. "
   ]
  },
  {
   "cell_type": "markdown",
   "metadata": {},
   "source": [
    "## 1.3. Proportion de protéines d'origine animale par rapport à la quantité totale de protéines dans la disponibilité alimentaire du pays"
   ]
  },
  {
   "cell_type": "markdown",
   "metadata": {},
   "source": [
    "### Calcul de la dispo de protéine par pays, en g/pers/j"
   ]
  },
  {
   "cell_type": "code",
   "execution_count": 244,
   "metadata": {},
   "outputs": [],
   "source": [
    "# groupby par pays\n",
    "dispoprotpays = data.groupby(['country_code', 'country']).agg({'dispo_PROT_(g/pers/j)':'sum'}).reset_index()"
   ]
  },
  {
   "cell_type": "code",
   "execution_count": 245,
   "metadata": {},
   "outputs": [
    {
     "data": {
      "text/html": [
       "<div>\n",
       "<style scoped>\n",
       "    .dataframe tbody tr th:only-of-type {\n",
       "        vertical-align: middle;\n",
       "    }\n",
       "\n",
       "    .dataframe tbody tr th {\n",
       "        vertical-align: top;\n",
       "    }\n",
       "\n",
       "    .dataframe thead th {\n",
       "        text-align: right;\n",
       "    }\n",
       "</style>\n",
       "<table border=\"1\" class=\"dataframe\">\n",
       "  <thead>\n",
       "    <tr style=\"text-align: right;\">\n",
       "      <th></th>\n",
       "      <th>country_code</th>\n",
       "      <th>country</th>\n",
       "      <th>dispo_PROT_(g/pers/j)</th>\n",
       "    </tr>\n",
       "  </thead>\n",
       "  <tbody>\n",
       "    <tr>\n",
       "      <th>0</th>\n",
       "      <td>1</td>\n",
       "      <td>Arménie</td>\n",
       "      <td>97.33</td>\n",
       "    </tr>\n",
       "    <tr>\n",
       "      <th>1</th>\n",
       "      <td>2</td>\n",
       "      <td>Afghanistan</td>\n",
       "      <td>54.09</td>\n",
       "    </tr>\n",
       "    <tr>\n",
       "      <th>2</th>\n",
       "      <td>3</td>\n",
       "      <td>Albanie</td>\n",
       "      <td>119.50</td>\n",
       "    </tr>\n",
       "    <tr>\n",
       "      <th>3</th>\n",
       "      <td>4</td>\n",
       "      <td>Algérie</td>\n",
       "      <td>92.85</td>\n",
       "    </tr>\n",
       "    <tr>\n",
       "      <th>4</th>\n",
       "      <td>7</td>\n",
       "      <td>Angola</td>\n",
       "      <td>54.09</td>\n",
       "    </tr>\n",
       "  </tbody>\n",
       "</table>\n",
       "</div>"
      ],
      "text/plain": [
       "   country_code      country  dispo_PROT_(g/pers/j)\n",
       "0             1      Arménie                  97.33\n",
       "1             2  Afghanistan                  54.09\n",
       "2             3      Albanie                 119.50\n",
       "3             4      Algérie                  92.85\n",
       "4             7       Angola                  54.09"
      ]
     },
     "execution_count": 245,
     "metadata": {},
     "output_type": "execute_result"
    }
   ],
   "source": [
    "dispoprotpays.head()"
   ]
  },
  {
   "cell_type": "markdown",
   "metadata": {},
   "source": [
    "Par ex. en Arménie la dispo en protéines est de 97.33 g / j. "
   ]
  },
  {
   "cell_type": "code",
   "execution_count": 35,
   "metadata": {},
   "outputs": [
    {
     "data": {
      "text/html": [
       "<div>\n",
       "<style scoped>\n",
       "    .dataframe tbody tr th:only-of-type {\n",
       "        vertical-align: middle;\n",
       "    }\n",
       "\n",
       "    .dataframe tbody tr th {\n",
       "        vertical-align: top;\n",
       "    }\n",
       "\n",
       "    .dataframe thead th {\n",
       "        text-align: right;\n",
       "    }\n",
       "</style>\n",
       "<table border=\"1\" class=\"dataframe\">\n",
       "  <thead>\n",
       "    <tr style=\"text-align: right;\">\n",
       "      <th></th>\n",
       "      <th>country_code</th>\n",
       "      <th>country</th>\n",
       "      <th>dispo_PROT_(g/pers/j)</th>\n",
       "    </tr>\n",
       "  </thead>\n",
       "  <tbody>\n",
       "    <tr>\n",
       "      <th>count</th>\n",
       "      <td>173.000000</td>\n",
       "      <td>173</td>\n",
       "      <td>173.000000</td>\n",
       "    </tr>\n",
       "    <tr>\n",
       "      <th>unique</th>\n",
       "      <td>NaN</td>\n",
       "      <td>173</td>\n",
       "      <td>NaN</td>\n",
       "    </tr>\n",
       "    <tr>\n",
       "      <th>top</th>\n",
       "      <td>NaN</td>\n",
       "      <td>Autriche</td>\n",
       "      <td>NaN</td>\n",
       "    </tr>\n",
       "    <tr>\n",
       "      <th>freq</th>\n",
       "      <td>NaN</td>\n",
       "      <td>1</td>\n",
       "      <td>NaN</td>\n",
       "    </tr>\n",
       "    <tr>\n",
       "      <th>mean</th>\n",
       "      <td>127.936416</td>\n",
       "      <td>NaN</td>\n",
       "      <td>81.309422</td>\n",
       "    </tr>\n",
       "    <tr>\n",
       "      <th>std</th>\n",
       "      <td>74.736526</td>\n",
       "      <td>NaN</td>\n",
       "      <td>20.198481</td>\n",
       "    </tr>\n",
       "    <tr>\n",
       "      <th>min</th>\n",
       "      <td>1.000000</td>\n",
       "      <td>NaN</td>\n",
       "      <td>39.910000</td>\n",
       "    </tr>\n",
       "    <tr>\n",
       "      <th>25%</th>\n",
       "      <td>67.000000</td>\n",
       "      <td>NaN</td>\n",
       "      <td>64.270000</td>\n",
       "    </tr>\n",
       "    <tr>\n",
       "      <th>50%</th>\n",
       "      <td>122.000000</td>\n",
       "      <td>NaN</td>\n",
       "      <td>81.630000</td>\n",
       "    </tr>\n",
       "    <tr>\n",
       "      <th>75%</th>\n",
       "      <td>189.000000</td>\n",
       "      <td>NaN</td>\n",
       "      <td>96.970000</td>\n",
       "    </tr>\n",
       "    <tr>\n",
       "      <th>max</th>\n",
       "      <td>351.000000</td>\n",
       "      <td>NaN</td>\n",
       "      <td>141.340000</td>\n",
       "    </tr>\n",
       "  </tbody>\n",
       "</table>\n",
       "</div>"
      ],
      "text/plain": [
       "        country_code   country  dispo_PROT_(g/pers/j)\n",
       "count     173.000000       173             173.000000\n",
       "unique           NaN       173                    NaN\n",
       "top              NaN  Autriche                    NaN\n",
       "freq             NaN         1                    NaN\n",
       "mean      127.936416       NaN              81.309422\n",
       "std        74.736526       NaN              20.198481\n",
       "min         1.000000       NaN              39.910000\n",
       "25%        67.000000       NaN              64.270000\n",
       "50%       122.000000       NaN              81.630000\n",
       "75%       189.000000       NaN              96.970000\n",
       "max       351.000000       NaN             141.340000"
      ]
     },
     "execution_count": 35,
     "metadata": {},
     "output_type": "execute_result"
    }
   ],
   "source": [
    "# Je vérifie la cohérence globale : \n",
    "dispoprotpays.describe(include=\"all\")"
   ]
  },
  {
   "cell_type": "code",
   "execution_count": 246,
   "metadata": {},
   "outputs": [
    {
     "data": {
      "text/plain": [
       "(173, 3)"
      ]
     },
     "execution_count": 246,
     "metadata": {},
     "output_type": "execute_result"
    }
   ],
   "source": [
    "dispoprotpays.shape"
   ]
  },
  {
   "cell_type": "markdown",
   "metadata": {},
   "source": [
    "### Calcul de la proportion en protéines animales par pays"
   ]
  },
  {
   "cell_type": "code",
   "execution_count": 247,
   "metadata": {},
   "outputs": [
    {
     "data": {
      "text/html": [
       "<div>\n",
       "<style scoped>\n",
       "    .dataframe tbody tr th:only-of-type {\n",
       "        vertical-align: middle;\n",
       "    }\n",
       "\n",
       "    .dataframe tbody tr th {\n",
       "        vertical-align: top;\n",
       "    }\n",
       "\n",
       "    .dataframe thead th {\n",
       "        text-align: right;\n",
       "    }\n",
       "</style>\n",
       "<table border=\"1\" class=\"dataframe\">\n",
       "  <thead>\n",
       "    <tr style=\"text-align: right;\">\n",
       "      <th></th>\n",
       "      <th>country_code</th>\n",
       "      <th>country</th>\n",
       "      <th>item_code</th>\n",
       "      <th>item</th>\n",
       "      <th>year</th>\n",
       "      <th>origin</th>\n",
       "      <th>dispo_ALI_(kcal/pers/j)</th>\n",
       "      <th>dispo_PROT_(g/pers/j)</th>\n",
       "    </tr>\n",
       "  </thead>\n",
       "  <tbody>\n",
       "    <tr>\n",
       "      <th>0</th>\n",
       "      <td>1</td>\n",
       "      <td>Arménie</td>\n",
       "      <td>2511</td>\n",
       "      <td>Blé</td>\n",
       "      <td>2017</td>\n",
       "      <td>animal</td>\n",
       "      <td>1053.0</td>\n",
       "      <td>31.35</td>\n",
       "    </tr>\n",
       "    <tr>\n",
       "      <th>1</th>\n",
       "      <td>1</td>\n",
       "      <td>Arménie</td>\n",
       "      <td>2513</td>\n",
       "      <td>Orge</td>\n",
       "      <td>2017</td>\n",
       "      <td>animal</td>\n",
       "      <td>4.0</td>\n",
       "      <td>0.15</td>\n",
       "    </tr>\n",
       "    <tr>\n",
       "      <th>2</th>\n",
       "      <td>1</td>\n",
       "      <td>Arménie</td>\n",
       "      <td>2514</td>\n",
       "      <td>Maïs</td>\n",
       "      <td>2017</td>\n",
       "      <td>animal</td>\n",
       "      <td>68.0</td>\n",
       "      <td>2.64</td>\n",
       "    </tr>\n",
       "    <tr>\n",
       "      <th>3</th>\n",
       "      <td>1</td>\n",
       "      <td>Arménie</td>\n",
       "      <td>2515</td>\n",
       "      <td>Seigle</td>\n",
       "      <td>2017</td>\n",
       "      <td>animal</td>\n",
       "      <td>1.0</td>\n",
       "      <td>0.03</td>\n",
       "    </tr>\n",
       "    <tr>\n",
       "      <th>4</th>\n",
       "      <td>1</td>\n",
       "      <td>Arménie</td>\n",
       "      <td>2516</td>\n",
       "      <td>Avoine</td>\n",
       "      <td>2017</td>\n",
       "      <td>animal</td>\n",
       "      <td>7.0</td>\n",
       "      <td>0.26</td>\n",
       "    </tr>\n",
       "  </tbody>\n",
       "</table>\n",
       "</div>"
      ],
      "text/plain": [
       "   country_code  country  item_code    item  year  origin  \\\n",
       "0             1  Arménie       2511     Blé  2017  animal   \n",
       "1             1  Arménie       2513    Orge  2017  animal   \n",
       "2             1  Arménie       2514    Maïs  2017  animal   \n",
       "3             1  Arménie       2515  Seigle  2017  animal   \n",
       "4             1  Arménie       2516  Avoine  2017  animal   \n",
       "\n",
       "   dispo_ALI_(kcal/pers/j)  dispo_PROT_(g/pers/j)  \n",
       "0                   1053.0                  31.35  \n",
       "1                      4.0                   0.15  \n",
       "2                     68.0                   2.64  \n",
       "3                      1.0                   0.03  \n",
       "4                      7.0                   0.26  "
      ]
     },
     "execution_count": 247,
     "metadata": {},
     "output_type": "execute_result"
    }
   ],
   "source": [
    "data.head()"
   ]
  },
  {
   "cell_type": "code",
   "execution_count": 248,
   "metadata": {},
   "outputs": [],
   "source": [
    "# Je créé un df et commence par sélectionner origin = animal : \n",
    "dataani = data[data['origin']=='animal']"
   ]
  },
  {
   "cell_type": "code",
   "execution_count": 249,
   "metadata": {},
   "outputs": [
    {
     "data": {
      "text/html": [
       "<div>\n",
       "<style scoped>\n",
       "    .dataframe tbody tr th:only-of-type {\n",
       "        vertical-align: middle;\n",
       "    }\n",
       "\n",
       "    .dataframe tbody tr th {\n",
       "        vertical-align: top;\n",
       "    }\n",
       "\n",
       "    .dataframe thead th {\n",
       "        text-align: right;\n",
       "    }\n",
       "</style>\n",
       "<table border=\"1\" class=\"dataframe\">\n",
       "  <thead>\n",
       "    <tr style=\"text-align: right;\">\n",
       "      <th></th>\n",
       "      <th>country_code</th>\n",
       "      <th>country</th>\n",
       "      <th>item_code</th>\n",
       "      <th>item</th>\n",
       "      <th>year</th>\n",
       "      <th>origin</th>\n",
       "      <th>dispo_ALI_(kcal/pers/j)</th>\n",
       "      <th>dispo_PROT_(g/pers/j)</th>\n",
       "    </tr>\n",
       "  </thead>\n",
       "  <tbody>\n",
       "    <tr>\n",
       "      <th>0</th>\n",
       "      <td>1</td>\n",
       "      <td>Arménie</td>\n",
       "      <td>2511</td>\n",
       "      <td>Blé</td>\n",
       "      <td>2017</td>\n",
       "      <td>animal</td>\n",
       "      <td>1053.0</td>\n",
       "      <td>31.35</td>\n",
       "    </tr>\n",
       "    <tr>\n",
       "      <th>1</th>\n",
       "      <td>1</td>\n",
       "      <td>Arménie</td>\n",
       "      <td>2513</td>\n",
       "      <td>Orge</td>\n",
       "      <td>2017</td>\n",
       "      <td>animal</td>\n",
       "      <td>4.0</td>\n",
       "      <td>0.15</td>\n",
       "    </tr>\n",
       "    <tr>\n",
       "      <th>2</th>\n",
       "      <td>1</td>\n",
       "      <td>Arménie</td>\n",
       "      <td>2514</td>\n",
       "      <td>Maïs</td>\n",
       "      <td>2017</td>\n",
       "      <td>animal</td>\n",
       "      <td>68.0</td>\n",
       "      <td>2.64</td>\n",
       "    </tr>\n",
       "    <tr>\n",
       "      <th>3</th>\n",
       "      <td>1</td>\n",
       "      <td>Arménie</td>\n",
       "      <td>2515</td>\n",
       "      <td>Seigle</td>\n",
       "      <td>2017</td>\n",
       "      <td>animal</td>\n",
       "      <td>1.0</td>\n",
       "      <td>0.03</td>\n",
       "    </tr>\n",
       "    <tr>\n",
       "      <th>4</th>\n",
       "      <td>1</td>\n",
       "      <td>Arménie</td>\n",
       "      <td>2516</td>\n",
       "      <td>Avoine</td>\n",
       "      <td>2017</td>\n",
       "      <td>animal</td>\n",
       "      <td>7.0</td>\n",
       "      <td>0.26</td>\n",
       "    </tr>\n",
       "  </tbody>\n",
       "</table>\n",
       "</div>"
      ],
      "text/plain": [
       "   country_code  country  item_code    item  year  origin  \\\n",
       "0             1  Arménie       2511     Blé  2017  animal   \n",
       "1             1  Arménie       2513    Orge  2017  animal   \n",
       "2             1  Arménie       2514    Maïs  2017  animal   \n",
       "3             1  Arménie       2515  Seigle  2017  animal   \n",
       "4             1  Arménie       2516  Avoine  2017  animal   \n",
       "\n",
       "   dispo_ALI_(kcal/pers/j)  dispo_PROT_(g/pers/j)  \n",
       "0                   1053.0                  31.35  \n",
       "1                      4.0                   0.15  \n",
       "2                     68.0                   2.64  \n",
       "3                      1.0                   0.03  \n",
       "4                      7.0                   0.26  "
      ]
     },
     "execution_count": 249,
     "metadata": {},
     "output_type": "execute_result"
    }
   ],
   "source": [
    "dataani.head()"
   ]
  },
  {
   "cell_type": "code",
   "execution_count": 250,
   "metadata": {},
   "outputs": [
    {
     "data": {
      "text/plain": [
       "(10868, 8)"
      ]
     },
     "execution_count": 250,
     "metadata": {},
     "output_type": "execute_result"
    }
   ],
   "source": [
    "dataani.shape"
   ]
  },
  {
   "cell_type": "code",
   "execution_count": 251,
   "metadata": {},
   "outputs": [],
   "source": [
    "# Je renomme la colonne dispo PROT (g/pers/j) en signalant l'origine animale\n",
    "dataani = dataani.rename(columns={\"dispo_PROT_(g/pers/j)\": \"dispo_PROT_ANIMALES_(g/pers/j)\"})"
   ]
  },
  {
   "cell_type": "code",
   "execution_count": 252,
   "metadata": {},
   "outputs": [
    {
     "data": {
      "text/html": [
       "<div>\n",
       "<style scoped>\n",
       "    .dataframe tbody tr th:only-of-type {\n",
       "        vertical-align: middle;\n",
       "    }\n",
       "\n",
       "    .dataframe tbody tr th {\n",
       "        vertical-align: top;\n",
       "    }\n",
       "\n",
       "    .dataframe thead th {\n",
       "        text-align: right;\n",
       "    }\n",
       "</style>\n",
       "<table border=\"1\" class=\"dataframe\">\n",
       "  <thead>\n",
       "    <tr style=\"text-align: right;\">\n",
       "      <th></th>\n",
       "      <th>country_code</th>\n",
       "      <th>country</th>\n",
       "      <th>item_code</th>\n",
       "      <th>item</th>\n",
       "      <th>year</th>\n",
       "      <th>origin</th>\n",
       "      <th>dispo_ALI_(kcal/pers/j)</th>\n",
       "      <th>dispo_PROT_ANIMALES_(g/pers/j)</th>\n",
       "    </tr>\n",
       "  </thead>\n",
       "  <tbody>\n",
       "    <tr>\n",
       "      <th>0</th>\n",
       "      <td>1</td>\n",
       "      <td>Arménie</td>\n",
       "      <td>2511</td>\n",
       "      <td>Blé</td>\n",
       "      <td>2017</td>\n",
       "      <td>animal</td>\n",
       "      <td>1053.0</td>\n",
       "      <td>31.35</td>\n",
       "    </tr>\n",
       "    <tr>\n",
       "      <th>1</th>\n",
       "      <td>1</td>\n",
       "      <td>Arménie</td>\n",
       "      <td>2513</td>\n",
       "      <td>Orge</td>\n",
       "      <td>2017</td>\n",
       "      <td>animal</td>\n",
       "      <td>4.0</td>\n",
       "      <td>0.15</td>\n",
       "    </tr>\n",
       "    <tr>\n",
       "      <th>2</th>\n",
       "      <td>1</td>\n",
       "      <td>Arménie</td>\n",
       "      <td>2514</td>\n",
       "      <td>Maïs</td>\n",
       "      <td>2017</td>\n",
       "      <td>animal</td>\n",
       "      <td>68.0</td>\n",
       "      <td>2.64</td>\n",
       "    </tr>\n",
       "    <tr>\n",
       "      <th>3</th>\n",
       "      <td>1</td>\n",
       "      <td>Arménie</td>\n",
       "      <td>2515</td>\n",
       "      <td>Seigle</td>\n",
       "      <td>2017</td>\n",
       "      <td>animal</td>\n",
       "      <td>1.0</td>\n",
       "      <td>0.03</td>\n",
       "    </tr>\n",
       "    <tr>\n",
       "      <th>4</th>\n",
       "      <td>1</td>\n",
       "      <td>Arménie</td>\n",
       "      <td>2516</td>\n",
       "      <td>Avoine</td>\n",
       "      <td>2017</td>\n",
       "      <td>animal</td>\n",
       "      <td>7.0</td>\n",
       "      <td>0.26</td>\n",
       "    </tr>\n",
       "  </tbody>\n",
       "</table>\n",
       "</div>"
      ],
      "text/plain": [
       "   country_code  country  item_code    item  year  origin  \\\n",
       "0             1  Arménie       2511     Blé  2017  animal   \n",
       "1             1  Arménie       2513    Orge  2017  animal   \n",
       "2             1  Arménie       2514    Maïs  2017  animal   \n",
       "3             1  Arménie       2515  Seigle  2017  animal   \n",
       "4             1  Arménie       2516  Avoine  2017  animal   \n",
       "\n",
       "   dispo_ALI_(kcal/pers/j)  dispo_PROT_ANIMALES_(g/pers/j)  \n",
       "0                   1053.0                           31.35  \n",
       "1                      4.0                            0.15  \n",
       "2                     68.0                            2.64  \n",
       "3                      1.0                            0.03  \n",
       "4                      7.0                            0.26  "
      ]
     },
     "execution_count": 252,
     "metadata": {},
     "output_type": "execute_result"
    }
   ],
   "source": [
    "dataani.head()"
   ]
  },
  {
   "cell_type": "code",
   "execution_count": 253,
   "metadata": {},
   "outputs": [],
   "source": [
    "# Calcul de la dispo de protéines ANIMALES selon les pays, en g/pers/j\n",
    "protani = dataani.groupby(['country_code', 'country']).agg({'dispo_PROT_ANIMALES_(g/pers/j)':'sum'}).reset_index()"
   ]
  },
  {
   "cell_type": "code",
   "execution_count": 254,
   "metadata": {},
   "outputs": [
    {
     "data": {
      "text/html": [
       "<div>\n",
       "<style scoped>\n",
       "    .dataframe tbody tr th:only-of-type {\n",
       "        vertical-align: middle;\n",
       "    }\n",
       "\n",
       "    .dataframe tbody tr th {\n",
       "        vertical-align: top;\n",
       "    }\n",
       "\n",
       "    .dataframe thead th {\n",
       "        text-align: right;\n",
       "    }\n",
       "</style>\n",
       "<table border=\"1\" class=\"dataframe\">\n",
       "  <thead>\n",
       "    <tr style=\"text-align: right;\">\n",
       "      <th></th>\n",
       "      <th>country_code</th>\n",
       "      <th>country</th>\n",
       "      <th>dispo_PROT_ANIMALES_(g/pers/j)</th>\n",
       "    </tr>\n",
       "  </thead>\n",
       "  <tbody>\n",
       "    <tr>\n",
       "      <th>0</th>\n",
       "      <td>1</td>\n",
       "      <td>Arménie</td>\n",
       "      <td>52.77</td>\n",
       "    </tr>\n",
       "    <tr>\n",
       "      <th>1</th>\n",
       "      <td>2</td>\n",
       "      <td>Afghanistan</td>\n",
       "      <td>43.53</td>\n",
       "    </tr>\n",
       "    <tr>\n",
       "      <th>2</th>\n",
       "      <td>3</td>\n",
       "      <td>Albanie</td>\n",
       "      <td>53.18</td>\n",
       "    </tr>\n",
       "    <tr>\n",
       "      <th>3</th>\n",
       "      <td>4</td>\n",
       "      <td>Algérie</td>\n",
       "      <td>67.15</td>\n",
       "    </tr>\n",
       "    <tr>\n",
       "      <th>4</th>\n",
       "      <td>7</td>\n",
       "      <td>Angola</td>\n",
       "      <td>37.62</td>\n",
       "    </tr>\n",
       "  </tbody>\n",
       "</table>\n",
       "</div>"
      ],
      "text/plain": [
       "   country_code      country  dispo_PROT_ANIMALES_(g/pers/j)\n",
       "0             1      Arménie                           52.77\n",
       "1             2  Afghanistan                           43.53\n",
       "2             3      Albanie                           53.18\n",
       "3             4      Algérie                           67.15\n",
       "4             7       Angola                           37.62"
      ]
     },
     "execution_count": 254,
     "metadata": {},
     "output_type": "execute_result"
    }
   ],
   "source": [
    "protani.head()"
   ]
  },
  {
   "cell_type": "code",
   "execution_count": 255,
   "metadata": {},
   "outputs": [
    {
     "data": {
      "text/html": [
       "<div>\n",
       "<style scoped>\n",
       "    .dataframe tbody tr th:only-of-type {\n",
       "        vertical-align: middle;\n",
       "    }\n",
       "\n",
       "    .dataframe tbody tr th {\n",
       "        vertical-align: top;\n",
       "    }\n",
       "\n",
       "    .dataframe thead th {\n",
       "        text-align: right;\n",
       "    }\n",
       "</style>\n",
       "<table border=\"1\" class=\"dataframe\">\n",
       "  <thead>\n",
       "    <tr style=\"text-align: right;\">\n",
       "      <th></th>\n",
       "      <th>country_code</th>\n",
       "      <th>country</th>\n",
       "      <th>dispo_PROT_ANIMALES_(g/pers/j)</th>\n",
       "    </tr>\n",
       "  </thead>\n",
       "  <tbody>\n",
       "    <tr>\n",
       "      <th>count</th>\n",
       "      <td>173.000000</td>\n",
       "      <td>173</td>\n",
       "      <td>173.000000</td>\n",
       "    </tr>\n",
       "    <tr>\n",
       "      <th>unique</th>\n",
       "      <td>NaN</td>\n",
       "      <td>173</td>\n",
       "      <td>NaN</td>\n",
       "    </tr>\n",
       "    <tr>\n",
       "      <th>top</th>\n",
       "      <td>NaN</td>\n",
       "      <td>République démocratique populaire lao</td>\n",
       "      <td>NaN</td>\n",
       "    </tr>\n",
       "    <tr>\n",
       "      <th>freq</th>\n",
       "      <td>NaN</td>\n",
       "      <td>1</td>\n",
       "      <td>NaN</td>\n",
       "    </tr>\n",
       "    <tr>\n",
       "      <th>mean</th>\n",
       "      <td>127.936416</td>\n",
       "      <td>NaN</td>\n",
       "      <td>44.409942</td>\n",
       "    </tr>\n",
       "    <tr>\n",
       "      <th>std</th>\n",
       "      <td>74.736526</td>\n",
       "      <td>NaN</td>\n",
       "      <td>9.583618</td>\n",
       "    </tr>\n",
       "    <tr>\n",
       "      <th>min</th>\n",
       "      <td>1.000000</td>\n",
       "      <td>NaN</td>\n",
       "      <td>19.370000</td>\n",
       "    </tr>\n",
       "    <tr>\n",
       "      <th>25%</th>\n",
       "      <td>67.000000</td>\n",
       "      <td>NaN</td>\n",
       "      <td>37.950000</td>\n",
       "    </tr>\n",
       "    <tr>\n",
       "      <th>50%</th>\n",
       "      <td>122.000000</td>\n",
       "      <td>NaN</td>\n",
       "      <td>43.230000</td>\n",
       "    </tr>\n",
       "    <tr>\n",
       "      <th>75%</th>\n",
       "      <td>189.000000</td>\n",
       "      <td>NaN</td>\n",
       "      <td>48.880000</td>\n",
       "    </tr>\n",
       "    <tr>\n",
       "      <th>max</th>\n",
       "      <td>351.000000</td>\n",
       "      <td>NaN</td>\n",
       "      <td>72.220000</td>\n",
       "    </tr>\n",
       "  </tbody>\n",
       "</table>\n",
       "</div>"
      ],
      "text/plain": [
       "        country_code                                country  \\\n",
       "count     173.000000                                    173   \n",
       "unique           NaN                                    173   \n",
       "top              NaN  République démocratique populaire lao   \n",
       "freq             NaN                                      1   \n",
       "mean      127.936416                                    NaN   \n",
       "std        74.736526                                    NaN   \n",
       "min         1.000000                                    NaN   \n",
       "25%        67.000000                                    NaN   \n",
       "50%       122.000000                                    NaN   \n",
       "75%       189.000000                                    NaN   \n",
       "max       351.000000                                    NaN   \n",
       "\n",
       "        dispo_PROT_ANIMALES_(g/pers/j)  \n",
       "count                       173.000000  \n",
       "unique                             NaN  \n",
       "top                                NaN  \n",
       "freq                               NaN  \n",
       "mean                         44.409942  \n",
       "std                           9.583618  \n",
       "min                          19.370000  \n",
       "25%                          37.950000  \n",
       "50%                          43.230000  \n",
       "75%                          48.880000  \n",
       "max                          72.220000  "
      ]
     },
     "execution_count": 255,
     "metadata": {},
     "output_type": "execute_result"
    }
   ],
   "source": [
    "# Vérification de la cohérence \n",
    "protani.describe(include='all')"
   ]
  },
  {
   "cell_type": "code",
   "execution_count": 256,
   "metadata": {},
   "outputs": [
    {
     "data": {
      "text/plain": [
       "(173, 3)"
      ]
     },
     "execution_count": 256,
     "metadata": {},
     "output_type": "execute_result"
    }
   ],
   "source": [
    "protani.shape"
   ]
  },
  {
   "cell_type": "code",
   "execution_count": 257,
   "metadata": {},
   "outputs": [],
   "source": [
    "del dataani"
   ]
  },
  {
   "cell_type": "markdown",
   "metadata": {},
   "source": [
    "### Jointure des tableaux dispoprotpays avec protani pour avoir la dispo en protéines (g/pers/j) et en protéines animales (g/pers/j) selon les pays"
   ]
  },
  {
   "cell_type": "code",
   "execution_count": 258,
   "metadata": {},
   "outputs": [],
   "source": [
    "disprotani = pd.merge(dispoprotpays, protani)"
   ]
  },
  {
   "cell_type": "code",
   "execution_count": 259,
   "metadata": {},
   "outputs": [],
   "source": [
    "del dispoprotpays, protani"
   ]
  },
  {
   "cell_type": "code",
   "execution_count": 128,
   "metadata": {},
   "outputs": [
    {
     "data": {
      "text/html": [
       "<div>\n",
       "<style scoped>\n",
       "    .dataframe tbody tr th:only-of-type {\n",
       "        vertical-align: middle;\n",
       "    }\n",
       "\n",
       "    .dataframe tbody tr th {\n",
       "        vertical-align: top;\n",
       "    }\n",
       "\n",
       "    .dataframe thead th {\n",
       "        text-align: right;\n",
       "    }\n",
       "</style>\n",
       "<table border=\"1\" class=\"dataframe\">\n",
       "  <thead>\n",
       "    <tr style=\"text-align: right;\">\n",
       "      <th></th>\n",
       "      <th>country_code</th>\n",
       "      <th>country</th>\n",
       "      <th>dispo_PROT_(g/pers/j)</th>\n",
       "      <th>dispo_PROT_ANIMALES_(g/pers/j)</th>\n",
       "    </tr>\n",
       "  </thead>\n",
       "  <tbody>\n",
       "    <tr>\n",
       "      <th>0</th>\n",
       "      <td>1</td>\n",
       "      <td>Arménie</td>\n",
       "      <td>97.33</td>\n",
       "      <td>52.77</td>\n",
       "    </tr>\n",
       "    <tr>\n",
       "      <th>1</th>\n",
       "      <td>2</td>\n",
       "      <td>Afghanistan</td>\n",
       "      <td>54.09</td>\n",
       "      <td>43.53</td>\n",
       "    </tr>\n",
       "    <tr>\n",
       "      <th>2</th>\n",
       "      <td>3</td>\n",
       "      <td>Albanie</td>\n",
       "      <td>119.50</td>\n",
       "      <td>53.18</td>\n",
       "    </tr>\n",
       "    <tr>\n",
       "      <th>3</th>\n",
       "      <td>4</td>\n",
       "      <td>Algérie</td>\n",
       "      <td>92.85</td>\n",
       "      <td>67.15</td>\n",
       "    </tr>\n",
       "    <tr>\n",
       "      <th>4</th>\n",
       "      <td>7</td>\n",
       "      <td>Angola</td>\n",
       "      <td>54.09</td>\n",
       "      <td>37.62</td>\n",
       "    </tr>\n",
       "  </tbody>\n",
       "</table>\n",
       "</div>"
      ],
      "text/plain": [
       "   country_code      country  dispo_PROT_(g/pers/j)  \\\n",
       "0             1      Arménie                  97.33   \n",
       "1             2  Afghanistan                  54.09   \n",
       "2             3      Albanie                 119.50   \n",
       "3             4      Algérie                  92.85   \n",
       "4             7       Angola                  54.09   \n",
       "\n",
       "   dispo_PROT_ANIMALES_(g/pers/j)  \n",
       "0                           52.77  \n",
       "1                           43.53  \n",
       "2                           53.18  \n",
       "3                           67.15  \n",
       "4                           37.62  "
      ]
     },
     "execution_count": 128,
     "metadata": {},
     "output_type": "execute_result"
    }
   ],
   "source": [
    "disprotani.head()"
   ]
  },
  {
   "cell_type": "code",
   "execution_count": 129,
   "metadata": {},
   "outputs": [
    {
     "data": {
      "text/plain": [
       "(173, 4)"
      ]
     },
     "execution_count": 129,
     "metadata": {},
     "output_type": "execute_result"
    }
   ],
   "source": [
    "disprotani.shape"
   ]
  },
  {
   "cell_type": "code",
   "execution_count": 260,
   "metadata": {},
   "outputs": [],
   "source": [
    "# Création de la colonne proportion de protéines animales : \n",
    "disprotani['prop_prot_animales'] = disprotani['dispo_PROT_ANIMALES_(g/pers/j)'] / disprotani['dispo_PROT_(g/pers/j)']"
   ]
  },
  {
   "cell_type": "code",
   "execution_count": 47,
   "metadata": {},
   "outputs": [
    {
     "data": {
      "text/html": [
       "<div>\n",
       "<style scoped>\n",
       "    .dataframe tbody tr th:only-of-type {\n",
       "        vertical-align: middle;\n",
       "    }\n",
       "\n",
       "    .dataframe tbody tr th {\n",
       "        vertical-align: top;\n",
       "    }\n",
       "\n",
       "    .dataframe thead th {\n",
       "        text-align: right;\n",
       "    }\n",
       "</style>\n",
       "<table border=\"1\" class=\"dataframe\">\n",
       "  <thead>\n",
       "    <tr style=\"text-align: right;\">\n",
       "      <th></th>\n",
       "      <th>country_code</th>\n",
       "      <th>country</th>\n",
       "      <th>dispo_PROT_(g/pers/j)</th>\n",
       "      <th>dispo_PROT_ANIMALES_(g/pers/j)</th>\n",
       "      <th>prop_prot_animales</th>\n",
       "    </tr>\n",
       "  </thead>\n",
       "  <tbody>\n",
       "    <tr>\n",
       "      <th>0</th>\n",
       "      <td>1</td>\n",
       "      <td>Arménie</td>\n",
       "      <td>97.33</td>\n",
       "      <td>52.77</td>\n",
       "      <td>0.542176</td>\n",
       "    </tr>\n",
       "    <tr>\n",
       "      <th>1</th>\n",
       "      <td>2</td>\n",
       "      <td>Afghanistan</td>\n",
       "      <td>54.09</td>\n",
       "      <td>43.53</td>\n",
       "      <td>0.804770</td>\n",
       "    </tr>\n",
       "    <tr>\n",
       "      <th>2</th>\n",
       "      <td>3</td>\n",
       "      <td>Albanie</td>\n",
       "      <td>119.50</td>\n",
       "      <td>53.18</td>\n",
       "      <td>0.445021</td>\n",
       "    </tr>\n",
       "    <tr>\n",
       "      <th>3</th>\n",
       "      <td>4</td>\n",
       "      <td>Algérie</td>\n",
       "      <td>92.85</td>\n",
       "      <td>67.15</td>\n",
       "      <td>0.723209</td>\n",
       "    </tr>\n",
       "    <tr>\n",
       "      <th>4</th>\n",
       "      <td>7</td>\n",
       "      <td>Angola</td>\n",
       "      <td>54.09</td>\n",
       "      <td>37.62</td>\n",
       "      <td>0.695507</td>\n",
       "    </tr>\n",
       "  </tbody>\n",
       "</table>\n",
       "</div>"
      ],
      "text/plain": [
       "   country_code      country  dispo_PROT_(g/pers/j)  \\\n",
       "0             1      Arménie                  97.33   \n",
       "1             2  Afghanistan                  54.09   \n",
       "2             3      Albanie                 119.50   \n",
       "3             4      Algérie                  92.85   \n",
       "4             7       Angola                  54.09   \n",
       "\n",
       "   dispo_PROT_ANIMALES_(g/pers/j)  prop_prot_animales  \n",
       "0                           52.77            0.542176  \n",
       "1                           43.53            0.804770  \n",
       "2                           53.18            0.445021  \n",
       "3                           67.15            0.723209  \n",
       "4                           37.62            0.695507  "
      ]
     },
     "execution_count": 47,
     "metadata": {},
     "output_type": "execute_result"
    }
   ],
   "source": [
    "disprotani.head()"
   ]
  },
  {
   "cell_type": "markdown",
   "metadata": {},
   "source": [
    "### Jointure avec pop"
   ]
  },
  {
   "cell_type": "code",
   "execution_count": 261,
   "metadata": {},
   "outputs": [],
   "source": [
    "# Je créé un nouveau dataframe \n",
    "disprotanip = pd.merge(pop, disprotani, left_on='Code zone', right_on='country_code')"
   ]
  },
  {
   "cell_type": "code",
   "execution_count": 262,
   "metadata": {},
   "outputs": [
    {
     "data": {
      "text/html": [
       "<div>\n",
       "<style scoped>\n",
       "    .dataframe tbody tr th:only-of-type {\n",
       "        vertical-align: middle;\n",
       "    }\n",
       "\n",
       "    .dataframe tbody tr th {\n",
       "        vertical-align: top;\n",
       "    }\n",
       "\n",
       "    .dataframe thead th {\n",
       "        text-align: right;\n",
       "    }\n",
       "</style>\n",
       "<table border=\"1\" class=\"dataframe\">\n",
       "  <thead>\n",
       "    <tr style=\"text-align: right;\">\n",
       "      <th></th>\n",
       "      <th>Code zone</th>\n",
       "      <th>Zone</th>\n",
       "      <th>pop_2013</th>\n",
       "      <th>pop_2017</th>\n",
       "      <th>ratio_evol_pop</th>\n",
       "      <th>country_code</th>\n",
       "      <th>country</th>\n",
       "      <th>dispo_PROT_(g/pers/j)</th>\n",
       "      <th>dispo_PROT_ANIMALES_(g/pers/j)</th>\n",
       "      <th>prop_prot_animales</th>\n",
       "    </tr>\n",
       "  </thead>\n",
       "  <tbody>\n",
       "    <tr>\n",
       "      <th>0</th>\n",
       "      <td>1</td>\n",
       "      <td>Arménie</td>\n",
       "      <td>2897587</td>\n",
       "      <td>2944790</td>\n",
       "      <td>0.016290</td>\n",
       "      <td>1</td>\n",
       "      <td>Arménie</td>\n",
       "      <td>97.33</td>\n",
       "      <td>52.77</td>\n",
       "      <td>0.542176</td>\n",
       "    </tr>\n",
       "    <tr>\n",
       "      <th>1</th>\n",
       "      <td>2</td>\n",
       "      <td>Afghanistan</td>\n",
       "      <td>32269589</td>\n",
       "      <td>36296113</td>\n",
       "      <td>0.124778</td>\n",
       "      <td>2</td>\n",
       "      <td>Afghanistan</td>\n",
       "      <td>54.09</td>\n",
       "      <td>43.53</td>\n",
       "      <td>0.804770</td>\n",
       "    </tr>\n",
       "    <tr>\n",
       "      <th>2</th>\n",
       "      <td>3</td>\n",
       "      <td>Albanie</td>\n",
       "      <td>2903790</td>\n",
       "      <td>2884169</td>\n",
       "      <td>-0.006757</td>\n",
       "      <td>3</td>\n",
       "      <td>Albanie</td>\n",
       "      <td>119.50</td>\n",
       "      <td>53.18</td>\n",
       "      <td>0.445021</td>\n",
       "    </tr>\n",
       "    <tr>\n",
       "      <th>3</th>\n",
       "      <td>4</td>\n",
       "      <td>Algérie</td>\n",
       "      <td>38140133</td>\n",
       "      <td>41389189</td>\n",
       "      <td>0.085187</td>\n",
       "      <td>4</td>\n",
       "      <td>Algérie</td>\n",
       "      <td>92.85</td>\n",
       "      <td>67.15</td>\n",
       "      <td>0.723209</td>\n",
       "    </tr>\n",
       "    <tr>\n",
       "      <th>4</th>\n",
       "      <td>7</td>\n",
       "      <td>Angola</td>\n",
       "      <td>26015781</td>\n",
       "      <td>29816766</td>\n",
       "      <td>0.146103</td>\n",
       "      <td>7</td>\n",
       "      <td>Angola</td>\n",
       "      <td>54.09</td>\n",
       "      <td>37.62</td>\n",
       "      <td>0.695507</td>\n",
       "    </tr>\n",
       "  </tbody>\n",
       "</table>\n",
       "</div>"
      ],
      "text/plain": [
       "   Code zone         Zone  pop_2013  pop_2017  ratio_evol_pop  country_code  \\\n",
       "0          1      Arménie   2897587   2944790        0.016290             1   \n",
       "1          2  Afghanistan  32269589  36296113        0.124778             2   \n",
       "2          3      Albanie   2903790   2884169       -0.006757             3   \n",
       "3          4      Algérie  38140133  41389189        0.085187             4   \n",
       "4          7       Angola  26015781  29816766        0.146103             7   \n",
       "\n",
       "       country  dispo_PROT_(g/pers/j)  dispo_PROT_ANIMALES_(g/pers/j)  \\\n",
       "0      Arménie                  97.33                           52.77   \n",
       "1  Afghanistan                  54.09                           43.53   \n",
       "2      Albanie                 119.50                           53.18   \n",
       "3      Algérie                  92.85                           67.15   \n",
       "4       Angola                  54.09                           37.62   \n",
       "\n",
       "   prop_prot_animales  \n",
       "0            0.542176  \n",
       "1            0.804770  \n",
       "2            0.445021  \n",
       "3            0.723209  \n",
       "4            0.695507  "
      ]
     },
     "execution_count": 262,
     "metadata": {},
     "output_type": "execute_result"
    }
   ],
   "source": [
    "disprotanip.head()"
   ]
  },
  {
   "cell_type": "code",
   "execution_count": 263,
   "metadata": {},
   "outputs": [
    {
     "data": {
      "text/plain": [
       "(172, 10)"
      ]
     },
     "execution_count": 263,
     "metadata": {},
     "output_type": "execute_result"
    }
   ],
   "source": [
    "disprotanip.shape"
   ]
  },
  {
   "cell_type": "markdown",
   "metadata": {},
   "source": [
    "Le df disprotani comprend 1 lignes de plus (173) : l'occurrence de la Chine retirée au départ. "
   ]
  },
  {
   "cell_type": "code",
   "execution_count": 264,
   "metadata": {},
   "outputs": [],
   "source": [
    "# Je supprime les colonnes devenues inutiles : \n",
    "disprotanip = disprotanip.drop([\"pop_2013\", \"pop_2017\", \"country_code\", \"country\", \"dispo_PROT_ANIMALES_(g/pers/j)\"], axis=1)"
   ]
  },
  {
   "cell_type": "code",
   "execution_count": 265,
   "metadata": {},
   "outputs": [],
   "source": [
    "del pop"
   ]
  },
  {
   "cell_type": "markdown",
   "metadata": {},
   "source": [
    "## 1.4. Disponibilité alimentaire en calories par habitant"
   ]
  },
  {
   "cell_type": "code",
   "execution_count": 266,
   "metadata": {},
   "outputs": [],
   "source": [
    "data = pd.merge(disprotanip, dalcal, left_on='Code zone', right_on='country_code')"
   ]
  },
  {
   "cell_type": "code",
   "execution_count": 267,
   "metadata": {},
   "outputs": [
    {
     "data": {
      "text/html": [
       "<div>\n",
       "<style scoped>\n",
       "    .dataframe tbody tr th:only-of-type {\n",
       "        vertical-align: middle;\n",
       "    }\n",
       "\n",
       "    .dataframe tbody tr th {\n",
       "        vertical-align: top;\n",
       "    }\n",
       "\n",
       "    .dataframe thead th {\n",
       "        text-align: right;\n",
       "    }\n",
       "</style>\n",
       "<table border=\"1\" class=\"dataframe\">\n",
       "  <thead>\n",
       "    <tr style=\"text-align: right;\">\n",
       "      <th></th>\n",
       "      <th>Code zone</th>\n",
       "      <th>Zone</th>\n",
       "      <th>ratio_evol_pop</th>\n",
       "      <th>dispo_PROT_(g/pers/j)</th>\n",
       "      <th>prop_prot_animales</th>\n",
       "      <th>country_code</th>\n",
       "      <th>country</th>\n",
       "      <th>dispo_ALI_(kcal/pers/j)</th>\n",
       "    </tr>\n",
       "  </thead>\n",
       "  <tbody>\n",
       "    <tr>\n",
       "      <th>0</th>\n",
       "      <td>1</td>\n",
       "      <td>Arménie</td>\n",
       "      <td>0.016290</td>\n",
       "      <td>97.33</td>\n",
       "      <td>0.542176</td>\n",
       "      <td>1</td>\n",
       "      <td>Arménie</td>\n",
       "      <td>3072.0</td>\n",
       "    </tr>\n",
       "    <tr>\n",
       "      <th>1</th>\n",
       "      <td>2</td>\n",
       "      <td>Afghanistan</td>\n",
       "      <td>0.124778</td>\n",
       "      <td>54.09</td>\n",
       "      <td>0.804770</td>\n",
       "      <td>2</td>\n",
       "      <td>Afghanistan</td>\n",
       "      <td>1997.0</td>\n",
       "    </tr>\n",
       "    <tr>\n",
       "      <th>2</th>\n",
       "      <td>3</td>\n",
       "      <td>Albanie</td>\n",
       "      <td>-0.006757</td>\n",
       "      <td>119.50</td>\n",
       "      <td>0.445021</td>\n",
       "      <td>3</td>\n",
       "      <td>Albanie</td>\n",
       "      <td>3400.0</td>\n",
       "    </tr>\n",
       "    <tr>\n",
       "      <th>3</th>\n",
       "      <td>4</td>\n",
       "      <td>Algérie</td>\n",
       "      <td>0.085187</td>\n",
       "      <td>92.85</td>\n",
       "      <td>0.723209</td>\n",
       "      <td>4</td>\n",
       "      <td>Algérie</td>\n",
       "      <td>3345.0</td>\n",
       "    </tr>\n",
       "    <tr>\n",
       "      <th>4</th>\n",
       "      <td>7</td>\n",
       "      <td>Angola</td>\n",
       "      <td>0.146103</td>\n",
       "      <td>54.09</td>\n",
       "      <td>0.695507</td>\n",
       "      <td>7</td>\n",
       "      <td>Angola</td>\n",
       "      <td>2266.0</td>\n",
       "    </tr>\n",
       "  </tbody>\n",
       "</table>\n",
       "</div>"
      ],
      "text/plain": [
       "   Code zone         Zone  ratio_evol_pop  dispo_PROT_(g/pers/j)  \\\n",
       "0          1      Arménie        0.016290                  97.33   \n",
       "1          2  Afghanistan        0.124778                  54.09   \n",
       "2          3      Albanie       -0.006757                 119.50   \n",
       "3          4      Algérie        0.085187                  92.85   \n",
       "4          7       Angola        0.146103                  54.09   \n",
       "\n",
       "   prop_prot_animales  country_code      country  dispo_ALI_(kcal/pers/j)  \n",
       "0            0.542176             1      Arménie                   3072.0  \n",
       "1            0.804770             2  Afghanistan                   1997.0  \n",
       "2            0.445021             3      Albanie                   3400.0  \n",
       "3            0.723209             4      Algérie                   3345.0  \n",
       "4            0.695507             7       Angola                   2266.0  "
      ]
     },
     "execution_count": 267,
     "metadata": {},
     "output_type": "execute_result"
    }
   ],
   "source": [
    "data.head()"
   ]
  },
  {
   "cell_type": "code",
   "execution_count": 268,
   "metadata": {},
   "outputs": [
    {
     "data": {
      "text/plain": [
       "(172, 8)"
      ]
     },
     "execution_count": 268,
     "metadata": {},
     "output_type": "execute_result"
    }
   ],
   "source": [
    "data.shape"
   ]
  },
  {
   "cell_type": "code",
   "execution_count": 269,
   "metadata": {},
   "outputs": [],
   "source": [
    "# Suppression des colonnes inutiles\n",
    "data = data.drop(['country_code', 'country'], axis=1)"
   ]
  },
  {
   "cell_type": "code",
   "execution_count": 270,
   "metadata": {},
   "outputs": [
    {
     "data": {
      "text/html": [
       "<div>\n",
       "<style scoped>\n",
       "    .dataframe tbody tr th:only-of-type {\n",
       "        vertical-align: middle;\n",
       "    }\n",
       "\n",
       "    .dataframe tbody tr th {\n",
       "        vertical-align: top;\n",
       "    }\n",
       "\n",
       "    .dataframe thead th {\n",
       "        text-align: right;\n",
       "    }\n",
       "</style>\n",
       "<table border=\"1\" class=\"dataframe\">\n",
       "  <thead>\n",
       "    <tr style=\"text-align: right;\">\n",
       "      <th></th>\n",
       "      <th>Code zone</th>\n",
       "      <th>Zone</th>\n",
       "      <th>ratio_evol_pop</th>\n",
       "      <th>dispo_PROT_(g/pers/j)</th>\n",
       "      <th>prop_prot_animales</th>\n",
       "      <th>dispo_ALI_(kcal/pers/j)</th>\n",
       "    </tr>\n",
       "  </thead>\n",
       "  <tbody>\n",
       "    <tr>\n",
       "      <th>0</th>\n",
       "      <td>1</td>\n",
       "      <td>Arménie</td>\n",
       "      <td>0.016290</td>\n",
       "      <td>97.33</td>\n",
       "      <td>0.542176</td>\n",
       "      <td>3072.0</td>\n",
       "    </tr>\n",
       "    <tr>\n",
       "      <th>1</th>\n",
       "      <td>2</td>\n",
       "      <td>Afghanistan</td>\n",
       "      <td>0.124778</td>\n",
       "      <td>54.09</td>\n",
       "      <td>0.804770</td>\n",
       "      <td>1997.0</td>\n",
       "    </tr>\n",
       "    <tr>\n",
       "      <th>2</th>\n",
       "      <td>3</td>\n",
       "      <td>Albanie</td>\n",
       "      <td>-0.006757</td>\n",
       "      <td>119.50</td>\n",
       "      <td>0.445021</td>\n",
       "      <td>3400.0</td>\n",
       "    </tr>\n",
       "    <tr>\n",
       "      <th>3</th>\n",
       "      <td>4</td>\n",
       "      <td>Algérie</td>\n",
       "      <td>0.085187</td>\n",
       "      <td>92.85</td>\n",
       "      <td>0.723209</td>\n",
       "      <td>3345.0</td>\n",
       "    </tr>\n",
       "    <tr>\n",
       "      <th>4</th>\n",
       "      <td>7</td>\n",
       "      <td>Angola</td>\n",
       "      <td>0.146103</td>\n",
       "      <td>54.09</td>\n",
       "      <td>0.695507</td>\n",
       "      <td>2266.0</td>\n",
       "    </tr>\n",
       "  </tbody>\n",
       "</table>\n",
       "</div>"
      ],
      "text/plain": [
       "   Code zone         Zone  ratio_evol_pop  dispo_PROT_(g/pers/j)  \\\n",
       "0          1      Arménie        0.016290                  97.33   \n",
       "1          2  Afghanistan        0.124778                  54.09   \n",
       "2          3      Albanie       -0.006757                 119.50   \n",
       "3          4      Algérie        0.085187                  92.85   \n",
       "4          7       Angola        0.146103                  54.09   \n",
       "\n",
       "   prop_prot_animales  dispo_ALI_(kcal/pers/j)  \n",
       "0            0.542176                   3072.0  \n",
       "1            0.804770                   1997.0  \n",
       "2            0.445021                   3400.0  \n",
       "3            0.723209                   3345.0  \n",
       "4            0.695507                   2266.0  "
      ]
     },
     "execution_count": 270,
     "metadata": {},
     "output_type": "execute_result"
    }
   ],
   "source": [
    "data.head()"
   ]
  },
  {
   "cell_type": "code",
   "execution_count": 271,
   "metadata": {},
   "outputs": [
    {
     "data": {
      "text/plain": [
       "(172, 6)"
      ]
     },
     "execution_count": 271,
     "metadata": {},
     "output_type": "execute_result"
    }
   ],
   "source": [
    "data.shape"
   ]
  },
  {
   "cell_type": "code",
   "execution_count": 272,
   "metadata": {},
   "outputs": [],
   "source": [
    "del disprotani, disprotanip"
   ]
  },
  {
   "cell_type": "markdown",
   "metadata": {},
   "source": [
    "## 1.5. Ajout de la variable PIB par habitant"
   ]
  },
  {
   "cell_type": "code",
   "execution_count": 273,
   "metadata": {},
   "outputs": [],
   "source": [
    "# Import des données PIB 2017 (source FAO) \n",
    "pib = pd.read_csv(\"C:/Users/Zang/Documents/APPRENDER/OPENCLASSROOMS/PARCOURS DA/P5_Etude_de_marche/pibparhbt17.csv\")"
   ]
  },
  {
   "cell_type": "code",
   "execution_count": 274,
   "metadata": {},
   "outputs": [],
   "source": [
    "# Je garde les colonnes utiles pour plus de lisibilité\n",
    "pib = pib.drop([\"Code Domaine\", \"Domaine\", \"Code Élément\", \"Élément\", \"Code Produit\", \"Code année\",\n",
    "               \"Année\", \"Unité\", \"Note\"], axis=1)"
   ]
  },
  {
   "cell_type": "code",
   "execution_count": 275,
   "metadata": {},
   "outputs": [],
   "source": [
    "pib = pib.pivot_table(index=[\"Code zone\",\"Zone\"], columns = [\"Produit\"], \n",
    "values=[\"Valeur\"])"
   ]
  },
  {
   "cell_type": "code",
   "execution_count": 276,
   "metadata": {},
   "outputs": [],
   "source": [
    "# On renomme les colonnes\n",
    "pib.columns = ['PIB_par_hbt_(US$)']"
   ]
  },
  {
   "cell_type": "code",
   "execution_count": 277,
   "metadata": {},
   "outputs": [],
   "source": [
    "pib.reset_index(inplace=True)"
   ]
  },
  {
   "cell_type": "code",
   "execution_count": 278,
   "metadata": {},
   "outputs": [
    {
     "data": {
      "text/html": [
       "<div>\n",
       "<style scoped>\n",
       "    .dataframe tbody tr th:only-of-type {\n",
       "        vertical-align: middle;\n",
       "    }\n",
       "\n",
       "    .dataframe tbody tr th {\n",
       "        vertical-align: top;\n",
       "    }\n",
       "\n",
       "    .dataframe thead th {\n",
       "        text-align: right;\n",
       "    }\n",
       "</style>\n",
       "<table border=\"1\" class=\"dataframe\">\n",
       "  <thead>\n",
       "    <tr style=\"text-align: right;\">\n",
       "      <th></th>\n",
       "      <th>Code zone</th>\n",
       "      <th>PIB_par_hbt_(US$)</th>\n",
       "    </tr>\n",
       "  </thead>\n",
       "  <tbody>\n",
       "    <tr>\n",
       "      <th>count</th>\n",
       "      <td>212.000000</td>\n",
       "      <td>212.000000</td>\n",
       "    </tr>\n",
       "    <tr>\n",
       "      <th>mean</th>\n",
       "      <td>132.004717</td>\n",
       "      <td>16689.337040</td>\n",
       "    </tr>\n",
       "    <tr>\n",
       "      <th>std</th>\n",
       "      <td>78.240454</td>\n",
       "      <td>25254.910206</td>\n",
       "    </tr>\n",
       "    <tr>\n",
       "      <th>min</th>\n",
       "      <td>1.000000</td>\n",
       "      <td>101.563368</td>\n",
       "    </tr>\n",
       "    <tr>\n",
       "      <th>25%</th>\n",
       "      <td>65.250000</td>\n",
       "      <td>2034.606833</td>\n",
       "    </tr>\n",
       "    <tr>\n",
       "      <th>50%</th>\n",
       "      <td>129.500000</td>\n",
       "      <td>6272.656494</td>\n",
       "    </tr>\n",
       "    <tr>\n",
       "      <th>75%</th>\n",
       "      <td>195.250000</td>\n",
       "      <td>19936.878512</td>\n",
       "    </tr>\n",
       "    <tr>\n",
       "      <th>max</th>\n",
       "      <td>351.000000</td>\n",
       "      <td>172799.804725</td>\n",
       "    </tr>\n",
       "  </tbody>\n",
       "</table>\n",
       "</div>"
      ],
      "text/plain": [
       "        Code zone  PIB_par_hbt_(US$)\n",
       "count  212.000000         212.000000\n",
       "mean   132.004717       16689.337040\n",
       "std     78.240454       25254.910206\n",
       "min      1.000000         101.563368\n",
       "25%     65.250000        2034.606833\n",
       "50%    129.500000        6272.656494\n",
       "75%    195.250000       19936.878512\n",
       "max    351.000000      172799.804725"
      ]
     },
     "execution_count": 278,
     "metadata": {},
     "output_type": "execute_result"
    }
   ],
   "source": [
    "pib.describe()"
   ]
  },
  {
   "cell_type": "code",
   "execution_count": 279,
   "metadata": {},
   "outputs": [],
   "source": [
    "# Jointure avec le df global\n",
    "data = pd.merge(data, pib, how='left')"
   ]
  },
  {
   "cell_type": "code",
   "execution_count": 280,
   "metadata": {},
   "outputs": [
    {
     "data": {
      "text/plain": [
       "(172, 7)"
      ]
     },
     "execution_count": 280,
     "metadata": {},
     "output_type": "execute_result"
    }
   ],
   "source": [
    "data.shape"
   ]
  },
  {
   "cell_type": "code",
   "execution_count": 281,
   "metadata": {},
   "outputs": [
    {
     "data": {
      "text/plain": [
       "Code zone                  0\n",
       "Zone                       0\n",
       "ratio_evol_pop             0\n",
       "dispo_PROT_(g/pers/j)      0\n",
       "prop_prot_animales         0\n",
       "dispo_ALI_(kcal/pers/j)    0\n",
       "PIB_par_hbt_(US$)          1\n",
       "dtype: int64"
      ]
     },
     "execution_count": 281,
     "metadata": {},
     "output_type": "execute_result"
    }
   ],
   "source": [
    "# Recherche de valeurs nulles\n",
    "data.isnull().sum()"
   ]
  },
  {
   "cell_type": "code",
   "execution_count": 282,
   "metadata": {},
   "outputs": [
    {
     "data": {
      "text/html": [
       "<div>\n",
       "<style scoped>\n",
       "    .dataframe tbody tr th:only-of-type {\n",
       "        vertical-align: middle;\n",
       "    }\n",
       "\n",
       "    .dataframe tbody tr th {\n",
       "        vertical-align: top;\n",
       "    }\n",
       "\n",
       "    .dataframe thead th {\n",
       "        text-align: right;\n",
       "    }\n",
       "</style>\n",
       "<table border=\"1\" class=\"dataframe\">\n",
       "  <thead>\n",
       "    <tr style=\"text-align: right;\">\n",
       "      <th></th>\n",
       "      <th>Code zone</th>\n",
       "      <th>Zone</th>\n",
       "      <th>ratio_evol_pop</th>\n",
       "      <th>dispo_PROT_(g/pers/j)</th>\n",
       "      <th>prop_prot_animales</th>\n",
       "      <th>dispo_ALI_(kcal/pers/j)</th>\n",
       "      <th>PIB_par_hbt_(US$)</th>\n",
       "    </tr>\n",
       "  </thead>\n",
       "  <tbody>\n",
       "    <tr>\n",
       "      <th>145</th>\n",
       "      <td>214</td>\n",
       "      <td>Chine, Taiwan Province de</td>\n",
       "      <td>0.0108</td>\n",
       "      <td>85.71</td>\n",
       "      <td>0.504609</td>\n",
       "      <td>2976.0</td>\n",
       "      <td>NaN</td>\n",
       "    </tr>\n",
       "  </tbody>\n",
       "</table>\n",
       "</div>"
      ],
      "text/plain": [
       "     Code zone                       Zone  ratio_evol_pop  \\\n",
       "145        214  Chine, Taiwan Province de          0.0108   \n",
       "\n",
       "     dispo_PROT_(g/pers/j)  prop_prot_animales  dispo_ALI_(kcal/pers/j)  \\\n",
       "145                  85.71            0.504609                   2976.0   \n",
       "\n",
       "     PIB_par_hbt_(US$)  \n",
       "145                NaN  "
      ]
     },
     "execution_count": 282,
     "metadata": {},
     "output_type": "execute_result"
    }
   ],
   "source": [
    "data[data['PIB_par_hbt_(US$)'].isnull()]"
   ]
  },
  {
   "cell_type": "markdown",
   "metadata": {},
   "source": [
    "Le PIB par hbt de Taiwan est au niveau de celui du Danemark (info trouvée sur Wikipedia et vraisemblable en croisant plusieurs sources)."
   ]
  },
  {
   "cell_type": "code",
   "execution_count": 284,
   "metadata": {},
   "outputs": [],
   "source": [
    "data.loc[data['Zone']=='Chine, Taiwan Province de', 'PIB_par_hbt_(US$)'] = 57500"
   ]
  },
  {
   "cell_type": "code",
   "execution_count": 285,
   "metadata": {
    "scrolled": true
   },
   "outputs": [
    {
     "data": {
      "text/html": [
       "<div>\n",
       "<style scoped>\n",
       "    .dataframe tbody tr th:only-of-type {\n",
       "        vertical-align: middle;\n",
       "    }\n",
       "\n",
       "    .dataframe tbody tr th {\n",
       "        vertical-align: top;\n",
       "    }\n",
       "\n",
       "    .dataframe thead th {\n",
       "        text-align: right;\n",
       "    }\n",
       "</style>\n",
       "<table border=\"1\" class=\"dataframe\">\n",
       "  <thead>\n",
       "    <tr style=\"text-align: right;\">\n",
       "      <th></th>\n",
       "      <th>Code zone</th>\n",
       "      <th>Zone</th>\n",
       "      <th>ratio_evol_pop</th>\n",
       "      <th>dispo_PROT_(g/pers/j)</th>\n",
       "      <th>prop_prot_animales</th>\n",
       "      <th>dispo_ALI_(kcal/pers/j)</th>\n",
       "      <th>PIB_par_hbt_(US$)</th>\n",
       "    </tr>\n",
       "  </thead>\n",
       "  <tbody>\n",
       "    <tr>\n",
       "      <th>96</th>\n",
       "      <td>136</td>\n",
       "      <td>Mauritanie</td>\n",
       "      <td>0.121828</td>\n",
       "      <td>79.82</td>\n",
       "      <td>0.631295</td>\n",
       "      <td>2842.0</td>\n",
       "      <td>1597.806534</td>\n",
       "    </tr>\n",
       "  </tbody>\n",
       "</table>\n",
       "</div>"
      ],
      "text/plain": [
       "    Code zone        Zone  ratio_evol_pop  dispo_PROT_(g/pers/j)  \\\n",
       "96        136  Mauritanie        0.121828                  79.82   \n",
       "\n",
       "    prop_prot_animales  dispo_ALI_(kcal/pers/j)  PIB_par_hbt_(US$)  \n",
       "96            0.631295                   2842.0        1597.806534  "
      ]
     },
     "execution_count": 285,
     "metadata": {},
     "output_type": "execute_result"
    }
   ],
   "source": [
    "# Vérification au hasard\n",
    "data.sample(1)"
   ]
  },
  {
   "cell_type": "code",
   "execution_count": 286,
   "metadata": {},
   "outputs": [],
   "source": [
    "del pib"
   ]
  },
  {
   "cell_type": "code",
   "execution_count": 287,
   "metadata": {},
   "outputs": [],
   "source": [
    "# Enregistrement\n",
    "data.to_csv('C:/Users/Zang/Documents/APPRENDER/OPENCLASSROOMS/PARCOURS DA/P5_Etude_de_marche/data18b.csv', index=False)"
   ]
  },
  {
   "cell_type": "code",
   "execution_count": 2,
   "metadata": {},
   "outputs": [],
   "source": [
    "# Import (si besoin)\n",
    "data = pd.read_csv('C:/Users/Zang/Documents/APPRENDER/OPENCLASSROOMS/PARCOURS DA/P5_Etude_de_marche/data18b.csv')"
   ]
  },
  {
   "cell_type": "markdown",
   "metadata": {},
   "source": [
    "# Le tableau est complet ! "
   ]
  },
  {
   "cell_type": "code",
   "execution_count": 288,
   "metadata": {},
   "outputs": [
    {
     "data": {
      "text/html": [
       "<div>\n",
       "<style scoped>\n",
       "    .dataframe tbody tr th:only-of-type {\n",
       "        vertical-align: middle;\n",
       "    }\n",
       "\n",
       "    .dataframe tbody tr th {\n",
       "        vertical-align: top;\n",
       "    }\n",
       "\n",
       "    .dataframe thead th {\n",
       "        text-align: right;\n",
       "    }\n",
       "</style>\n",
       "<table border=\"1\" class=\"dataframe\">\n",
       "  <thead>\n",
       "    <tr style=\"text-align: right;\">\n",
       "      <th></th>\n",
       "      <th>Code zone</th>\n",
       "      <th>Zone</th>\n",
       "      <th>ratio_evol_pop</th>\n",
       "      <th>dispo_PROT_(g/pers/j)</th>\n",
       "      <th>prop_prot_animales</th>\n",
       "      <th>dispo_ALI_(kcal/pers/j)</th>\n",
       "      <th>PIB_par_hbt_(US$)</th>\n",
       "    </tr>\n",
       "  </thead>\n",
       "  <tbody>\n",
       "    <tr>\n",
       "      <th>0</th>\n",
       "      <td>1</td>\n",
       "      <td>Arménie</td>\n",
       "      <td>0.01629</td>\n",
       "      <td>97.33</td>\n",
       "      <td>0.542176</td>\n",
       "      <td>3072.0</td>\n",
       "      <td>3933.682101</td>\n",
       "    </tr>\n",
       "  </tbody>\n",
       "</table>\n",
       "</div>"
      ],
      "text/plain": [
       "   Code zone     Zone  ratio_evol_pop  dispo_PROT_(g/pers/j)  \\\n",
       "0          1  Arménie         0.01629                  97.33   \n",
       "\n",
       "   prop_prot_animales  dispo_ALI_(kcal/pers/j)  PIB_par_hbt_(US$)  \n",
       "0            0.542176                   3072.0        3933.682101  "
      ]
     },
     "execution_count": 288,
     "metadata": {},
     "output_type": "execute_result"
    }
   ],
   "source": [
    "# 1ère ligne pour mémoire\n",
    "data.head(1)"
   ]
  },
  {
   "cell_type": "code",
   "execution_count": 289,
   "metadata": {},
   "outputs": [
    {
     "data": {
      "text/plain": [
       "(172, 7)"
      ]
     },
     "execution_count": 289,
     "metadata": {},
     "output_type": "execute_result"
    }
   ],
   "source": [
    "data.shape"
   ]
  },
  {
   "cell_type": "markdown",
   "metadata": {},
   "source": [
    "# <font color='#FFCA36'>2. Classification ascendante hiérarchique</font>"
   ]
  },
  {
   "cell_type": "markdown",
   "metadata": {},
   "source": [
    "## Construction du dendrogramme"
   ]
  },
  {
   "cell_type": "markdown",
   "metadata": {},
   "source": [
    "### Nettoyage et standardisation des données"
   ]
  },
  {
   "cell_type": "markdown",
   "metadata": {},
   "source": [
    "cf. https://openclassrooms.com/fr/courses/5869986-perform-an-exploratory-data-analysis/6177871-analyze-the-results-of-a-hierarchical-clustering"
   ]
  },
  {
   "cell_type": "code",
   "execution_count": 3,
   "metadata": {},
   "outputs": [],
   "source": [
    "# Copie du df principal, sans la colonne \"code zone\" \n",
    "X = data.drop('Code zone',axis=1).set_index('Zone')"
   ]
  },
  {
   "cell_type": "code",
   "execution_count": 291,
   "metadata": {},
   "outputs": [
    {
     "data": {
      "text/html": [
       "<div>\n",
       "<style scoped>\n",
       "    .dataframe tbody tr th:only-of-type {\n",
       "        vertical-align: middle;\n",
       "    }\n",
       "\n",
       "    .dataframe tbody tr th {\n",
       "        vertical-align: top;\n",
       "    }\n",
       "\n",
       "    .dataframe thead th {\n",
       "        text-align: right;\n",
       "    }\n",
       "</style>\n",
       "<table border=\"1\" class=\"dataframe\">\n",
       "  <thead>\n",
       "    <tr style=\"text-align: right;\">\n",
       "      <th></th>\n",
       "      <th>ratio_evol_pop</th>\n",
       "      <th>dispo_PROT_(g/pers/j)</th>\n",
       "      <th>prop_prot_animales</th>\n",
       "      <th>dispo_ALI_(kcal/pers/j)</th>\n",
       "      <th>PIB_par_hbt_(US$)</th>\n",
       "    </tr>\n",
       "    <tr>\n",
       "      <th>Zone</th>\n",
       "      <th></th>\n",
       "      <th></th>\n",
       "      <th></th>\n",
       "      <th></th>\n",
       "      <th></th>\n",
       "    </tr>\n",
       "  </thead>\n",
       "  <tbody>\n",
       "    <tr>\n",
       "      <th>Arménie</th>\n",
       "      <td>0.016290</td>\n",
       "      <td>97.33</td>\n",
       "      <td>0.542176</td>\n",
       "      <td>3072.0</td>\n",
       "      <td>3933.682101</td>\n",
       "    </tr>\n",
       "    <tr>\n",
       "      <th>Afghanistan</th>\n",
       "      <td>0.124778</td>\n",
       "      <td>54.09</td>\n",
       "      <td>0.804770</td>\n",
       "      <td>1997.0</td>\n",
       "      <td>605.557362</td>\n",
       "    </tr>\n",
       "    <tr>\n",
       "      <th>Albanie</th>\n",
       "      <td>-0.006757</td>\n",
       "      <td>119.50</td>\n",
       "      <td>0.445021</td>\n",
       "      <td>3400.0</td>\n",
       "      <td>4445.132198</td>\n",
       "    </tr>\n",
       "    <tr>\n",
       "      <th>Algérie</th>\n",
       "      <td>0.085187</td>\n",
       "      <td>92.85</td>\n",
       "      <td>0.723209</td>\n",
       "      <td>3345.0</td>\n",
       "      <td>4051.244377</td>\n",
       "    </tr>\n",
       "    <tr>\n",
       "      <th>Angola</th>\n",
       "      <td>0.146103</td>\n",
       "      <td>54.09</td>\n",
       "      <td>0.695507</td>\n",
       "      <td>2266.0</td>\n",
       "      <td>4100.291004</td>\n",
       "    </tr>\n",
       "  </tbody>\n",
       "</table>\n",
       "</div>"
      ],
      "text/plain": [
       "             ratio_evol_pop  dispo_PROT_(g/pers/j)  prop_prot_animales  \\\n",
       "Zone                                                                     \n",
       "Arménie            0.016290                  97.33            0.542176   \n",
       "Afghanistan        0.124778                  54.09            0.804770   \n",
       "Albanie           -0.006757                 119.50            0.445021   \n",
       "Algérie            0.085187                  92.85            0.723209   \n",
       "Angola             0.146103                  54.09            0.695507   \n",
       "\n",
       "             dispo_ALI_(kcal/pers/j)  PIB_par_hbt_(US$)  \n",
       "Zone                                                     \n",
       "Arménie                       3072.0        3933.682101  \n",
       "Afghanistan                   1997.0         605.557362  \n",
       "Albanie                       3400.0        4445.132198  \n",
       "Algérie                       3345.0        4051.244377  \n",
       "Angola                        2266.0        4100.291004  "
      ]
     },
     "execution_count": 291,
     "metadata": {},
     "output_type": "execute_result"
    }
   ],
   "source": [
    "X.head()"
   ]
  },
  {
   "cell_type": "markdown",
   "metadata": {},
   "source": [
    "##### Centrage et réduction puis calcul des composantes principales"
   ]
  },
  {
   "cell_type": "code",
   "execution_count": 6,
   "metadata": {},
   "outputs": [],
   "source": [
    "# Classe pour standardisation \n",
    "# from sklearn.preprocessing import StandardScaler"
   ]
  },
  {
   "cell_type": "code",
   "execution_count": 4,
   "metadata": {},
   "outputs": [],
   "source": [
    "# Centrage-réduction\n",
    "scaler = preprocessing.StandardScaler().fit(X)\n",
    "X_scaled = scaler.transform(X)"
   ]
  },
  {
   "cell_type": "markdown",
   "metadata": {},
   "source": [
    "-----------------------------------"
   ]
  },
  {
   "cell_type": "markdown",
   "metadata": {},
   "source": [
    "##### Vérifions, par acquis de conscience, les propriétés du nouvel ensemble de données. "
   ]
  },
  {
   "cell_type": "code",
   "execution_count": 293,
   "metadata": {},
   "outputs": [
    {
     "data": {
      "text/plain": [
       "array([ 2.06553121e-17,  3.82123274e-16, -2.94338197e-16, -2.99502025e-16,\n",
       "        1.80733981e-17])"
      ]
     },
     "execution_count": 293,
     "metadata": {},
     "output_type": "execute_result"
    }
   ],
   "source": [
    "# Les moyennes sont maintenant nulles (aux erreurs de troncature près) :\n",
    "np.mean(X_scaled, axis=0)"
   ]
  },
  {
   "cell_type": "code",
   "execution_count": 294,
   "metadata": {},
   "outputs": [
    {
     "data": {
      "text/plain": [
       "array([1., 1., 1., 1., 1.])"
      ]
     },
     "execution_count": 294,
     "metadata": {},
     "output_type": "execute_result"
    }
   ],
   "source": [
    "# Et les écarts-type unitaires.\n",
    "np.std(X_scaled, axis = 0)"
   ]
  },
  {
   "cell_type": "code",
   "execution_count": 295,
   "metadata": {},
   "outputs": [
    {
     "data": {
      "text/plain": [
       "Text(0.5,1,'Visualisation après standardisation')"
      ]
     },
     "execution_count": 295,
     "metadata": {},
     "output_type": "execute_result"
    },
    {
     "data": {
      "image/png": "[encoded data removed]",
      "text/plain": [
       "<Figure size 864x360 with 1 Axes>"
      ]
     },
     "metadata": {},
     "output_type": "display_data"
    }
   ],
   "source": [
    "# Autre vérification : visualisation après standardisation (all variables have a mean of 0 and a standard deviation of 1)\n",
    "pd.DataFrame(X_scaled, columns = X.columns).plot(kind='density', sharex=True, figsize=(12,5), layout=(10,1))\n",
    "plt.title('Visualisation après standardisation')\n",
    "# plt.savefig('fig1.jpeg')"
   ]
  },
  {
   "cell_type": "markdown",
   "metadata": {},
   "source": [
    "-----------------"
   ]
  },
  {
   "cell_type": "markdown",
   "metadata": {},
   "source": [
    "### Dendrogramme"
   ]
  },
  {
   "cell_type": "code",
   "execution_count": 5,
   "metadata": {},
   "outputs": [],
   "source": [
    "from scipy.cluster.hierarchy import linkage, fcluster "
   ]
  },
  {
   "cell_type": "code",
   "execution_count": 6,
   "metadata": {
    "scrolled": false
   },
   "outputs": [
    {
     "data": {
      "image/png": "[encoded data removed]",
      "text/plain": [
       "<Figure size 720x1800 with 1 Axes>"
      ]
     },
     "metadata": {},
     "output_type": "display_data"
    }
   ],
   "source": [
    "# Clustering hiérarchique\n",
    "Z = linkage(X_scaled, 'ward')\n",
    "names = X.index \n",
    "# Affichage du dendrogramme\n",
    "plot_dendrogram(Z, names)\n",
    "\n",
    "# plt.savefig('fig2.jpeg')"
   ]
  },
  {
   "cell_type": "code",
   "execution_count": 7,
   "metadata": {},
   "outputs": [],
   "source": [
    "# Coupage du dendrogramme en 5 clusters\n",
    "clusters = fcluster(Z, 5, criterion='maxclust')"
   ]
  },
  {
   "cell_type": "code",
   "execution_count": 300,
   "metadata": {},
   "outputs": [
    {
     "name": "stdout",
     "output_type": "stream",
     "text": [
      "Group 1:\n",
      "Afghanistan, Angola, Burkina Faso, Bénin, Cameroun, Côte d'Ivoire, Gabon, Gambie, Ghana, Guinée, Guinée-Bissau, Iraq, Jordanie, Kenya, Liban, Libéria, Madagascar, Malawi, Maldives, Mali, Mauritanie, Mozambique, Niger, Nigéria, Oman, Ouganda, Rwanda, République-Unie de Tanzanie, Sao Tomé-et-Principe, Sierra Leone, Sénégal, Tadjikistan, Tchad, Togo, Yémen, Zambie, Éthiopie, Îles Salomon\n",
      " \n",
      "Group 2:\n",
      "Antigua-et-Barbuda, Bahamas, Bangladesh, Belize, Bolivie (État plurinational de), Botswana, Cabo Verde, Cambodge, Congo, Djibouti, El Salvador, Eswatini, Grenade, Guatemala, Haïti, Honduras, Inde, Indonésie, Lesotho, Mongolie, Namibie, Nicaragua, Népal, Pakistan, Philippines, République centrafricaine, République de Moldova, République populaire démocratique de Corée, Saint-Kitts-et-Nevis, Soudan, Sri Lanka, Timor-Leste, Vanuatu, Venezuela (République bolivarienne du), Zimbabwe, Équateur\n",
      " \n",
      "Group 3:\n",
      "Allemagne, Australie, Autriche, Belgique, Canada, Chine - RAS de Hong-Kong, Chine - RAS de Macao, Danemark, Finlande, France, Irlande, Islande, Israël, Italie, Luxembourg, Malte, Norvège, Pays-Bas, Royaume-Uni de Grande-Bretagne et d'Irlande du Nord, République de Corée, Suisse, Suède, Émirats arabes unis, États-Unis d'Amérique\n",
      " \n",
      "Group 4:\n",
      "Albanie, Bélarus, Croatie, Espagne, Estonie, Fédération de Russie, Grèce, Hongrie, Lettonie, Lituanie, Monténégro, Pologne, Portugal, Roumanie, Slovénie, Tchéquie\n",
      " \n",
      "Group 5:\n",
      "Afrique du Sud, Algérie, Arabie saoudite, Argentine, Arménie, Azerbaïdjan, Barbade, Bosnie-Herzégovine, Brésil, Bulgarie, Chili, Chine, Taiwan Province de, Chine, continentale, Chypre, Colombie, Costa Rica, Cuba, Dominique, Fidji, Guyana, Géorgie, Iran (République islamique d'), Jamaïque, Japon, Kazakhstan, Kirghizistan, Kiribati, Koweït, Macédoine du Nord, Malaisie, Maroc, Maurice, Mexique, Myanmar, Nouvelle-Calédonie, Nouvelle-Zélande, Ouzbékistan, Panama, Paraguay, Polynésie française, Pérou, République dominicaine, République démocratique populaire lao, Saint-Vincent-et-les Grenadines, Sainte-Lucie, Samoa, Serbie, Slovaquie, Suriname, Thaïlande, Trinité-et-Tobago, Tunisie, Turkménistan, Turquie, Ukraine, Uruguay, Viet Nam, Égypte\n",
      " \n"
     ]
    }
   ],
   "source": [
    "# Exploration des différents cluters\n",
    "for i in range(1,6):\n",
    "    print(f\"Group {i}:\")\n",
    "    print(\", \".join(X.index[clusters == i].sort_values())) \n",
    "    print(\" \")"
   ]
  },
  {
   "cell_type": "code",
   "execution_count": 174,
   "metadata": {
    "scrolled": true
   },
   "outputs": [
    {
     "data": {
      "text/plain": [
       "5    58\n",
       "1    38\n",
       "2    36\n",
       "3    24\n",
       "4    16\n",
       "Name: cluster, dtype: int64"
      ]
     },
     "execution_count": 174,
     "metadata": {},
     "output_type": "execute_result"
    }
   ],
   "source": [
    "# Taille des clusters\n",
    "X_c[\"cluster\"].value_counts()"
   ]
  },
  {
   "cell_type": "code",
   "execution_count": 8,
   "metadata": {},
   "outputs": [
    {
     "data": {
      "text/html": [
       "<div>\n",
       "<style scoped>\n",
       "    .dataframe tbody tr th:only-of-type {\n",
       "        vertical-align: middle;\n",
       "    }\n",
       "\n",
       "    .dataframe tbody tr th {\n",
       "        vertical-align: top;\n",
       "    }\n",
       "\n",
       "    .dataframe thead th {\n",
       "        text-align: right;\n",
       "    }\n",
       "</style>\n",
       "<table border=\"1\" class=\"dataframe\">\n",
       "  <thead>\n",
       "    <tr style=\"text-align: right;\">\n",
       "      <th></th>\n",
       "      <th>ratio_evol_pop</th>\n",
       "      <th>dispo_PROT_(g/pers/j)</th>\n",
       "      <th>prop_prot_animales</th>\n",
       "      <th>dispo_ALI_(kcal/pers/j)</th>\n",
       "      <th>PIB_par_hbt_(US$)</th>\n",
       "      <th>cluster</th>\n",
       "    </tr>\n",
       "    <tr>\n",
       "      <th>Zone</th>\n",
       "      <th></th>\n",
       "      <th></th>\n",
       "      <th></th>\n",
       "      <th></th>\n",
       "      <th></th>\n",
       "      <th></th>\n",
       "    </tr>\n",
       "  </thead>\n",
       "  <tbody>\n",
       "    <tr>\n",
       "      <th>Arménie</th>\n",
       "      <td>0.016290</td>\n",
       "      <td>97.33</td>\n",
       "      <td>0.542176</td>\n",
       "      <td>3072.0</td>\n",
       "      <td>3933.682101</td>\n",
       "      <td>5</td>\n",
       "    </tr>\n",
       "    <tr>\n",
       "      <th>Afghanistan</th>\n",
       "      <td>0.124778</td>\n",
       "      <td>54.09</td>\n",
       "      <td>0.804770</td>\n",
       "      <td>1997.0</td>\n",
       "      <td>605.557362</td>\n",
       "      <td>1</td>\n",
       "    </tr>\n",
       "    <tr>\n",
       "      <th>Albanie</th>\n",
       "      <td>-0.006757</td>\n",
       "      <td>119.50</td>\n",
       "      <td>0.445021</td>\n",
       "      <td>3400.0</td>\n",
       "      <td>4445.132198</td>\n",
       "      <td>4</td>\n",
       "    </tr>\n",
       "    <tr>\n",
       "      <th>Algérie</th>\n",
       "      <td>0.085187</td>\n",
       "      <td>92.85</td>\n",
       "      <td>0.723209</td>\n",
       "      <td>3345.0</td>\n",
       "      <td>4051.244377</td>\n",
       "      <td>5</td>\n",
       "    </tr>\n",
       "    <tr>\n",
       "      <th>Angola</th>\n",
       "      <td>0.146103</td>\n",
       "      <td>54.09</td>\n",
       "      <td>0.695507</td>\n",
       "      <td>2266.0</td>\n",
       "      <td>4100.291004</td>\n",
       "      <td>1</td>\n",
       "    </tr>\n",
       "  </tbody>\n",
       "</table>\n",
       "</div>"
      ],
      "text/plain": [
       "             ratio_evol_pop  dispo_PROT_(g/pers/j)  prop_prot_animales  \\\n",
       "Zone                                                                     \n",
       "Arménie            0.016290                  97.33            0.542176   \n",
       "Afghanistan        0.124778                  54.09            0.804770   \n",
       "Albanie           -0.006757                 119.50            0.445021   \n",
       "Algérie            0.085187                  92.85            0.723209   \n",
       "Angola             0.146103                  54.09            0.695507   \n",
       "\n",
       "             dispo_ALI_(kcal/pers/j)  PIB_par_hbt_(US$)  cluster  \n",
       "Zone                                                              \n",
       "Arménie                       3072.0        3933.682101        5  \n",
       "Afghanistan                   1997.0         605.557362        1  \n",
       "Albanie                       3400.0        4445.132198        4  \n",
       "Algérie                       3345.0        4051.244377        5  \n",
       "Angola                        2266.0        4100.291004        1  "
      ]
     },
     "execution_count": 8,
     "metadata": {},
     "output_type": "execute_result"
    }
   ],
   "source": [
    "# Ajout des clusters au df principal (je fais une copie X_c c-à-d X clustered)\n",
    "X_c = X.copy()\n",
    "X_c['cluster'] = clusters\n",
    "X_c.head()"
   ]
  },
  {
   "cell_type": "markdown",
   "metadata": {},
   "source": [
    "##### Calcul des moyennes de chaque cluster"
   ]
  },
  {
   "cell_type": "code",
   "execution_count": 9,
   "metadata": {},
   "outputs": [
    {
     "data": {
      "text/html": [
       "<div>\n",
       "<style scoped>\n",
       "    .dataframe tbody tr th:only-of-type {\n",
       "        vertical-align: middle;\n",
       "    }\n",
       "\n",
       "    .dataframe tbody tr th {\n",
       "        vertical-align: top;\n",
       "    }\n",
       "\n",
       "    .dataframe thead th {\n",
       "        text-align: right;\n",
       "    }\n",
       "</style>\n",
       "<table border=\"1\" class=\"dataframe\">\n",
       "  <thead>\n",
       "    <tr style=\"text-align: right;\">\n",
       "      <th></th>\n",
       "      <th>ratio_evol_pop</th>\n",
       "      <th>dispo_PROT_(g/pers/j)</th>\n",
       "      <th>prop_prot_animales</th>\n",
       "      <th>dispo_ALI_(kcal/pers/j)</th>\n",
       "      <th>PIB_par_hbt_(US$)</th>\n",
       "    </tr>\n",
       "    <tr>\n",
       "      <th>cluster</th>\n",
       "      <th></th>\n",
       "      <th></th>\n",
       "      <th></th>\n",
       "      <th></th>\n",
       "      <th></th>\n",
       "    </tr>\n",
       "  </thead>\n",
       "  <tbody>\n",
       "    <tr>\n",
       "      <th>1</th>\n",
       "      <td>0.124917</td>\n",
       "      <td>62.425789</td>\n",
       "      <td>0.753536</td>\n",
       "      <td>2451.973684</td>\n",
       "      <td>2321.062882</td>\n",
       "    </tr>\n",
       "    <tr>\n",
       "      <th>2</th>\n",
       "      <td>0.054478</td>\n",
       "      <td>64.643889</td>\n",
       "      <td>0.624266</td>\n",
       "      <td>2433.972222</td>\n",
       "      <td>4732.389461</td>\n",
       "    </tr>\n",
       "    <tr>\n",
       "      <th>3</th>\n",
       "      <td>0.033161</td>\n",
       "      <td>110.044583</td>\n",
       "      <td>0.396816</td>\n",
       "      <td>3450.375000</td>\n",
       "      <td>54144.962421</td>\n",
       "    </tr>\n",
       "    <tr>\n",
       "      <th>4</th>\n",
       "      <td>-0.011454</td>\n",
       "      <td>103.566875</td>\n",
       "      <td>0.427069</td>\n",
       "      <td>3335.625000</td>\n",
       "      <td>15341.566329</td>\n",
       "    </tr>\n",
       "    <tr>\n",
       "      <th>5</th>\n",
       "      <td>0.036157</td>\n",
       "      <td>85.649655</td>\n",
       "      <td>0.536188</td>\n",
       "      <td>3011.500000</td>\n",
       "      <td>10955.881915</td>\n",
       "    </tr>\n",
       "  </tbody>\n",
       "</table>\n",
       "</div>"
      ],
      "text/plain": [
       "         ratio_evol_pop  dispo_PROT_(g/pers/j)  prop_prot_animales  \\\n",
       "cluster                                                              \n",
       "1              0.124917              62.425789            0.753536   \n",
       "2              0.054478              64.643889            0.624266   \n",
       "3              0.033161             110.044583            0.396816   \n",
       "4             -0.011454             103.566875            0.427069   \n",
       "5              0.036157              85.649655            0.536188   \n",
       "\n",
       "         dispo_ALI_(kcal/pers/j)  PIB_par_hbt_(US$)  \n",
       "cluster                                              \n",
       "1                    2451.973684        2321.062882  \n",
       "2                    2433.972222        4732.389461  \n",
       "3                    3450.375000       54144.962421  \n",
       "4                    3335.625000       15341.566329  \n",
       "5                    3011.500000       10955.881915  "
      ]
     },
     "execution_count": 9,
     "metadata": {},
     "output_type": "execute_result"
    }
   ],
   "source": [
    "X_c.groupby('cluster').mean()"
   ]
  },
  {
   "cell_type": "markdown",
   "metadata": {},
   "source": [
    "**Ce que l'on constate (grandes lignes) :**\n",
    "\n",
    "- Groupe 1 : pays pauvres et/ou dans des situations géopolitiques complexes (Afghanistan, Iraq).\n",
    "- Groupe 2 : pays pauvres et/ou dans des situations économiques difficiles (Vénézuela, Zimbabwe).\n",
    "- Groupe 3 : pays riches (France, USA).  \n",
    "- Groupe 4 : pays un peu moins riches que ceux du groupe 3, forte représentation de l'Europe de l'Est et du Sud. \n",
    "- Groupe 5 : groupe visiblement le plus mélangés à la fois au niveau des richesses (Koweit, Suriname) et géographique. \n",
    "\n",
    "A priori, on peut déjà se dire que les groupes 1 et 2 seront peu intéressants pour notre projet.  \n",
    "Idem pour les pays du groupe 3 (pays riches déjà pourvus, forte concurrence à prévoir).    \n",
    "\n",
    "Resteront probablement **les groupes 4 et 5.** "
   ]
  },
  {
   "cell_type": "code",
   "execution_count": 10,
   "metadata": {},
   "outputs": [],
   "source": [
    "# Enregistrement\n",
    "X_c.to_csv('C:/Users/Zang/Documents/APPRENDER/OPENCLASSROOMS/PARCOURS DA/P5_Etude_de_marche/X_c18b.csv')"
   ]
  },
  {
   "cell_type": "code",
   "execution_count": 17,
   "metadata": {},
   "outputs": [],
   "source": [
    "# Import\n",
    "X_c = pd.read_csv('C:/Users/Zang/Documents/APPRENDER/OPENCLASSROOMS/PARCOURS DA/P5_Etude_de_marche/X_c18b.csv')"
   ]
  },
  {
   "cell_type": "markdown",
   "metadata": {},
   "source": [
    "# <font color='#FFCA36'>3. ACP</font>"
   ]
  },
  {
   "cell_type": "markdown",
   "metadata": {},
   "source": [
    "## Éboulis des valeurs propres"
   ]
  },
  {
   "cell_type": "code",
   "execution_count": 302,
   "metadata": {},
   "outputs": [],
   "source": [
    "# Choix du nombre de composantes à calculer \n",
    "n_comp = len(X.columns)"
   ]
  },
  {
   "cell_type": "code",
   "execution_count": 303,
   "metadata": {},
   "outputs": [
    {
     "data": {
      "text/plain": [
       "PCA(copy=True, iterated_power='auto', n_components=5, random_state=None,\n",
       "  svd_solver='auto', tol=0.0, whiten=False)"
      ]
     },
     "execution_count": 303,
     "metadata": {},
     "output_type": "execute_result"
    }
   ],
   "source": [
    "# Calcul des composantes principales\n",
    "pca = decomposition.PCA(n_components=n_comp)\n",
    "pca.fit(X_scaled)"
   ]
  },
  {
   "cell_type": "code",
   "execution_count": 304,
   "metadata": {},
   "outputs": [
    {
     "data": {
      "image/png": "[encoded data removed]",
      "text/plain": [
       "<Figure size 432x288 with 1 Axes>"
      ]
     },
     "metadata": {},
     "output_type": "display_data"
    },
    {
     "name": "stdout",
     "output_type": "stream",
     "text": [
      "Pourcentage de variance expliquée : [66.43 15.23 10.7   5.65  2.  ]\n",
      "Pourcentage de variance expliquée (somme cumulative) : [ 66.43  81.66  92.36  98.   100.  ]\n"
     ]
    }
   ],
   "source": [
    "# Ébouli des valeurs propres\n",
    "display_scree_plot(pca) \n",
    "print(f\"Pourcentage de variance expliquée :\", np.around((pca.explained_variance_ratio_ * 100), 2))\n",
    "print(f\"Pourcentage de variance expliquée (somme cumulative) :\", np.around((pca.explained_variance_ratio_.cumsum() * 100), 2))\n",
    "\n",
    "# plt.savefig('fig3.jpeg')"
   ]
  },
  {
   "cell_type": "markdown",
   "metadata": {},
   "source": [
    "La première composante accapare 2/3 de l’information disponible. Nous disposons de plus de 80 % avec les deux premiers\n",
    "facteurs. "
   ]
  },
  {
   "cell_type": "markdown",
   "metadata": {},
   "source": [
    "_**Rappel du critère de Kaiser** : on a tendance à ne pas considérer comme importants les axes dont l’inertie associée est inférieure à (100/p)% p étant le nombre d'axes.  \n",
    "Ici 100/p = 100/5 = 20%.  \n",
    "Sachant qu'en pratique, on retient en fait les axes que l’on sait interpréter._"
   ]
  },
  {
   "cell_type": "markdown",
   "metadata": {},
   "source": [
    "---"
   ]
  },
  {
   "cell_type": "markdown",
   "metadata": {},
   "source": [
    "##### --- Représentation des variables sur PC1 : ---"
   ]
  },
  {
   "cell_type": "code",
   "execution_count": 305,
   "metadata": {
    "scrolled": true
   },
   "outputs": [
    {
     "name": "stdout",
     "output_type": "stream",
     "text": [
      "Index(['ratio_evol_pop', 'dispo_PROT_(g/pers/j)', 'prop_prot_animales',\n",
      "       'dispo_ALI_(kcal/pers/j)', 'PIB_par_hbt_(US$)'],\n",
      "      dtype='object')\n",
      "pc1 : [-0.35748787  0.50592575 -0.4624682   0.4774803   0.41758506]\n",
      "pc2 : [0.82316341 0.10939491 0.04436255 0.06051908 0.55209071]\n"
     ]
    }
   ],
   "source": [
    "# Je récupère l'info\n",
    "pc1 = pca.components_[0] # 1er plan factoriel\n",
    "pc2 = pca.components_[1] # 1er plan factoriel\n",
    "# Rappel des variables\n",
    "print(X.columns)\n",
    "# Score de représentation des variables sur PC1 : \n",
    "print(f'pc1 : {pc1}')\n",
    "print(f'pc2 : {pc2}')"
   ]
  },
  {
   "cell_type": "markdown",
   "metadata": {},
   "source": [
    "Dispo prot, prop prot ani (-) et dispo ali sont les variables qui contribuent le plus à PC1.   \n",
    "ratio evol pop, dispo ali et PIB contribuent le plus à PC2.     \n",
    "Vérifions ces informations avec le cercle des corrélations. "
   ]
  },
  {
   "cell_type": "markdown",
   "metadata": {},
   "source": [
    "---"
   ]
  },
  {
   "cell_type": "markdown",
   "metadata": {},
   "source": [
    "## Représentations graphiques des individus et des variables"
   ]
  },
  {
   "cell_type": "markdown",
   "metadata": {},
   "source": [
    "### Cercle des corrélations"
   ]
  },
  {
   "cell_type": "code",
   "execution_count": 306,
   "metadata": {},
   "outputs": [
    {
     "data": {
      "image/png": "[encoded data removed]",
      "text/plain": [
       "<Figure size 432x432 with 1 Axes>"
      ]
     },
     "metadata": {},
     "output_type": "display_data"
    }
   ],
   "source": [
    "pcs = pca.components_ \n",
    "display_circles(pcs, n_comp, pca, [(0,1)], labels = np.array(X.columns))\n",
    "\n",
    "# plt.savefig('fig4.jpeg')"
   ]
  },
  {
   "cell_type": "markdown",
   "metadata": {},
   "source": [
    "#### Analyse"
   ]
  },
  {
   "cell_type": "markdown",
   "metadata": {},
   "source": [
    "- La première composante résume bien les informations liés à l'alimentation. Les pays les \"mieux nourris\" se trouvent à droite. Cela correspond aux pays des groupes 3 puis 4 et 5. \n",
    "- En revanche, la prop prot ani semble décorrélée des dispo ali. \n",
    "- Le ratio evol pop contribue bp à la 2ème composante (pays du groupe 1 en particulier). "
   ]
  },
  {
   "cell_type": "markdown",
   "metadata": {},
   "source": [
    "### Projection des individus sur le premier plan factoriel"
   ]
  },
  {
   "cell_type": "code",
   "execution_count": 308,
   "metadata": {},
   "outputs": [
    {
     "data": {
      "image/png": "[encoded data removed]",
      "text/plain": [
       "<Figure size 504x432 with 1 Axes>"
      ]
     },
     "metadata": {},
     "output_type": "display_data"
    }
   ],
   "source": [
    "X_projected = pca.transform(X_scaled)\n",
    "display_factorial_planes(X_projected, n_comp, pca, [(0,1)], illustrative_var = X_c.cluster, alpha = 0.8)\n",
    "\n",
    "# plt.savefig('fig5.jpeg')"
   ]
  },
  {
   "cell_type": "markdown",
   "metadata": {},
   "source": [
    "#### Projection des centroides"
   ]
  },
  {
   "cell_type": "code",
   "execution_count": 309,
   "metadata": {},
   "outputs": [
    {
     "data": {
      "text/html": [
       "<div>\n",
       "<style scoped>\n",
       "    .dataframe tbody tr th:only-of-type {\n",
       "        vertical-align: middle;\n",
       "    }\n",
       "\n",
       "    .dataframe tbody tr th {\n",
       "        vertical-align: top;\n",
       "    }\n",
       "\n",
       "    .dataframe thead th {\n",
       "        text-align: right;\n",
       "    }\n",
       "</style>\n",
       "<table border=\"1\" class=\"dataframe\">\n",
       "  <thead>\n",
       "    <tr style=\"text-align: right;\">\n",
       "      <th></th>\n",
       "      <th>ratio_evol_pop</th>\n",
       "      <th>dispo_PROT_(g/pers/j)</th>\n",
       "      <th>prop_prot_animales</th>\n",
       "      <th>dispo_ALI_(kcal/pers/j)</th>\n",
       "      <th>PIB_par_hbt_(US$)</th>\n",
       "      <th>cluster</th>\n",
       "    </tr>\n",
       "    <tr>\n",
       "      <th>Zone</th>\n",
       "      <th></th>\n",
       "      <th></th>\n",
       "      <th></th>\n",
       "      <th></th>\n",
       "      <th></th>\n",
       "      <th></th>\n",
       "    </tr>\n",
       "  </thead>\n",
       "  <tbody>\n",
       "    <tr>\n",
       "      <th>Arménie</th>\n",
       "      <td>-0.769037</td>\n",
       "      <td>0.801236</td>\n",
       "      <td>-0.193584</td>\n",
       "      <td>0.471303</td>\n",
       "      <td>-0.526562</td>\n",
       "      <td>5</td>\n",
       "    </tr>\n",
       "    <tr>\n",
       "      <th>Afghanistan</th>\n",
       "      <td>1.400016</td>\n",
       "      <td>-1.345708</td>\n",
       "      <td>1.453251</td>\n",
       "      <td>-1.900608</td>\n",
       "      <td>-0.697596</td>\n",
       "      <td>1</td>\n",
       "    </tr>\n",
       "    <tr>\n",
       "      <th>Albanie</th>\n",
       "      <td>-1.229840</td>\n",
       "      <td>1.902016</td>\n",
       "      <td>-0.802885</td>\n",
       "      <td>1.195012</td>\n",
       "      <td>-0.500278</td>\n",
       "      <td>4</td>\n",
       "    </tr>\n",
       "    <tr>\n",
       "      <th>Algérie</th>\n",
       "      <td>0.608461</td>\n",
       "      <td>0.578796</td>\n",
       "      <td>0.941752</td>\n",
       "      <td>1.073659</td>\n",
       "      <td>-0.520520</td>\n",
       "      <td>5</td>\n",
       "    </tr>\n",
       "    <tr>\n",
       "      <th>Angola</th>\n",
       "      <td>1.826388</td>\n",
       "      <td>-1.345708</td>\n",
       "      <td>0.768021</td>\n",
       "      <td>-1.307078</td>\n",
       "      <td>-0.518000</td>\n",
       "      <td>1</td>\n",
       "    </tr>\n",
       "  </tbody>\n",
       "</table>\n",
       "</div>"
      ],
      "text/plain": [
       "             ratio_evol_pop  dispo_PROT_(g/pers/j)  prop_prot_animales  \\\n",
       "Zone                                                                     \n",
       "Arménie           -0.769037               0.801236           -0.193584   \n",
       "Afghanistan        1.400016              -1.345708            1.453251   \n",
       "Albanie           -1.229840               1.902016           -0.802885   \n",
       "Algérie            0.608461               0.578796            0.941752   \n",
       "Angola             1.826388              -1.345708            0.768021   \n",
       "\n",
       "             dispo_ALI_(kcal/pers/j)  PIB_par_hbt_(US$)  cluster  \n",
       "Zone                                                              \n",
       "Arménie                     0.471303          -0.526562        5  \n",
       "Afghanistan                -1.900608          -0.697596        1  \n",
       "Albanie                     1.195012          -0.500278        4  \n",
       "Algérie                     1.073659          -0.520520        5  \n",
       "Angola                     -1.307078          -0.518000        1  "
      ]
     },
     "execution_count": 309,
     "metadata": {},
     "output_type": "execute_result"
    }
   ],
   "source": [
    "# Ajout des clusters dans le df principal (celui réalisé après centrage - réduction) : \n",
    "X_scaled_clustered = pd.DataFrame(X_scaled, columns=X.columns, index=X.index)\n",
    "X_scaled_clustered['cluster'] = clusters\n",
    "X_scaled_clustered.head()"
   ]
  },
  {
   "cell_type": "code",
   "execution_count": 310,
   "metadata": {},
   "outputs": [
    {
     "data": {
      "text/html": [
       "<div>\n",
       "<style scoped>\n",
       "    .dataframe tbody tr th:only-of-type {\n",
       "        vertical-align: middle;\n",
       "    }\n",
       "\n",
       "    .dataframe tbody tr th {\n",
       "        vertical-align: top;\n",
       "    }\n",
       "\n",
       "    .dataframe thead th {\n",
       "        text-align: right;\n",
       "    }\n",
       "</style>\n",
       "<table border=\"1\" class=\"dataframe\">\n",
       "  <thead>\n",
       "    <tr style=\"text-align: right;\">\n",
       "      <th></th>\n",
       "      <th>ratio_evol_pop</th>\n",
       "      <th>dispo_PROT_(g/pers/j)</th>\n",
       "      <th>prop_prot_animales</th>\n",
       "      <th>dispo_ALI_(kcal/pers/j)</th>\n",
       "      <th>PIB_par_hbt_(US$)</th>\n",
       "    </tr>\n",
       "    <tr>\n",
       "      <th>cluster</th>\n",
       "      <th></th>\n",
       "      <th></th>\n",
       "      <th></th>\n",
       "      <th></th>\n",
       "      <th></th>\n",
       "    </tr>\n",
       "  </thead>\n",
       "  <tbody>\n",
       "    <tr>\n",
       "      <th>1</th>\n",
       "      <td>1.402811</td>\n",
       "      <td>-0.931821</td>\n",
       "      <td>1.131940</td>\n",
       "      <td>-0.896741</td>\n",
       "      <td>-0.609435</td>\n",
       "    </tr>\n",
       "    <tr>\n",
       "      <th>2</th>\n",
       "      <td>-0.005538</td>\n",
       "      <td>-0.821688</td>\n",
       "      <td>0.321233</td>\n",
       "      <td>-0.936459</td>\n",
       "      <td>-0.485516</td>\n",
       "    </tr>\n",
       "    <tr>\n",
       "      <th>3</th>\n",
       "      <td>-0.431732</td>\n",
       "      <td>1.432537</td>\n",
       "      <td>-1.105197</td>\n",
       "      <td>1.306161</td>\n",
       "      <td>2.053825</td>\n",
       "    </tr>\n",
       "    <tr>\n",
       "      <th>4</th>\n",
       "      <td>-1.323756</td>\n",
       "      <td>1.110908</td>\n",
       "      <td>-0.915466</td>\n",
       "      <td>1.052973</td>\n",
       "      <td>0.059696</td>\n",
       "    </tr>\n",
       "    <tr>\n",
       "      <th>5</th>\n",
       "      <td>-0.371824</td>\n",
       "      <td>0.221286</td>\n",
       "      <td>-0.231137</td>\n",
       "      <td>0.337815</td>\n",
       "      <td>-0.165687</td>\n",
       "    </tr>\n",
       "  </tbody>\n",
       "</table>\n",
       "</div>"
      ],
      "text/plain": [
       "         ratio_evol_pop  dispo_PROT_(g/pers/j)  prop_prot_animales  \\\n",
       "cluster                                                              \n",
       "1              1.402811              -0.931821            1.131940   \n",
       "2             -0.005538              -0.821688            0.321233   \n",
       "3             -0.431732               1.432537           -1.105197   \n",
       "4             -1.323756               1.110908           -0.915466   \n",
       "5             -0.371824               0.221286           -0.231137   \n",
       "\n",
       "         dispo_ALI_(kcal/pers/j)  PIB_par_hbt_(US$)  \n",
       "cluster                                              \n",
       "1                      -0.896741          -0.609435  \n",
       "2                      -0.936459          -0.485516  \n",
       "3                       1.306161           2.053825  \n",
       "4                       1.052973           0.059696  \n",
       "5                       0.337815          -0.165687  "
      ]
     },
     "execution_count": 310,
     "metadata": {},
     "output_type": "execute_result"
    }
   ],
   "source": [
    "# Je crée un nouveau df pour avoir les centroides\n",
    "Xscm = X_scaled_clustered.groupby('cluster').mean()\n",
    "Xscm.head()"
   ]
  },
  {
   "cell_type": "markdown",
   "metadata": {},
   "source": [
    "-----------------"
   ]
  },
  {
   "cell_type": "markdown",
   "metadata": {},
   "source": [
    "##### --- Heatmap (pour voir) ---"
   ]
  },
  {
   "cell_type": "code",
   "execution_count": 311,
   "metadata": {},
   "outputs": [
    {
     "data": {
      "text/plain": [
       "[Text(0.5,0,'ratio_evol_pop'),\n",
       " Text(1.5,0,'dispo_PROT_(g/pers/j)'),\n",
       " Text(2.5,0,'prop_prot_animales'),\n",
       " Text(3.5,0,'dispo_ALI_(kcal/pers/j)'),\n",
       " Text(4.5,0,'PIB_par_hbt_(US$)')]"
      ]
     },
     "execution_count": 311,
     "metadata": {},
     "output_type": "execute_result"
    },
    {
     "data": {
      "image/png": "[encoded data removed]",
      "text/plain": [
       "<Figure size 432x288 with 2 Axes>"
      ]
     },
     "metadata": {},
     "output_type": "display_data"
    }
   ],
   "source": [
    "ax = sns.heatmap(Xscm, annot=True)\n",
    "\n",
    "ax.set_xticklabels(\n",
    "    ax.get_xticklabels(),\n",
    "    rotation=45,\n",
    "    horizontalalignment='right'\n",
    ")\n",
    "\n",
    "# plt.savefig('fig6.jpeg')"
   ]
  },
  {
   "cell_type": "markdown",
   "metadata": {},
   "source": [
    "Grâce à cette heatmap, on visualise bien les différences entre clusters en fonction des variables. "
   ]
  },
  {
   "cell_type": "markdown",
   "metadata": {},
   "source": [
    "--------"
   ]
  },
  {
   "cell_type": "markdown",
   "metadata": {},
   "source": [
    "#### Coordonnées des centroides"
   ]
  },
  {
   "cell_type": "code",
   "execution_count": 312,
   "metadata": {},
   "outputs": [],
   "source": [
    "# Calcul des coordonnées des centroides sur le premier plan factoriel.\n",
    "# Je pars du df principal après centrage - réduction et calcul des moyennes par cluster, \n",
    "# ce qui me donne les coordonnées des centroides\n",
    "Xscm_p = pca.transform(Xscm)"
   ]
  },
  {
   "cell_type": "code",
   "execution_count": 313,
   "metadata": {},
   "outputs": [
    {
     "data": {
      "text/plain": [
       "array([[-2.17907344,  0.71228877, -0.18987548,  0.02661335,  0.02313702],\n",
       "       [-1.21217871, -0.40491906,  0.50106936, -0.06695923,  0.04673869],\n",
       "       [ 2.87152777,  0.96524251,  0.18313164, -0.41392967,  0.04506244],\n",
       "       [ 1.98633968, -0.91206943, -0.3259308 ,  0.22543625,  0.04870047],\n",
       "       [ 0.44388143, -0.36314821, -0.17247405,  0.1332165 , -0.0762501 ]])"
      ]
     },
     "execution_count": 313,
     "metadata": {},
     "output_type": "execute_result"
    }
   ],
   "source": [
    "Xscm_p"
   ]
  },
  {
   "cell_type": "code",
   "execution_count": 314,
   "metadata": {},
   "outputs": [
    {
     "data": {
      "text/plain": [
       "<matplotlib.collections.PathCollection at 0x22f3d3acf98>"
      ]
     },
     "execution_count": 314,
     "metadata": {},
     "output_type": "execute_result"
    },
    {
     "data": {
      "image/png": "[encoded data removed]",
      "text/plain": [
       "<Figure size 504x432 with 1 Axes>"
      ]
     },
     "metadata": {},
     "output_type": "display_data"
    }
   ],
   "source": [
    "display_factorial_planes(X_projected, n_comp, pca, [(0,1)], illustrative_var = X_c.cluster, alpha = 0.8)\n",
    "plt.scatter(Xscm_p[:, 0], Xscm_p[:, 1],\n",
    "            marker='x', s=169, linewidths=3,\n",
    "            color='k', zorder=10)\n",
    "\n",
    "# plt.savefig('fig7.jpeg')"
   ]
  },
  {
   "cell_type": "markdown",
   "metadata": {},
   "source": [
    "##### Export des centroides centrés réduits + composantes principales"
   ]
  },
  {
   "cell_type": "code",
   "execution_count": 315,
   "metadata": {},
   "outputs": [
    {
     "data": {
      "text/html": [
       "<div>\n",
       "<style scoped>\n",
       "    .dataframe tbody tr th:only-of-type {\n",
       "        vertical-align: middle;\n",
       "    }\n",
       "\n",
       "    .dataframe tbody tr th {\n",
       "        vertical-align: top;\n",
       "    }\n",
       "\n",
       "    .dataframe thead th {\n",
       "        text-align: right;\n",
       "    }\n",
       "</style>\n",
       "<table border=\"1\" class=\"dataframe\">\n",
       "  <thead>\n",
       "    <tr style=\"text-align: right;\">\n",
       "      <th></th>\n",
       "      <th>ratio_evol_pop</th>\n",
       "      <th>dispo_PROT_(g/pers/j)</th>\n",
       "      <th>prop_prot_animales</th>\n",
       "      <th>dispo_ALI_(kcal/pers/j)</th>\n",
       "      <th>PIB_par_hbt_(US$)</th>\n",
       "    </tr>\n",
       "    <tr>\n",
       "      <th>cluster</th>\n",
       "      <th></th>\n",
       "      <th></th>\n",
       "      <th></th>\n",
       "      <th></th>\n",
       "      <th></th>\n",
       "    </tr>\n",
       "  </thead>\n",
       "  <tbody>\n",
       "    <tr>\n",
       "      <th>1</th>\n",
       "      <td>1.402811</td>\n",
       "      <td>-0.931821</td>\n",
       "      <td>1.131940</td>\n",
       "      <td>-0.896741</td>\n",
       "      <td>-0.609435</td>\n",
       "    </tr>\n",
       "    <tr>\n",
       "      <th>2</th>\n",
       "      <td>-0.005538</td>\n",
       "      <td>-0.821688</td>\n",
       "      <td>0.321233</td>\n",
       "      <td>-0.936459</td>\n",
       "      <td>-0.485516</td>\n",
       "    </tr>\n",
       "    <tr>\n",
       "      <th>3</th>\n",
       "      <td>-0.431732</td>\n",
       "      <td>1.432537</td>\n",
       "      <td>-1.105197</td>\n",
       "      <td>1.306161</td>\n",
       "      <td>2.053825</td>\n",
       "    </tr>\n",
       "    <tr>\n",
       "      <th>4</th>\n",
       "      <td>-1.323756</td>\n",
       "      <td>1.110908</td>\n",
       "      <td>-0.915466</td>\n",
       "      <td>1.052973</td>\n",
       "      <td>0.059696</td>\n",
       "    </tr>\n",
       "    <tr>\n",
       "      <th>5</th>\n",
       "      <td>-0.371824</td>\n",
       "      <td>0.221286</td>\n",
       "      <td>-0.231137</td>\n",
       "      <td>0.337815</td>\n",
       "      <td>-0.165687</td>\n",
       "    </tr>\n",
       "  </tbody>\n",
       "</table>\n",
       "</div>"
      ],
      "text/plain": [
       "         ratio_evol_pop  dispo_PROT_(g/pers/j)  prop_prot_animales  \\\n",
       "cluster                                                              \n",
       "1              1.402811              -0.931821            1.131940   \n",
       "2             -0.005538              -0.821688            0.321233   \n",
       "3             -0.431732               1.432537           -1.105197   \n",
       "4             -1.323756               1.110908           -0.915466   \n",
       "5             -0.371824               0.221286           -0.231137   \n",
       "\n",
       "         dispo_ALI_(kcal/pers/j)  PIB_par_hbt_(US$)  \n",
       "cluster                                              \n",
       "1                      -0.896741          -0.609435  \n",
       "2                      -0.936459          -0.485516  \n",
       "3                       1.306161           2.053825  \n",
       "4                       1.052973           0.059696  \n",
       "5                       0.337815          -0.165687  "
      ]
     },
     "metadata": {},
     "output_type": "display_data"
    },
    {
     "data": {
      "text/html": [
       "<div>\n",
       "<style scoped>\n",
       "    .dataframe tbody tr th:only-of-type {\n",
       "        vertical-align: middle;\n",
       "    }\n",
       "\n",
       "    .dataframe tbody tr th {\n",
       "        vertical-align: top;\n",
       "    }\n",
       "\n",
       "    .dataframe thead th {\n",
       "        text-align: right;\n",
       "    }\n",
       "</style>\n",
       "<table border=\"1\" class=\"dataframe\">\n",
       "  <thead>\n",
       "    <tr style=\"text-align: right;\">\n",
       "      <th></th>\n",
       "      <th>PC1</th>\n",
       "      <th>PC2</th>\n",
       "      <th>PC3</th>\n",
       "      <th>PC4</th>\n",
       "      <th>PC5</th>\n",
       "    </tr>\n",
       "    <tr>\n",
       "      <th>cluster</th>\n",
       "      <th></th>\n",
       "      <th></th>\n",
       "      <th></th>\n",
       "      <th></th>\n",
       "      <th></th>\n",
       "    </tr>\n",
       "  </thead>\n",
       "  <tbody>\n",
       "    <tr>\n",
       "      <th>1</th>\n",
       "      <td>-2.179073</td>\n",
       "      <td>0.712289</td>\n",
       "      <td>-0.189875</td>\n",
       "      <td>0.026613</td>\n",
       "      <td>0.023137</td>\n",
       "    </tr>\n",
       "    <tr>\n",
       "      <th>2</th>\n",
       "      <td>-1.212179</td>\n",
       "      <td>-0.404919</td>\n",
       "      <td>0.501069</td>\n",
       "      <td>-0.066959</td>\n",
       "      <td>0.046739</td>\n",
       "    </tr>\n",
       "    <tr>\n",
       "      <th>3</th>\n",
       "      <td>2.871528</td>\n",
       "      <td>0.965243</td>\n",
       "      <td>0.183132</td>\n",
       "      <td>-0.413930</td>\n",
       "      <td>0.045062</td>\n",
       "    </tr>\n",
       "    <tr>\n",
       "      <th>4</th>\n",
       "      <td>1.986340</td>\n",
       "      <td>-0.912069</td>\n",
       "      <td>-0.325931</td>\n",
       "      <td>0.225436</td>\n",
       "      <td>0.048700</td>\n",
       "    </tr>\n",
       "    <tr>\n",
       "      <th>5</th>\n",
       "      <td>0.443881</td>\n",
       "      <td>-0.363148</td>\n",
       "      <td>-0.172474</td>\n",
       "      <td>0.133216</td>\n",
       "      <td>-0.076250</td>\n",
       "    </tr>\n",
       "  </tbody>\n",
       "</table>\n",
       "</div>"
      ],
      "text/plain": [
       "              PC1       PC2       PC3       PC4       PC5\n",
       "cluster                                                  \n",
       "1       -2.179073  0.712289 -0.189875  0.026613  0.023137\n",
       "2       -1.212179 -0.404919  0.501069 -0.066959  0.046739\n",
       "3        2.871528  0.965243  0.183132 -0.413930  0.045062\n",
       "4        1.986340 -0.912069 -0.325931  0.225436  0.048700\n",
       "5        0.443881 -0.363148 -0.172474  0.133216 -0.076250"
      ]
     },
     "metadata": {},
     "output_type": "display_data"
    },
    {
     "data": {
      "text/html": [
       "<div>\n",
       "<style scoped>\n",
       "    .dataframe tbody tr th:only-of-type {\n",
       "        vertical-align: middle;\n",
       "    }\n",
       "\n",
       "    .dataframe tbody tr th {\n",
       "        vertical-align: top;\n",
       "    }\n",
       "\n",
       "    .dataframe thead th {\n",
       "        text-align: right;\n",
       "    }\n",
       "</style>\n",
       "<table border=\"1\" class=\"dataframe\">\n",
       "  <thead>\n",
       "    <tr style=\"text-align: right;\">\n",
       "      <th></th>\n",
       "      <th>ratio_evol_pop</th>\n",
       "      <th>dispo_PROT_(g/pers/j)</th>\n",
       "      <th>prop_prot_animales</th>\n",
       "      <th>dispo_ALI_(kcal/pers/j)</th>\n",
       "      <th>PIB_par_hbt_(US$)</th>\n",
       "      <th>PC1</th>\n",
       "      <th>PC2</th>\n",
       "      <th>PC3</th>\n",
       "      <th>PC4</th>\n",
       "      <th>PC5</th>\n",
       "    </tr>\n",
       "    <tr>\n",
       "      <th>cluster</th>\n",
       "      <th></th>\n",
       "      <th></th>\n",
       "      <th></th>\n",
       "      <th></th>\n",
       "      <th></th>\n",
       "      <th></th>\n",
       "      <th></th>\n",
       "      <th></th>\n",
       "      <th></th>\n",
       "      <th></th>\n",
       "    </tr>\n",
       "  </thead>\n",
       "  <tbody>\n",
       "    <tr>\n",
       "      <th>1</th>\n",
       "      <td>1.402811</td>\n",
       "      <td>-0.931821</td>\n",
       "      <td>1.131940</td>\n",
       "      <td>-0.896741</td>\n",
       "      <td>-0.609435</td>\n",
       "      <td>-2.179073</td>\n",
       "      <td>0.712289</td>\n",
       "      <td>-0.189875</td>\n",
       "      <td>0.026613</td>\n",
       "      <td>0.023137</td>\n",
       "    </tr>\n",
       "    <tr>\n",
       "      <th>2</th>\n",
       "      <td>-0.005538</td>\n",
       "      <td>-0.821688</td>\n",
       "      <td>0.321233</td>\n",
       "      <td>-0.936459</td>\n",
       "      <td>-0.485516</td>\n",
       "      <td>-1.212179</td>\n",
       "      <td>-0.404919</td>\n",
       "      <td>0.501069</td>\n",
       "      <td>-0.066959</td>\n",
       "      <td>0.046739</td>\n",
       "    </tr>\n",
       "    <tr>\n",
       "      <th>3</th>\n",
       "      <td>-0.431732</td>\n",
       "      <td>1.432537</td>\n",
       "      <td>-1.105197</td>\n",
       "      <td>1.306161</td>\n",
       "      <td>2.053825</td>\n",
       "      <td>2.871528</td>\n",
       "      <td>0.965243</td>\n",
       "      <td>0.183132</td>\n",
       "      <td>-0.413930</td>\n",
       "      <td>0.045062</td>\n",
       "    </tr>\n",
       "    <tr>\n",
       "      <th>4</th>\n",
       "      <td>-1.323756</td>\n",
       "      <td>1.110908</td>\n",
       "      <td>-0.915466</td>\n",
       "      <td>1.052973</td>\n",
       "      <td>0.059696</td>\n",
       "      <td>1.986340</td>\n",
       "      <td>-0.912069</td>\n",
       "      <td>-0.325931</td>\n",
       "      <td>0.225436</td>\n",
       "      <td>0.048700</td>\n",
       "    </tr>\n",
       "    <tr>\n",
       "      <th>5</th>\n",
       "      <td>-0.371824</td>\n",
       "      <td>0.221286</td>\n",
       "      <td>-0.231137</td>\n",
       "      <td>0.337815</td>\n",
       "      <td>-0.165687</td>\n",
       "      <td>0.443881</td>\n",
       "      <td>-0.363148</td>\n",
       "      <td>-0.172474</td>\n",
       "      <td>0.133216</td>\n",
       "      <td>-0.076250</td>\n",
       "    </tr>\n",
       "  </tbody>\n",
       "</table>\n",
       "</div>"
      ],
      "text/plain": [
       "         ratio_evol_pop  dispo_PROT_(g/pers/j)  prop_prot_animales  \\\n",
       "cluster                                                              \n",
       "1              1.402811              -0.931821            1.131940   \n",
       "2             -0.005538              -0.821688            0.321233   \n",
       "3             -0.431732               1.432537           -1.105197   \n",
       "4             -1.323756               1.110908           -0.915466   \n",
       "5             -0.371824               0.221286           -0.231137   \n",
       "\n",
       "         dispo_ALI_(kcal/pers/j)  PIB_par_hbt_(US$)       PC1       PC2  \\\n",
       "cluster                                                                   \n",
       "1                      -0.896741          -0.609435 -2.179073  0.712289   \n",
       "2                      -0.936459          -0.485516 -1.212179 -0.404919   \n",
       "3                       1.306161           2.053825  2.871528  0.965243   \n",
       "4                       1.052973           0.059696  1.986340 -0.912069   \n",
       "5                       0.337815          -0.165687  0.443881 -0.363148   \n",
       "\n",
       "              PC3       PC4       PC5  \n",
       "cluster                                \n",
       "1       -0.189875  0.026613  0.023137  \n",
       "2        0.501069 -0.066959  0.046739  \n",
       "3        0.183132 -0.413930  0.045062  \n",
       "4       -0.325931  0.225436  0.048700  \n",
       "5       -0.172474  0.133216 -0.076250  "
      ]
     },
     "metadata": {},
     "output_type": "display_data"
    }
   ],
   "source": [
    "# Centroides centrés réduits\n",
    "Xscm\n",
    "display(Xscm)\n",
    "\n",
    "# df des centroides projetés\n",
    "cent_proj = [\n",
    "    'PC1',\n",
    "    'PC2',\n",
    "    'PC3',\n",
    "    'PC4',\n",
    "    'PC5',\n",
    "]\n",
    "temp_c = pd.DataFrame(Xscm_p, columns=cent_proj, index=Xscm.index)\n",
    "temp_c\n",
    "display(temp_c)\n",
    "\n",
    "# Jointure des df\n",
    "exp_cent = Xscm.merge(temp_c, how='left', left_index=True, right_index=True)\n",
    "display(exp_cent)\n",
    "\n",
    "# Export csv\n",
    "exp_cent.to_csv('C:/Users/Zang/Documents/APPRENDER/OPENCLASSROOMS/PARCOURS DA/P5_Etude_de_marche/livrables_coo_cent18b.csv', index=False)"
   ]
  },
  {
   "cell_type": "markdown",
   "metadata": {},
   "source": [
    "##### Ajout de la composante principale n°1 (PC1) sur le df principal"
   ]
  },
  {
   "cell_type": "code",
   "execution_count": 316,
   "metadata": {},
   "outputs": [
    {
     "data": {
      "text/html": [
       "<div>\n",
       "<style scoped>\n",
       "    .dataframe tbody tr th:only-of-type {\n",
       "        vertical-align: middle;\n",
       "    }\n",
       "\n",
       "    .dataframe tbody tr th {\n",
       "        vertical-align: top;\n",
       "    }\n",
       "\n",
       "    .dataframe thead th {\n",
       "        text-align: right;\n",
       "    }\n",
       "</style>\n",
       "<table border=\"1\" class=\"dataframe\">\n",
       "  <thead>\n",
       "    <tr style=\"text-align: right;\">\n",
       "      <th></th>\n",
       "      <th>ratio_evol_pop</th>\n",
       "      <th>dispo_PROT_(g/pers/j)</th>\n",
       "      <th>prop_prot_animales</th>\n",
       "      <th>dispo_ALI_(kcal/pers/j)</th>\n",
       "      <th>PIB_par_hbt_(US$)</th>\n",
       "      <th>cluster</th>\n",
       "    </tr>\n",
       "    <tr>\n",
       "      <th>Zone</th>\n",
       "      <th></th>\n",
       "      <th></th>\n",
       "      <th></th>\n",
       "      <th></th>\n",
       "      <th></th>\n",
       "      <th></th>\n",
       "    </tr>\n",
       "  </thead>\n",
       "  <tbody>\n",
       "    <tr>\n",
       "      <th>Arménie</th>\n",
       "      <td>0.016290</td>\n",
       "      <td>97.33</td>\n",
       "      <td>0.542176</td>\n",
       "      <td>3072.0</td>\n",
       "      <td>3933.682101</td>\n",
       "      <td>5</td>\n",
       "    </tr>\n",
       "    <tr>\n",
       "      <th>Afghanistan</th>\n",
       "      <td>0.124778</td>\n",
       "      <td>54.09</td>\n",
       "      <td>0.804770</td>\n",
       "      <td>1997.0</td>\n",
       "      <td>605.557362</td>\n",
       "      <td>1</td>\n",
       "    </tr>\n",
       "    <tr>\n",
       "      <th>Albanie</th>\n",
       "      <td>-0.006757</td>\n",
       "      <td>119.50</td>\n",
       "      <td>0.445021</td>\n",
       "      <td>3400.0</td>\n",
       "      <td>4445.132198</td>\n",
       "      <td>4</td>\n",
       "    </tr>\n",
       "    <tr>\n",
       "      <th>Algérie</th>\n",
       "      <td>0.085187</td>\n",
       "      <td>92.85</td>\n",
       "      <td>0.723209</td>\n",
       "      <td>3345.0</td>\n",
       "      <td>4051.244377</td>\n",
       "      <td>5</td>\n",
       "    </tr>\n",
       "    <tr>\n",
       "      <th>Angola</th>\n",
       "      <td>0.146103</td>\n",
       "      <td>54.09</td>\n",
       "      <td>0.695507</td>\n",
       "      <td>2266.0</td>\n",
       "      <td>4100.291004</td>\n",
       "      <td>1</td>\n",
       "    </tr>\n",
       "  </tbody>\n",
       "</table>\n",
       "</div>"
      ],
      "text/plain": [
       "             ratio_evol_pop  dispo_PROT_(g/pers/j)  prop_prot_animales  \\\n",
       "Zone                                                                     \n",
       "Arménie            0.016290                  97.33            0.542176   \n",
       "Afghanistan        0.124778                  54.09            0.804770   \n",
       "Albanie           -0.006757                 119.50            0.445021   \n",
       "Algérie            0.085187                  92.85            0.723209   \n",
       "Angola             0.146103                  54.09            0.695507   \n",
       "\n",
       "             dispo_ALI_(kcal/pers/j)  PIB_par_hbt_(US$)  cluster  \n",
       "Zone                                                              \n",
       "Arménie                       3072.0        3933.682101        5  \n",
       "Afghanistan                   1997.0         605.557362        1  \n",
       "Albanie                       3400.0        4445.132198        4  \n",
       "Algérie                       3345.0        4051.244377        5  \n",
       "Angola                        2266.0        4100.291004        1  "
      ]
     },
     "execution_count": 316,
     "metadata": {},
     "output_type": "execute_result"
    }
   ],
   "source": [
    "X_c.head()"
   ]
  },
  {
   "cell_type": "code",
   "execution_count": 191,
   "metadata": {},
   "outputs": [],
   "source": [
    "# Attention, cette colonne sera à retirer pour certaines analyses\n",
    "# X_f['cluster'] = clusters"
   ]
  },
  {
   "cell_type": "code",
   "execution_count": 317,
   "metadata": {},
   "outputs": [],
   "source": [
    "X_c['PC1'] = X_projected[:,0]"
   ]
  },
  {
   "cell_type": "code",
   "execution_count": 318,
   "metadata": {},
   "outputs": [
    {
     "data": {
      "text/html": [
       "<div>\n",
       "<style scoped>\n",
       "    .dataframe tbody tr th:only-of-type {\n",
       "        vertical-align: middle;\n",
       "    }\n",
       "\n",
       "    .dataframe tbody tr th {\n",
       "        vertical-align: top;\n",
       "    }\n",
       "\n",
       "    .dataframe thead th {\n",
       "        text-align: right;\n",
       "    }\n",
       "</style>\n",
       "<table border=\"1\" class=\"dataframe\">\n",
       "  <thead>\n",
       "    <tr style=\"text-align: right;\">\n",
       "      <th></th>\n",
       "      <th>ratio_evol_pop</th>\n",
       "      <th>dispo_PROT_(g/pers/j)</th>\n",
       "      <th>prop_prot_animales</th>\n",
       "      <th>dispo_ALI_(kcal/pers/j)</th>\n",
       "      <th>PIB_par_hbt_(US$)</th>\n",
       "      <th>cluster</th>\n",
       "      <th>PC1</th>\n",
       "    </tr>\n",
       "    <tr>\n",
       "      <th>Zone</th>\n",
       "      <th></th>\n",
       "      <th></th>\n",
       "      <th></th>\n",
       "      <th></th>\n",
       "      <th></th>\n",
       "      <th></th>\n",
       "      <th></th>\n",
       "    </tr>\n",
       "  </thead>\n",
       "  <tbody>\n",
       "    <tr>\n",
       "      <th>Arménie</th>\n",
       "      <td>0.01629</td>\n",
       "      <td>97.33</td>\n",
       "      <td>0.542176</td>\n",
       "      <td>3072.0</td>\n",
       "      <td>3933.682101</td>\n",
       "      <td>5</td>\n",
       "      <td>0.774967</td>\n",
       "    </tr>\n",
       "  </tbody>\n",
       "</table>\n",
       "</div>"
      ],
      "text/plain": [
       "         ratio_evol_pop  dispo_PROT_(g/pers/j)  prop_prot_animales  \\\n",
       "Zone                                                                 \n",
       "Arménie         0.01629                  97.33            0.542176   \n",
       "\n",
       "         dispo_ALI_(kcal/pers/j)  PIB_par_hbt_(US$)  cluster       PC1  \n",
       "Zone                                                                    \n",
       "Arménie                   3072.0        3933.682101        5  0.774967  "
      ]
     },
     "execution_count": 318,
     "metadata": {},
     "output_type": "execute_result"
    }
   ],
   "source": [
    "X_c.head(1)"
   ]
  },
  {
   "cell_type": "code",
   "execution_count": 319,
   "metadata": {},
   "outputs": [
    {
     "data": {
      "text/html": [
       "<div>\n",
       "<style scoped>\n",
       "    .dataframe tbody tr th:only-of-type {\n",
       "        vertical-align: middle;\n",
       "    }\n",
       "\n",
       "    .dataframe tbody tr th {\n",
       "        vertical-align: top;\n",
       "    }\n",
       "\n",
       "    .dataframe thead th {\n",
       "        text-align: right;\n",
       "    }\n",
       "</style>\n",
       "<table border=\"1\" class=\"dataframe\">\n",
       "  <thead>\n",
       "    <tr style=\"text-align: right;\">\n",
       "      <th></th>\n",
       "      <th>ratio_evol_pop</th>\n",
       "      <th>dispo_PROT_(g/pers/j)</th>\n",
       "      <th>prop_prot_animales</th>\n",
       "      <th>dispo_ALI_(kcal/pers/j)</th>\n",
       "      <th>PIB_par_hbt_(US$)</th>\n",
       "      <th>PC1</th>\n",
       "    </tr>\n",
       "    <tr>\n",
       "      <th>cluster</th>\n",
       "      <th></th>\n",
       "      <th></th>\n",
       "      <th></th>\n",
       "      <th></th>\n",
       "      <th></th>\n",
       "      <th></th>\n",
       "    </tr>\n",
       "  </thead>\n",
       "  <tbody>\n",
       "    <tr>\n",
       "      <th>1</th>\n",
       "      <td>0.124917</td>\n",
       "      <td>62.425789</td>\n",
       "      <td>0.753536</td>\n",
       "      <td>2451.973684</td>\n",
       "      <td>2321.062882</td>\n",
       "      <td>-2.179073</td>\n",
       "    </tr>\n",
       "    <tr>\n",
       "      <th>2</th>\n",
       "      <td>0.054478</td>\n",
       "      <td>64.643889</td>\n",
       "      <td>0.624266</td>\n",
       "      <td>2433.972222</td>\n",
       "      <td>4732.389461</td>\n",
       "      <td>-1.212179</td>\n",
       "    </tr>\n",
       "    <tr>\n",
       "      <th>3</th>\n",
       "      <td>0.033161</td>\n",
       "      <td>110.044583</td>\n",
       "      <td>0.396816</td>\n",
       "      <td>3450.375000</td>\n",
       "      <td>54144.962421</td>\n",
       "      <td>2.871528</td>\n",
       "    </tr>\n",
       "    <tr>\n",
       "      <th>4</th>\n",
       "      <td>-0.011454</td>\n",
       "      <td>103.566875</td>\n",
       "      <td>0.427069</td>\n",
       "      <td>3335.625000</td>\n",
       "      <td>15341.566329</td>\n",
       "      <td>1.986340</td>\n",
       "    </tr>\n",
       "    <tr>\n",
       "      <th>5</th>\n",
       "      <td>0.036157</td>\n",
       "      <td>85.649655</td>\n",
       "      <td>0.536188</td>\n",
       "      <td>3011.500000</td>\n",
       "      <td>10955.881915</td>\n",
       "      <td>0.443881</td>\n",
       "    </tr>\n",
       "  </tbody>\n",
       "</table>\n",
       "</div>"
      ],
      "text/plain": [
       "         ratio_evol_pop  dispo_PROT_(g/pers/j)  prop_prot_animales  \\\n",
       "cluster                                                              \n",
       "1              0.124917              62.425789            0.753536   \n",
       "2              0.054478              64.643889            0.624266   \n",
       "3              0.033161             110.044583            0.396816   \n",
       "4             -0.011454             103.566875            0.427069   \n",
       "5              0.036157              85.649655            0.536188   \n",
       "\n",
       "         dispo_ALI_(kcal/pers/j)  PIB_par_hbt_(US$)       PC1  \n",
       "cluster                                                        \n",
       "1                    2451.973684        2321.062882 -2.179073  \n",
       "2                    2433.972222        4732.389461 -1.212179  \n",
       "3                    3450.375000       54144.962421  2.871528  \n",
       "4                    3335.625000       15341.566329  1.986340  \n",
       "5                    3011.500000       10955.881915  0.443881  "
      ]
     },
     "execution_count": 319,
     "metadata": {},
     "output_type": "execute_result"
    }
   ],
   "source": [
    "X_c.groupby('cluster').mean()"
   ]
  },
  {
   "cell_type": "code",
   "execution_count": 29,
   "metadata": {},
   "outputs": [],
   "source": [
    "# Enregistrement\n",
    "#X.to_csv('C:/Users/Zang/Documents/APPRENDER/OPENCLASSROOMS/PARCOURS DA/P5_Etude_de_marche/X.csv')"
   ]
  },
  {
   "cell_type": "code",
   "execution_count": 30,
   "metadata": {},
   "outputs": [],
   "source": [
    "# Récupération\n",
    "# X = pd.read_csv('C:/Users/Zang/Documents/APPRENDER/OPENCLASSROOMS/PARCOURS DA/P5_Etude_de_marche/X.csv')"
   ]
  },
  {
   "cell_type": "markdown",
   "metadata": {},
   "source": [
    "---"
   ]
  },
  {
   "cell_type": "markdown",
   "metadata": {},
   "source": [
    "##### --- Pour aller plus loin : qualité de représentation des individus et des variables - les COS²"
   ]
  },
  {
   "cell_type": "code",
   "execution_count": 320,
   "metadata": {},
   "outputs": [
    {
     "data": {
      "text/plain": [
       "(172, 5)"
      ]
     },
     "execution_count": 320,
     "metadata": {},
     "output_type": "execute_result"
    }
   ],
   "source": [
    "# nombre d'observations\n",
    "n = X.shape[0] \n",
    "# nombre de variables\n",
    "p =  X.shape[1]\n",
    "\n",
    "features = X.columns\n",
    "n, p"
   ]
  },
  {
   "cell_type": "code",
   "execution_count": 321,
   "metadata": {},
   "outputs": [
    {
     "name": "stdout",
     "output_type": "stream",
     "text": [
      "[3.32156752 0.76145032 0.53479429 0.28226652 0.09992137]\n"
     ]
    }
   ],
   "source": [
    "# Variance expliquée\n",
    "eigval = pca.singular_values_**2/n\n",
    "print(eigval)"
   ]
  },
  {
   "cell_type": "markdown",
   "metadata": {},
   "source": [
    "##### individus"
   ]
  },
  {
   "cell_type": "code",
   "execution_count": 322,
   "metadata": {},
   "outputs": [
    {
     "data": {
      "text/html": [
       "<div>\n",
       "<style scoped>\n",
       "    .dataframe tbody tr th:only-of-type {\n",
       "        vertical-align: middle;\n",
       "    }\n",
       "\n",
       "    .dataframe tbody tr th {\n",
       "        vertical-align: top;\n",
       "    }\n",
       "\n",
       "    .dataframe thead th {\n",
       "        text-align: right;\n",
       "    }\n",
       "</style>\n",
       "<table border=\"1\" class=\"dataframe\">\n",
       "  <thead>\n",
       "    <tr style=\"text-align: right;\">\n",
       "      <th></th>\n",
       "      <th>ID</th>\n",
       "      <th>d_i</th>\n",
       "    </tr>\n",
       "  </thead>\n",
       "  <tbody>\n",
       "    <tr>\n",
       "      <th>168</th>\n",
       "      <td>Luxembourg</td>\n",
       "      <td>29.100477</td>\n",
       "    </tr>\n",
       "    <tr>\n",
       "      <th>64</th>\n",
       "      <td>Islande</td>\n",
       "      <td>24.646706</td>\n",
       "    </tr>\n",
       "    <tr>\n",
       "      <th>61</th>\n",
       "      <td>Chine - RAS de Hong-Kong</td>\n",
       "      <td>15.776686</td>\n",
       "    </tr>\n",
       "    <tr>\n",
       "      <th>89</th>\n",
       "      <td>Chine - RAS de Macao</td>\n",
       "      <td>15.384430</td>\n",
       "    </tr>\n",
       "    <tr>\n",
       "      <th>143</th>\n",
       "      <td>Suisse</td>\n",
       "      <td>14.943602</td>\n",
       "    </tr>\n",
       "  </tbody>\n",
       "</table>\n",
       "</div>"
      ],
      "text/plain": [
       "                           ID        d_i\n",
       "168                Luxembourg  29.100477\n",
       "64                    Islande  24.646706\n",
       "61   Chine - RAS de Hong-Kong  15.776686\n",
       "89       Chine - RAS de Macao  15.384430\n",
       "143                    Suisse  14.943602"
      ]
     },
     "execution_count": 322,
     "metadata": {},
     "output_type": "execute_result"
    }
   ],
   "source": [
    "# Contribution des individus dans l'inertie totale\n",
    "di = np.sum(X_scaled**2, axis=1) # Calcul des carrés des distances à l’origine des individus\n",
    "cont = pd.DataFrame({'ID':X.index,'d_i':di})\n",
    "cont.sort_values(by='d_i', ascending=False).head()"
   ]
  },
  {
   "cell_type": "code",
   "execution_count": 323,
   "metadata": {},
   "outputs": [],
   "source": [
    "# Récupération des coordonnées factorielles des individus\n",
    "coord = pca.fit_transform(X_scaled) # Nota : coord a déjà été calculé : il s'agit aussi de X_projected"
   ]
  },
  {
   "cell_type": "code",
   "execution_count": 324,
   "metadata": {},
   "outputs": [
    {
     "name": "stdout",
     "output_type": "stream",
     "text": [
      "            id    COS2_1    COS2_2\n",
      "0      Arménie  0.339257  0.376287\n",
      "1  Afghanistan  0.933290  0.032496\n",
      "2      Albanie  0.611543  0.146178\n",
      "3      Algérie  0.001398  0.048783\n",
      "4       Angola  0.829423  0.136260\n"
     ]
    }
   ],
   "source": [
    "# Qualité de représentation des individus - COS²\n",
    "# ! Pour lancer cette commande il faut le df (X) sans les colonnes ajoutées (clusters et PC1)\n",
    "cos2 = coord**2 # Les cos² sont les carrés des coordonnées des variables\n",
    "for j in range(p):\n",
    "    cos2[:,j] = cos2[:,j]/di\n",
    "print(pd.DataFrame({'id':X.index,'COS2_1':cos2[:,0],'COS2_2':cos2[:,1]}).head())"
   ]
  },
  {
   "cell_type": "code",
   "execution_count": 325,
   "metadata": {},
   "outputs": [
    {
     "name": "stdout",
     "output_type": "stream",
     "text": [
      "            id     CTR_1     CTR_2\n",
      "0      Arménie  0.001051  0.005086\n",
      "1  Afghanistan  0.016306  0.002477\n",
      "2      Albanie  0.007978  0.008319\n",
      "3      Algérie  0.000007  0.001123\n",
      "4       Angola  0.011198  0.008025\n"
     ]
    }
   ],
   "source": [
    "# Contribution des individus aux axes (permettent de déterminer les individus qui pèsent le plus dans la définition de \n",
    "# chaque facteur)\n",
    "ctr = coord**2\n",
    "for j in range(p):\n",
    "    ctr[:,j] = ctr[:,j]/(n*eigval[j])\n",
    "print(pd.DataFrame({'id':X.index,'CTR_1':ctr[:,0],'CTR_2':ctr[:,1]}).head())"
   ]
  },
  {
   "cell_type": "markdown",
   "metadata": {},
   "source": [
    "##### variables"
   ]
  },
  {
   "cell_type": "code",
   "execution_count": 326,
   "metadata": {},
   "outputs": [],
   "source": [
    "# Racine carrée des valeurs propres\n",
    "sqrt_eigval = np.sqrt(eigval)"
   ]
  },
  {
   "cell_type": "code",
   "execution_count": 327,
   "metadata": {},
   "outputs": [
    {
     "name": "stdout",
     "output_type": "stream",
     "text": [
      "[[-0.65152766  0.71830162 -0.10910151  0.21703764 -0.02336712]\n",
      " [ 0.92205819  0.09545923 -0.26830582  0.11809143  0.23401419]\n",
      " [-0.84285606  0.03871126 -0.40282197 -0.34701981  0.07353095]\n",
      " [ 0.87021587  0.05280963 -0.44752117 -0.02173806 -0.19795892]\n",
      " [ 0.76105579  0.48176054  0.29725812 -0.3167338   0.00426247]]\n"
     ]
    }
   ],
   "source": [
    "# Corrélation des variables avec les axes\n",
    "corvar = np.zeros((p,p))\n",
    "\n",
    "for k in range(p):\n",
    "    corvar[:,k] = pca.components_[k,:] * sqrt_eigval[k] # Nous avons besoin des vecteurs propres pour l’analyse des variables. \n",
    "                                                       # Ils sont fournis par le champ .components_\n",
    "        \n",
    "print(corvar)"
   ]
  },
  {
   "cell_type": "code",
   "execution_count": 328,
   "metadata": {},
   "outputs": [
    {
     "data": {
      "text/html": [
       "<div>\n",
       "<style scoped>\n",
       "    .dataframe tbody tr th:only-of-type {\n",
       "        vertical-align: middle;\n",
       "    }\n",
       "\n",
       "    .dataframe tbody tr th {\n",
       "        vertical-align: top;\n",
       "    }\n",
       "\n",
       "    .dataframe thead th {\n",
       "        text-align: right;\n",
       "    }\n",
       "</style>\n",
       "<table border=\"1\" class=\"dataframe\">\n",
       "  <thead>\n",
       "    <tr style=\"text-align: right;\">\n",
       "      <th></th>\n",
       "      <th>COR_1</th>\n",
       "      <th>COR_2</th>\n",
       "      <th>COR_3</th>\n",
       "      <th>COR_4</th>\n",
       "      <th>COR_5</th>\n",
       "    </tr>\n",
       "  </thead>\n",
       "  <tbody>\n",
       "    <tr>\n",
       "      <th>ratio_evol_pop</th>\n",
       "      <td>-0.65</td>\n",
       "      <td>0.72</td>\n",
       "      <td>-0.11</td>\n",
       "      <td>0.22</td>\n",
       "      <td>-0.02</td>\n",
       "    </tr>\n",
       "    <tr>\n",
       "      <th>dispo_PROT_(g/pers/j)</th>\n",
       "      <td>0.92</td>\n",
       "      <td>0.10</td>\n",
       "      <td>-0.27</td>\n",
       "      <td>0.12</td>\n",
       "      <td>0.23</td>\n",
       "    </tr>\n",
       "    <tr>\n",
       "      <th>prop_prot_animales</th>\n",
       "      <td>-0.84</td>\n",
       "      <td>0.04</td>\n",
       "      <td>-0.40</td>\n",
       "      <td>-0.35</td>\n",
       "      <td>0.07</td>\n",
       "    </tr>\n",
       "    <tr>\n",
       "      <th>dispo_ALI_(kcal/pers/j)</th>\n",
       "      <td>0.87</td>\n",
       "      <td>0.05</td>\n",
       "      <td>-0.45</td>\n",
       "      <td>-0.02</td>\n",
       "      <td>-0.20</td>\n",
       "    </tr>\n",
       "    <tr>\n",
       "      <th>PIB_par_hbt_(US$)</th>\n",
       "      <td>0.76</td>\n",
       "      <td>0.48</td>\n",
       "      <td>0.30</td>\n",
       "      <td>-0.32</td>\n",
       "      <td>0.00</td>\n",
       "    </tr>\n",
       "  </tbody>\n",
       "</table>\n",
       "</div>"
      ],
      "text/plain": [
       "                         COR_1  COR_2  COR_3  COR_4  COR_5\n",
       "ratio_evol_pop           -0.65   0.72  -0.11   0.22  -0.02\n",
       "dispo_PROT_(g/pers/j)     0.92   0.10  -0.27   0.12   0.23\n",
       "prop_prot_animales       -0.84   0.04  -0.40  -0.35   0.07\n",
       "dispo_ALI_(kcal/pers/j)   0.87   0.05  -0.45  -0.02  -0.20\n",
       "PIB_par_hbt_(US$)         0.76   0.48   0.30  -0.32   0.00"
      ]
     },
     "execution_count": 328,
     "metadata": {},
     "output_type": "execute_result"
    }
   ],
   "source": [
    "# Si on veut afficher la matrice des corrélations\n",
    "mat_cor = pd.DataFrame(np.around(corvar, 2),\n",
    "                       index=features,\n",
    "                       columns=['COR_'+ str(i + 1) for i in range(p)])\n",
    "mat_cor"
   ]
  },
  {
   "cell_type": "code",
   "execution_count": 329,
   "metadata": {},
   "outputs": [
    {
     "data": {
      "text/html": [
       "<div>\n",
       "<style scoped>\n",
       "    .dataframe tbody tr th:only-of-type {\n",
       "        vertical-align: middle;\n",
       "    }\n",
       "\n",
       "    .dataframe tbody tr th {\n",
       "        vertical-align: top;\n",
       "    }\n",
       "\n",
       "    .dataframe thead th {\n",
       "        text-align: right;\n",
       "    }\n",
       "</style>\n",
       "<table border=\"1\" class=\"dataframe\">\n",
       "  <thead>\n",
       "    <tr style=\"text-align: right;\">\n",
       "      <th></th>\n",
       "      <th>COR_1</th>\n",
       "      <th>COR_2</th>\n",
       "      <th>COR_3</th>\n",
       "      <th>COR_4</th>\n",
       "      <th>COR_5</th>\n",
       "    </tr>\n",
       "  </thead>\n",
       "  <tbody>\n",
       "    <tr>\n",
       "      <th>ratio_evol_pop</th>\n",
       "      <td>-0.65</td>\n",
       "      <td>0.72</td>\n",
       "      <td>-0.11</td>\n",
       "      <td>0.22</td>\n",
       "      <td>-0.02</td>\n",
       "    </tr>\n",
       "    <tr>\n",
       "      <th>dispo_PROT_(g/pers/j)</th>\n",
       "      <td>0.92</td>\n",
       "      <td>0.10</td>\n",
       "      <td>-0.27</td>\n",
       "      <td>0.12</td>\n",
       "      <td>0.23</td>\n",
       "    </tr>\n",
       "    <tr>\n",
       "      <th>prop_prot_animales</th>\n",
       "      <td>-0.84</td>\n",
       "      <td>0.04</td>\n",
       "      <td>-0.40</td>\n",
       "      <td>-0.35</td>\n",
       "      <td>0.07</td>\n",
       "    </tr>\n",
       "    <tr>\n",
       "      <th>dispo_ALI_(kcal/pers/j)</th>\n",
       "      <td>0.87</td>\n",
       "      <td>0.05</td>\n",
       "      <td>-0.45</td>\n",
       "      <td>-0.02</td>\n",
       "      <td>-0.20</td>\n",
       "    </tr>\n",
       "    <tr>\n",
       "      <th>PIB_par_hbt_(US$)</th>\n",
       "      <td>0.76</td>\n",
       "      <td>0.48</td>\n",
       "      <td>0.30</td>\n",
       "      <td>-0.32</td>\n",
       "      <td>0.00</td>\n",
       "    </tr>\n",
       "  </tbody>\n",
       "</table>\n",
       "</div>"
      ],
      "text/plain": [
       "                         COR_1  COR_2  COR_3  COR_4  COR_5\n",
       "ratio_evol_pop           -0.65   0.72  -0.11   0.22  -0.02\n",
       "dispo_PROT_(g/pers/j)     0.92   0.10  -0.27   0.12   0.23\n",
       "prop_prot_animales       -0.84   0.04  -0.40  -0.35   0.07\n",
       "dispo_ALI_(kcal/pers/j)   0.87   0.05  -0.45  -0.02  -0.20\n",
       "PIB_par_hbt_(US$)         0.76   0.48   0.30  -0.32   0.00"
      ]
     },
     "execution_count": 329,
     "metadata": {},
     "output_type": "execute_result"
    }
   ],
   "source": [
    "# On peut maintenant afficher la matrice des corrélations\n",
    "mat_cor = pd.DataFrame(np.around(corvar, 2),\n",
    "                       index=features,\n",
    "                       columns=['COR_'+ str(i + 1) for i in range(p)])\n",
    "mat_cor"
   ]
  },
  {
   "cell_type": "code",
   "execution_count": 330,
   "metadata": {},
   "outputs": [
    {
     "data": {
      "text/html": [
       "<div>\n",
       "<style scoped>\n",
       "    .dataframe tbody tr th:only-of-type {\n",
       "        vertical-align: middle;\n",
       "    }\n",
       "\n",
       "    .dataframe tbody tr th {\n",
       "        vertical-align: top;\n",
       "    }\n",
       "\n",
       "    .dataframe thead th {\n",
       "        text-align: right;\n",
       "    }\n",
       "</style>\n",
       "<table border=\"1\" class=\"dataframe\">\n",
       "  <thead>\n",
       "    <tr style=\"text-align: right;\">\n",
       "      <th></th>\n",
       "      <th>COS_2_1</th>\n",
       "      <th>COS_2_2</th>\n",
       "      <th>COS_2_3</th>\n",
       "      <th>COS_2_4</th>\n",
       "      <th>COS_2_5</th>\n",
       "    </tr>\n",
       "  </thead>\n",
       "  <tbody>\n",
       "    <tr>\n",
       "      <th>ratio_evol_pop</th>\n",
       "      <td>0.42</td>\n",
       "      <td>0.52</td>\n",
       "      <td>0.01</td>\n",
       "      <td>0.05</td>\n",
       "      <td>0.00</td>\n",
       "    </tr>\n",
       "    <tr>\n",
       "      <th>dispo_PROT_(g/pers/j)</th>\n",
       "      <td>0.85</td>\n",
       "      <td>0.01</td>\n",
       "      <td>0.07</td>\n",
       "      <td>0.01</td>\n",
       "      <td>0.05</td>\n",
       "    </tr>\n",
       "    <tr>\n",
       "      <th>prop_prot_animales</th>\n",
       "      <td>0.71</td>\n",
       "      <td>0.00</td>\n",
       "      <td>0.16</td>\n",
       "      <td>0.12</td>\n",
       "      <td>0.01</td>\n",
       "    </tr>\n",
       "    <tr>\n",
       "      <th>dispo_ALI_(kcal/pers/j)</th>\n",
       "      <td>0.76</td>\n",
       "      <td>0.00</td>\n",
       "      <td>0.20</td>\n",
       "      <td>0.00</td>\n",
       "      <td>0.04</td>\n",
       "    </tr>\n",
       "    <tr>\n",
       "      <th>PIB_par_hbt_(US$)</th>\n",
       "      <td>0.58</td>\n",
       "      <td>0.23</td>\n",
       "      <td>0.09</td>\n",
       "      <td>0.10</td>\n",
       "      <td>0.00</td>\n",
       "    </tr>\n",
       "  </tbody>\n",
       "</table>\n",
       "</div>"
      ],
      "text/plain": [
       "                         COS_2_1  COS_2_2  COS_2_3  COS_2_4  COS_2_5\n",
       "ratio_evol_pop              0.42     0.52     0.01     0.05     0.00\n",
       "dispo_PROT_(g/pers/j)       0.85     0.01     0.07     0.01     0.05\n",
       "prop_prot_animales          0.71     0.00     0.16     0.12     0.01\n",
       "dispo_ALI_(kcal/pers/j)     0.76     0.00     0.20     0.00     0.04\n",
       "PIB_par_hbt_(US$)           0.58     0.23     0.09     0.10     0.00"
      ]
     },
     "execution_count": 330,
     "metadata": {},
     "output_type": "execute_result"
    }
   ],
   "source": [
    "# Qualité de représentation des variables - cos2\n",
    "cos2var = corvar**2\n",
    "    \n",
    "qual_repr_var = pd.DataFrame(np.around(cos2var, 2),\n",
    "                             index=features,\n",
    "                             columns=['COS_2_' + str(i + 1) for i in range(p)])\n",
    "qual_repr_var"
   ]
  },
  {
   "cell_type": "code",
   "execution_count": 331,
   "metadata": {},
   "outputs": [
    {
     "data": {
      "text/plain": [
       "ratio_evol_pop             1.00\n",
       "dispo_PROT_(g/pers/j)      0.99\n",
       "prop_prot_animales         1.00\n",
       "dispo_ALI_(kcal/pers/j)    1.00\n",
       "PIB_par_hbt_(US$)          1.00\n",
       "dtype: float64"
      ]
     },
     "execution_count": 331,
     "metadata": {},
     "output_type": "execute_result"
    }
   ],
   "source": [
    "# Vérification que la somme des COS² en ligne est bien égale à 1 (aux arrondis près)\n",
    "np.sum(qual_repr_var, axis=1)"
   ]
  },
  {
   "cell_type": "markdown",
   "metadata": {},
   "source": [
    "Comme la somme des cosinus carrés pour chaque ligne égale 1, la moyenne des cosinus carrés égale à 1/5 (0.20).  \n",
    "Si on considère les variables dont le cosinus carré est supérieur à 1/5, nous pouvons les citer, en relevant aussi le signe de leur coordonnée :  \n",
    "- axe 1 : + => dispo_ali, dispo_prot et PIB // - => ratio_evol_pop & prop_prot_ani \n",
    "- axe 2 : + => ratio_evol_pop et PIB"
   ]
  },
  {
   "cell_type": "code",
   "execution_count": 332,
   "metadata": {},
   "outputs": [
    {
     "data": {
      "text/html": [
       "<div>\n",
       "<style scoped>\n",
       "    .dataframe tbody tr th:only-of-type {\n",
       "        vertical-align: middle;\n",
       "    }\n",
       "\n",
       "    .dataframe tbody tr th {\n",
       "        vertical-align: top;\n",
       "    }\n",
       "\n",
       "    .dataframe thead th {\n",
       "        text-align: right;\n",
       "    }\n",
       "</style>\n",
       "<table border=\"1\" class=\"dataframe\">\n",
       "  <thead>\n",
       "    <tr style=\"text-align: right;\">\n",
       "      <th></th>\n",
       "      <th>CTR_1</th>\n",
       "      <th>CTR_2</th>\n",
       "      <th>CTR_3</th>\n",
       "      <th>CTR_4</th>\n",
       "      <th>CTR_5</th>\n",
       "    </tr>\n",
       "  </thead>\n",
       "  <tbody>\n",
       "    <tr>\n",
       "      <th>ratio_evol_pop</th>\n",
       "      <td>12.8</td>\n",
       "      <td>67.8</td>\n",
       "      <td>2.2</td>\n",
       "      <td>16.7</td>\n",
       "      <td>0.5</td>\n",
       "    </tr>\n",
       "    <tr>\n",
       "      <th>dispo_PROT_(g/pers/j)</th>\n",
       "      <td>25.6</td>\n",
       "      <td>1.2</td>\n",
       "      <td>13.5</td>\n",
       "      <td>4.9</td>\n",
       "      <td>54.8</td>\n",
       "    </tr>\n",
       "    <tr>\n",
       "      <th>prop_prot_animales</th>\n",
       "      <td>21.4</td>\n",
       "      <td>0.2</td>\n",
       "      <td>30.3</td>\n",
       "      <td>42.7</td>\n",
       "      <td>5.4</td>\n",
       "    </tr>\n",
       "    <tr>\n",
       "      <th>dispo_ALI_(kcal/pers/j)</th>\n",
       "      <td>22.8</td>\n",
       "      <td>0.4</td>\n",
       "      <td>37.4</td>\n",
       "      <td>0.2</td>\n",
       "      <td>39.2</td>\n",
       "    </tr>\n",
       "    <tr>\n",
       "      <th>PIB_par_hbt_(US$)</th>\n",
       "      <td>17.4</td>\n",
       "      <td>30.5</td>\n",
       "      <td>16.5</td>\n",
       "      <td>35.5</td>\n",
       "      <td>0.0</td>\n",
       "    </tr>\n",
       "  </tbody>\n",
       "</table>\n",
       "</div>"
      ],
      "text/plain": [
       "                         CTR_1  CTR_2  CTR_3  CTR_4  CTR_5\n",
       "ratio_evol_pop            12.8   67.8    2.2   16.7    0.5\n",
       "dispo_PROT_(g/pers/j)     25.6    1.2   13.5    4.9   54.8\n",
       "prop_prot_animales        21.4    0.2   30.3   42.7    5.4\n",
       "dispo_ALI_(kcal/pers/j)   22.8    0.4   37.4    0.2   39.2\n",
       "PIB_par_hbt_(US$)         17.4   30.5   16.5   35.5    0.0"
      ]
     },
     "execution_count": 332,
     "metadata": {},
     "output_type": "execute_result"
    }
   ],
   "source": [
    "# Contribution des variables aux axes\n",
    "ctrvar = cos2var * 100\n",
    "\n",
    "for j in range(p):\n",
    "    ctrvar[:,j] = ctrvar[:,j]/eigval[j]\n",
    "\n",
    "ctr_var_ax = pd.DataFrame(np.around(ctrvar,1),\n",
    "                          index=features,\n",
    "                          columns=['CTR_' + str(i + 1) for i in range(p)])\n",
    "\n",
    "ctr_var_ax"
   ]
  },
  {
   "cell_type": "code",
   "execution_count": 333,
   "metadata": {},
   "outputs": [
    {
     "data": {
      "text/plain": [
       "CTR_1    100.0\n",
       "CTR_2    100.1\n",
       "CTR_3     99.9\n",
       "CTR_4    100.0\n",
       "CTR_5     99.9\n",
       "dtype: float64"
      ]
     },
     "execution_count": 333,
     "metadata": {},
     "output_type": "execute_result"
    }
   ],
   "source": [
    "# Vérification que les sommes en colonne sont bien égale à 1 (*100) cette fois-ci\n",
    "np.sum(ctr_var_ax)"
   ]
  },
  {
   "cell_type": "markdown",
   "metadata": {},
   "source": [
    "---"
   ]
  },
  {
   "cell_type": "markdown",
   "metadata": {},
   "source": [
    "##### Autres projections pour voir"
   ]
  },
  {
   "cell_type": "code",
   "execution_count": 334,
   "metadata": {},
   "outputs": [
    {
     "data": {
      "image/png": "[encoded data removed]",
      "text/plain": [
       "<Figure size 504x432 with 1 Axes>"
      ]
     },
     "metadata": {},
     "output_type": "display_data"
    }
   ],
   "source": [
    "display_factorial_planes(X_projected, n_comp, pca, [(0,1)], labels = X.index)\n",
    "\n",
    "# plt.savefig('fig8.jpeg')"
   ]
  },
  {
   "cell_type": "code",
   "execution_count": 335,
   "metadata": {},
   "outputs": [
    {
     "data": {
      "image/png": "[encoded data removed]",
      "text/plain": [
       "<Figure size 432x432 with 1 Axes>"
      ]
     },
     "metadata": {},
     "output_type": "display_data"
    }
   ],
   "source": [
    "display_circles(pcs, n_comp, pca, [(0,2)], labels = np.array(X.columns))\n",
    "\n",
    "# plt.savefig('fig9.jpeg')"
   ]
  },
  {
   "cell_type": "code",
   "execution_count": 336,
   "metadata": {},
   "outputs": [
    {
     "data": {
      "text/plain": [
       "<matplotlib.collections.PathCollection at 0x22f3d961f60>"
      ]
     },
     "execution_count": 336,
     "metadata": {},
     "output_type": "execute_result"
    },
    {
     "data": {
      "image/png": "[encoded data removed]",
      "text/plain": [
       "<Figure size 504x432 with 1 Axes>"
      ]
     },
     "metadata": {},
     "output_type": "display_data"
    }
   ],
   "source": [
    "display_factorial_planes(X_projected, n_comp, pca, [(0,2)], illustrative_var = X_c.cluster, alpha = 0.8)\n",
    "plt.scatter(Xscm_p[:, 0], Xscm_p[:, 2],\n",
    "            marker='x', s=169, linewidths=3,\n",
    "            color='k', zorder=10)\n",
    "\n",
    "# plt.savefig('fig10.jpeg')"
   ]
  },
  {
   "cell_type": "markdown",
   "metadata": {},
   "source": [
    "---"
   ]
  },
  {
   "cell_type": "markdown",
   "metadata": {},
   "source": [
    "### Résumé des groupes avec les moyennes des variables"
   ]
  },
  {
   "cell_type": "code",
   "execution_count": 337,
   "metadata": {},
   "outputs": [
    {
     "data": {
      "text/html": [
       "<div>\n",
       "<style scoped>\n",
       "    .dataframe tbody tr th:only-of-type {\n",
       "        vertical-align: middle;\n",
       "    }\n",
       "\n",
       "    .dataframe tbody tr th {\n",
       "        vertical-align: top;\n",
       "    }\n",
       "\n",
       "    .dataframe thead th {\n",
       "        text-align: right;\n",
       "    }\n",
       "</style>\n",
       "<table border=\"1\" class=\"dataframe\">\n",
       "  <thead>\n",
       "    <tr style=\"text-align: right;\">\n",
       "      <th></th>\n",
       "      <th>ratio_evol_pop</th>\n",
       "      <th>dispo_PROT_(g/pers/j)</th>\n",
       "      <th>prop_prot_animales</th>\n",
       "      <th>dispo_ALI_(kcal/pers/j)</th>\n",
       "      <th>PIB_par_hbt_(US$)</th>\n",
       "    </tr>\n",
       "    <tr>\n",
       "      <th>cluster</th>\n",
       "      <th></th>\n",
       "      <th></th>\n",
       "      <th></th>\n",
       "      <th></th>\n",
       "      <th></th>\n",
       "    </tr>\n",
       "  </thead>\n",
       "  <tbody>\n",
       "    <tr>\n",
       "      <th>1</th>\n",
       "      <td>1.402811</td>\n",
       "      <td>-0.931821</td>\n",
       "      <td>1.131940</td>\n",
       "      <td>-0.896741</td>\n",
       "      <td>-0.609435</td>\n",
       "    </tr>\n",
       "    <tr>\n",
       "      <th>2</th>\n",
       "      <td>-0.005538</td>\n",
       "      <td>-0.821688</td>\n",
       "      <td>0.321233</td>\n",
       "      <td>-0.936459</td>\n",
       "      <td>-0.485516</td>\n",
       "    </tr>\n",
       "    <tr>\n",
       "      <th>3</th>\n",
       "      <td>-0.431732</td>\n",
       "      <td>1.432537</td>\n",
       "      <td>-1.105197</td>\n",
       "      <td>1.306161</td>\n",
       "      <td>2.053825</td>\n",
       "    </tr>\n",
       "    <tr>\n",
       "      <th>4</th>\n",
       "      <td>-1.323756</td>\n",
       "      <td>1.110908</td>\n",
       "      <td>-0.915466</td>\n",
       "      <td>1.052973</td>\n",
       "      <td>0.059696</td>\n",
       "    </tr>\n",
       "    <tr>\n",
       "      <th>5</th>\n",
       "      <td>-0.371824</td>\n",
       "      <td>0.221286</td>\n",
       "      <td>-0.231137</td>\n",
       "      <td>0.337815</td>\n",
       "      <td>-0.165687</td>\n",
       "    </tr>\n",
       "  </tbody>\n",
       "</table>\n",
       "</div>"
      ],
      "text/plain": [
       "         ratio_evol_pop  dispo_PROT_(g/pers/j)  prop_prot_animales  \\\n",
       "cluster                                                              \n",
       "1              1.402811              -0.931821            1.131940   \n",
       "2             -0.005538              -0.821688            0.321233   \n",
       "3             -0.431732               1.432537           -1.105197   \n",
       "4             -1.323756               1.110908           -0.915466   \n",
       "5             -0.371824               0.221286           -0.231137   \n",
       "\n",
       "         dispo_ALI_(kcal/pers/j)  PIB_par_hbt_(US$)  \n",
       "cluster                                              \n",
       "1                      -0.896741          -0.609435  \n",
       "2                      -0.936459          -0.485516  \n",
       "3                       1.306161           2.053825  \n",
       "4                       1.052973           0.059696  \n",
       "5                       0.337815          -0.165687  "
      ]
     },
     "execution_count": 337,
     "metadata": {},
     "output_type": "execute_result"
    }
   ],
   "source": [
    "Xscm"
   ]
  },
  {
   "cell_type": "code",
   "execution_count": 338,
   "metadata": {},
   "outputs": [],
   "source": [
    "from pandas.plotting import parallel_coordinates"
   ]
  },
  {
   "cell_type": "code",
   "execution_count": 339,
   "metadata": {},
   "outputs": [
    {
     "data": {
      "image/png": "[encoded data removed]",
      "text/plain": [
       "<Figure size 864x360 with 1 Axes>"
      ]
     },
     "metadata": {},
     "output_type": "display_data"
    }
   ],
   "source": [
    "# Représentation des centroides\n",
    "display_parallel_coordinates_centroids(Xscm.reset_index(), 5)\n",
    "\n",
    "# plt.savefig('fig11.jpeg')"
   ]
  },
  {
   "cell_type": "markdown",
   "metadata": {},
   "source": [
    "##### Analyse"
   ]
  },
  {
   "cell_type": "markdown",
   "metadata": {},
   "source": [
    "_Pour avoir un point de référence : la France se situe dans le groupe 3._ \n",
    "\n",
    "- Les groupes 1 et 2 ont les plus faibles dispo ali et les plus faibles PIB.\n",
    "- Le groupe 3 a la plus faible prop prot ani. \n",
    "- Le groupe 4 a le plus faible ratio evol pop. \n",
    "- Le groupe 5 a les valeurs les plus constantes. \n",
    "\n",
    "=> Nous retenons le groupe 5. "
   ]
  },
  {
   "cell_type": "code",
   "execution_count": 340,
   "metadata": {},
   "outputs": [
    {
     "data": {
      "text/plain": [
       "Text(0.5,0.98,'')"
      ]
     },
     "execution_count": 340,
     "metadata": {},
     "output_type": "execute_result"
    },
    {
     "data": {
      "image/png": "[encoded data removed]",
      "text/plain": [
       "<Figure size 1080x288 with 5 Axes>"
      ]
     },
     "metadata": {},
     "output_type": "display_data"
    }
   ],
   "source": [
    "# Boxplots \n",
    "X_scaled_clustered.boxplot(by=\"cluster\", figsize=(15,4), layout=(1,5))\n",
    "plt.suptitle('')\n",
    "\n",
    "# plt.savefig('fig12.jpeg')"
   ]
  },
  {
   "cell_type": "markdown",
   "metadata": {},
   "source": [
    "# <font color='#FFCA36'>3. Tests statistiques</font> "
   ]
  },
  {
   "cell_type": "code",
   "execution_count": 344,
   "metadata": {},
   "outputs": [
    {
     "data": {
      "text/html": [
       "<div>\n",
       "<style scoped>\n",
       "    .dataframe tbody tr th:only-of-type {\n",
       "        vertical-align: middle;\n",
       "    }\n",
       "\n",
       "    .dataframe tbody tr th {\n",
       "        vertical-align: top;\n",
       "    }\n",
       "\n",
       "    .dataframe thead th {\n",
       "        text-align: right;\n",
       "    }\n",
       "</style>\n",
       "<table border=\"1\" class=\"dataframe\">\n",
       "  <thead>\n",
       "    <tr style=\"text-align: right;\">\n",
       "      <th></th>\n",
       "      <th>Code zone</th>\n",
       "      <th>Zone</th>\n",
       "      <th>ratio_evol_pop</th>\n",
       "      <th>dispo_PROT_(g/pers/j)</th>\n",
       "      <th>prop_prot_animales</th>\n",
       "      <th>dispo_ALI_(kcal/pers/j)</th>\n",
       "      <th>PIB_par_hbt_(US$)</th>\n",
       "    </tr>\n",
       "  </thead>\n",
       "  <tbody>\n",
       "    <tr>\n",
       "      <th>0</th>\n",
       "      <td>1</td>\n",
       "      <td>Arménie</td>\n",
       "      <td>0.016290</td>\n",
       "      <td>97.33</td>\n",
       "      <td>0.542176</td>\n",
       "      <td>3072.0</td>\n",
       "      <td>3933.682101</td>\n",
       "    </tr>\n",
       "    <tr>\n",
       "      <th>1</th>\n",
       "      <td>2</td>\n",
       "      <td>Afghanistan</td>\n",
       "      <td>0.124778</td>\n",
       "      <td>54.09</td>\n",
       "      <td>0.804770</td>\n",
       "      <td>1997.0</td>\n",
       "      <td>605.557362</td>\n",
       "    </tr>\n",
       "    <tr>\n",
       "      <th>2</th>\n",
       "      <td>3</td>\n",
       "      <td>Albanie</td>\n",
       "      <td>-0.006757</td>\n",
       "      <td>119.50</td>\n",
       "      <td>0.445021</td>\n",
       "      <td>3400.0</td>\n",
       "      <td>4445.132198</td>\n",
       "    </tr>\n",
       "    <tr>\n",
       "      <th>3</th>\n",
       "      <td>4</td>\n",
       "      <td>Algérie</td>\n",
       "      <td>0.085187</td>\n",
       "      <td>92.85</td>\n",
       "      <td>0.723209</td>\n",
       "      <td>3345.0</td>\n",
       "      <td>4051.244377</td>\n",
       "    </tr>\n",
       "    <tr>\n",
       "      <th>4</th>\n",
       "      <td>7</td>\n",
       "      <td>Angola</td>\n",
       "      <td>0.146103</td>\n",
       "      <td>54.09</td>\n",
       "      <td>0.695507</td>\n",
       "      <td>2266.0</td>\n",
       "      <td>4100.291004</td>\n",
       "    </tr>\n",
       "  </tbody>\n",
       "</table>\n",
       "</div>"
      ],
      "text/plain": [
       "   Code zone         Zone  ratio_evol_pop  dispo_PROT_(g/pers/j)  \\\n",
       "0          1      Arménie        0.016290                  97.33   \n",
       "1          2  Afghanistan        0.124778                  54.09   \n",
       "2          3      Albanie       -0.006757                 119.50   \n",
       "3          4      Algérie        0.085187                  92.85   \n",
       "4          7       Angola        0.146103                  54.09   \n",
       "\n",
       "   prop_prot_animales  dispo_ALI_(kcal/pers/j)  PIB_par_hbt_(US$)  \n",
       "0            0.542176                   3072.0        3933.682101  \n",
       "1            0.804770                   1997.0         605.557362  \n",
       "2            0.445021                   3400.0        4445.132198  \n",
       "3            0.723209                   3345.0        4051.244377  \n",
       "4            0.695507                   2266.0        4100.291004  "
      ]
     },
     "execution_count": 344,
     "metadata": {},
     "output_type": "execute_result"
    }
   ],
   "source": [
    "# Rappel du df principal\n",
    "data.head()"
   ]
  },
  {
   "cell_type": "markdown",
   "metadata": {},
   "source": [
    "### Visualisation avec seaborn"
   ]
  },
  {
   "cell_type": "code",
   "execution_count": 345,
   "metadata": {},
   "outputs": [
    {
     "name": "stderr",
     "output_type": "stream",
     "text": [
      "C:\\Users\\Zang\\Anaconda3\\lib\\site-packages\\matplotlib\\axes\\_axes.py:6462: UserWarning: The 'normed' kwarg is deprecated, and has been replaced by the 'density' kwarg.\n",
      "  warnings.warn(\"The 'normed' kwarg is deprecated, and has been \"\n"
     ]
    },
    {
     "data": {
      "image/png": "[encoded data removed]",
      "text/plain": [
       "<Figure size 432x288 with 1 Axes>"
      ]
     },
     "metadata": {},
     "output_type": "display_data"
    },
    {
     "name": "stderr",
     "output_type": "stream",
     "text": [
      "C:\\Users\\Zang\\Anaconda3\\lib\\site-packages\\matplotlib\\axes\\_axes.py:6462: UserWarning: The 'normed' kwarg is deprecated, and has been replaced by the 'density' kwarg.\n",
      "  warnings.warn(\"The 'normed' kwarg is deprecated, and has been \"\n"
     ]
    },
    {
     "data": {
      "image/png": "[encoded data removed]",
      "text/plain": [
       "<Figure size 432x288 with 1 Axes>"
      ]
     },
     "metadata": {},
     "output_type": "display_data"
    },
    {
     "name": "stderr",
     "output_type": "stream",
     "text": [
      "C:\\Users\\Zang\\Anaconda3\\lib\\site-packages\\matplotlib\\axes\\_axes.py:6462: UserWarning: The 'normed' kwarg is deprecated, and has been replaced by the 'density' kwarg.\n",
      "  warnings.warn(\"The 'normed' kwarg is deprecated, and has been \"\n"
     ]
    },
    {
     "data": {
      "image/png": "[encoded data removed]",
      "text/plain": [
       "<Figure size 432x288 with 1 Axes>"
      ]
     },
     "metadata": {},
     "output_type": "display_data"
    },
    {
     "name": "stderr",
     "output_type": "stream",
     "text": [
      "C:\\Users\\Zang\\Anaconda3\\lib\\site-packages\\matplotlib\\axes\\_axes.py:6462: UserWarning: The 'normed' kwarg is deprecated, and has been replaced by the 'density' kwarg.\n",
      "  warnings.warn(\"The 'normed' kwarg is deprecated, and has been \"\n"
     ]
    },
    {
     "data": {
      "image/png": "[encoded data removed]",
      "text/plain": [
       "<Figure size 432x288 with 1 Axes>"
      ]
     },
     "metadata": {},
     "output_type": "display_data"
    },
    {
     "name": "stderr",
     "output_type": "stream",
     "text": [
      "C:\\Users\\Zang\\Anaconda3\\lib\\site-packages\\matplotlib\\axes\\_axes.py:6462: UserWarning: The 'normed' kwarg is deprecated, and has been replaced by the 'density' kwarg.\n",
      "  warnings.warn(\"The 'normed' kwarg is deprecated, and has been \"\n"
     ]
    },
    {
     "data": {
      "image/png": "[encoded data removed]",
      "text/plain": [
       "<Figure size 432x288 with 1 Axes>"
      ]
     },
     "metadata": {},
     "output_type": "display_data"
    }
   ],
   "source": [
    "# Visualisation avec seaborn\n",
    "import matplotlib.lines as mlines\n",
    "test_norm = data.drop(['Zone','Code zone'], axis=1)\n",
    "\n",
    "for column in test_norm.columns:\n",
    "    sns.distplot(test_norm[column])\n",
    "    xbar=np.mean(test_norm[column]) # calcul de la moyenne\n",
    "    round(xbar,2)\n",
    "    plt.axvline(xbar, color='r', linewidth=2)\n",
    "    plt.legend(handles=[mlines.Line2D([], [], color='red', markersize=15, label=\"Moyenne empirique\")])\n",
    "    plt.show()\n",
    "    \n",
    "# plt.savefig('fig13.jpeg')"
   ]
  },
  {
   "cell_type": "markdown",
   "metadata": {},
   "source": [
    "=> dispo ali semble le plus se rapprocher d'une variable gaussienne. "
   ]
  },
  {
   "cell_type": "markdown",
   "metadata": {},
   "source": [
    "### Recherche de variables gaussiennes"
   ]
  },
  {
   "cell_type": "markdown",
   "metadata": {},
   "source": [
    "Le test **Kolmogorov-Smirnov** permet de tester l'adéquation à une loi normale.  \n",
    "Hytpohèse H0 = les variables sont gaussiennes. "
   ]
  },
  {
   "cell_type": "code",
   "execution_count": 346,
   "metadata": {},
   "outputs": [],
   "source": [
    "from scipy.stats import ks_2samp"
   ]
  },
  {
   "cell_type": "code",
   "execution_count": 349,
   "metadata": {},
   "outputs": [
    {
     "name": "stdout",
     "output_type": "stream",
     "text": [
      "alpha = 0.05\n",
      "\n",
      "ratio_evol_pop : Hypothèse nulle non rejetée. (stat = 0.0593; p-value = 0.6666)\n",
      "dispo_PROT_(g/pers/j) : Hypothèse nulle non rejetée. (stat = 0.0827; p-value = 0.2565)\n",
      "prop_prot_animales : Hypothèse nulle non rejetée. (stat = 0.0950; p-value = 0.1334)\n",
      "dispo_ALI_(kcal/pers/j) : Hypothèse nulle non rejetée. (stat = 0.0825; p-value = 0.2592)\n",
      "PIB_par_hbt_(US$) : Hypothèse nulle rejetée. (stat = 0.2410; p-value = 0.0000)\n"
     ]
    }
   ],
   "source": [
    "alpha = 0.05\n",
    "\n",
    "# test_norm = data.drop(['Zone','Code zone'], axis=1)\n",
    "\n",
    "print(f\"alpha = {alpha}\\n\")\n",
    "\n",
    "for column in test_norm.columns:\n",
    "    ks, p = ks_2samp(test_norm[column],list(np.random.normal(np.mean(test_norm[column]), np.std(test_norm[column]), 1000)))\n",
    "    \n",
    "    if (p > alpha):\n",
    "        print(f\"{column} : Hypothèse nulle non rejetée. (stat = {ks:.4f}; p-value = {p:.4f})\")\n",
    "    else:\n",
    "        print(f\"{column} : Hypothèse nulle rejetée. (stat = {ks:.4f}; p-value = {p:.4f})\")"
   ]
  },
  {
   "cell_type": "markdown",
   "metadata": {},
   "source": [
    "Test de Shapiro-Wilk pour voir (mais KS préférable car n > 60) :"
   ]
  },
  {
   "cell_type": "code",
   "execution_count": 17,
   "metadata": {},
   "outputs": [],
   "source": [
    "import scipy"
   ]
  },
  {
   "cell_type": "code",
   "execution_count": 351,
   "metadata": {},
   "outputs": [
    {
     "name": "stdout",
     "output_type": "stream",
     "text": [
      "alpha = 0.01\n",
      "\n",
      "ratio_evol_pop : Hypothèse nulle rejetée. (stat = 0.9751; p-value = 0.0035)\n",
      "dispo_PROT_(g/pers/j) : Hypothèse nulle non rejetée. (stat = 0.9791; p-value = 0.0109)\n",
      "prop_prot_animales : Hypothèse nulle rejetée. (stat = 0.9566; p-value = 0.0000)\n",
      "dispo_ALI_(kcal/pers/j) : Hypothèse nulle non rejetée. (stat = 0.9815; p-value = 0.0216)\n",
      "PIB_par_hbt_(US$) : Hypothèse nulle rejetée. (stat = 0.7030; p-value = 0.0000)\n"
     ]
    }
   ],
   "source": [
    "alpha = 0.01\n",
    "\n",
    "# test_norm = data.drop(['Zone','Code zone'], axis=1)\n",
    "\n",
    "print(f\"alpha = {alpha}\\n\")\n",
    "\n",
    "for column in test_norm.columns:\n",
    "    s, p = scipy.stats.shapiro(test_norm[column])\n",
    "    \n",
    "    if (p > alpha):\n",
    "        print(f\"{column} : Hypothèse nulle non rejetée. (stat = {s:.4f}; p-value = {p:.4f})\")\n",
    "    else:\n",
    "        print(f\"{column} : Hypothèse nulle rejetée. (stat = {s:.4f}; p-value = {p:.4f})\")"
   ]
  },
  {
   "cell_type": "markdown",
   "metadata": {},
   "source": [
    "Je continuerai avec la variable dispo_ALI_(kcal/pers/j)"
   ]
  },
  {
   "cell_type": "markdown",
   "metadata": {},
   "source": [
    "### Test de comparaison de deux populations gaussiennes"
   ]
  },
  {
   "cell_type": "markdown",
   "metadata": {},
   "source": [
    "https://openclassrooms.com/fr/courses/4525306-initiez-vous-a-la-statistique-inferentielle/5016619-comparez-deux-echantillons-gaussiens-test-de-comparaison"
   ]
  },
  {
   "cell_type": "markdown",
   "metadata": {},
   "source": [
    "Pour comparer deux échantillons gaussiens, la méthodologie la plus classique est d'effectuer de manière séquentielle :  \n",
    "1. Un test d'égalité des variances.\n",
    "2. Un test d'égalité des moyennes."
   ]
  },
  {
   "cell_type": "code",
   "execution_count": 11,
   "metadata": {
    "scrolled": true
   },
   "outputs": [
    {
     "data": {
      "text/html": [
       "<div>\n",
       "<style scoped>\n",
       "    .dataframe tbody tr th:only-of-type {\n",
       "        vertical-align: middle;\n",
       "    }\n",
       "\n",
       "    .dataframe tbody tr th {\n",
       "        vertical-align: top;\n",
       "    }\n",
       "\n",
       "    .dataframe thead th {\n",
       "        text-align: right;\n",
       "    }\n",
       "</style>\n",
       "<table border=\"1\" class=\"dataframe\">\n",
       "  <thead>\n",
       "    <tr style=\"text-align: right;\">\n",
       "      <th></th>\n",
       "      <th>ratio_evol_pop</th>\n",
       "      <th>dispo_PROT_(g/pers/j)</th>\n",
       "      <th>prop_prot_animales</th>\n",
       "      <th>dispo_ALI_(kcal/pers/j)</th>\n",
       "      <th>PIB_par_hbt_(US$)</th>\n",
       "      <th>cluster</th>\n",
       "    </tr>\n",
       "    <tr>\n",
       "      <th>Zone</th>\n",
       "      <th></th>\n",
       "      <th></th>\n",
       "      <th></th>\n",
       "      <th></th>\n",
       "      <th></th>\n",
       "      <th></th>\n",
       "    </tr>\n",
       "  </thead>\n",
       "  <tbody>\n",
       "    <tr>\n",
       "      <th>Arménie</th>\n",
       "      <td>0.01629</td>\n",
       "      <td>97.33</td>\n",
       "      <td>0.542176</td>\n",
       "      <td>3072.0</td>\n",
       "      <td>3933.682101</td>\n",
       "      <td>5</td>\n",
       "    </tr>\n",
       "  </tbody>\n",
       "</table>\n",
       "</div>"
      ],
      "text/plain": [
       "         ratio_evol_pop  dispo_PROT_(g/pers/j)  prop_prot_animales  \\\n",
       "Zone                                                                 \n",
       "Arménie         0.01629                  97.33            0.542176   \n",
       "\n",
       "         dispo_ALI_(kcal/pers/j)  PIB_par_hbt_(US$)  cluster  \n",
       "Zone                                                          \n",
       "Arménie                   3072.0        3933.682101        5  "
      ]
     },
     "execution_count": 11,
     "metadata": {},
     "output_type": "execute_result"
    }
   ],
   "source": [
    "X_c.head(1)"
   ]
  },
  {
   "cell_type": "code",
   "execution_count": 44,
   "metadata": {},
   "outputs": [],
   "source": [
    "clustA = X_c[X_c['cluster'] == 2]['dispo_ALI_(kcal/pers/j)']\n",
    "clustB = X_c[X_c['cluster'] == 3]['dispo_ALI_(kcal/pers/j)']"
   ]
  },
  {
   "cell_type": "code",
   "execution_count": 45,
   "metadata": {},
   "outputs": [
    {
     "data": {
      "text/plain": [
       "BartlettResult(statistic=1.6563366720683144, pvalue=0.1980986657698293)"
      ]
     },
     "execution_count": 45,
     "metadata": {},
     "output_type": "execute_result"
    }
   ],
   "source": [
    "# Test de Bartlett (égalité des variances)\n",
    "scipy.stats.bartlett(clustA,clustB)"
   ]
  },
  {
   "cell_type": "markdown",
   "metadata": {},
   "source": [
    "La p-valeur valant plus de 0.05, **on ne rejette donc pas l’égalité des variances au niveau de test 5%.**"
   ]
  },
  {
   "cell_type": "code",
   "execution_count": 27,
   "metadata": {},
   "outputs": [],
   "source": [
    "from scipy import stats"
   ]
  },
  {
   "cell_type": "code",
   "execution_count": 28,
   "metadata": {},
   "outputs": [
    {
     "data": {
      "text/plain": [
       "Ttest_indResult(statistic=-17.81446921489302, pvalue=3.4203190867962722e-25)"
      ]
     },
     "execution_count": 28,
     "metadata": {},
     "output_type": "execute_result"
    }
   ],
   "source": [
    "# Test de Student (égalité des moyennes)\n",
    "stats.ttest_ind(clustA, clustB, equal_var=True)"
   ]
  },
  {
   "cell_type": "markdown",
   "metadata": {},
   "source": [
    "La p-valeur valant moins de 0.05, **on rejette l'hypothèse H0 d'égalité des moyennes aux niveaux de test usuels.**  \n",
    "Cela nous permet de rejetter que les clusters en question suivent la même distribution.  \n",
    "**Cela montre que nos groupes diffèrents réellement.** \n",
    "\n",
    "_**NB**  \n",
    "Si les variances ne sont pas considérées comme égales, les deux échantillons n'ont pas la même loi. Si les variances sont considérées comme égales, il est alors possible d'estimer cette variance sur les deux échantillons à la fois, et de tester l'égalité des moyennes en utilisant cette variance empirique globale.\u000b",
    "Notons qu'il est néanmoins possible d'effectuer un test de comparaison des moyennes sous hypothèse de variances différentes. Il ne s'agit pas d'une comparaison des lois, mais alors d'une comparaison simple des moyennes._"
   ]
  },
  {
   "cell_type": "markdown",
   "metadata": {},
   "source": [
    "------"
   ]
  },
  {
   "cell_type": "markdown",
   "metadata": {},
   "source": [
    "##### Calcul des moyennes et des variances (juste pour voir)"
   ]
  },
  {
   "cell_type": "code",
   "execution_count": 29,
   "metadata": {},
   "outputs": [
    {
     "data": {
      "text/plain": [
       "(2433.972222222222, 54060.02700617284)"
      ]
     },
     "execution_count": 29,
     "metadata": {},
     "output_type": "execute_result"
    }
   ],
   "source": [
    "# Calcul de la moyenne et de la variance du 1er échantillon\n",
    "clustAmean = np.mean(clustA)\n",
    "clustAvar= np.var(clustA)\n",
    "clustAmean, clustAvar"
   ]
  },
  {
   "cell_type": "code",
   "execution_count": 30,
   "metadata": {},
   "outputs": [
    {
     "data": {
      "text/plain": [
       "(3450.375, 32193.067708333332)"
      ]
     },
     "execution_count": 30,
     "metadata": {},
     "output_type": "execute_result"
    }
   ],
   "source": [
    "# Calcul de la moyenne et de la variance de l'échantillon 1\n",
    "clustBmean = np.mean(clustB)\n",
    "clustBvar= np.var(clustB)\n",
    "clustBmean, clustBvar"
   ]
  },
  {
   "cell_type": "markdown",
   "metadata": {},
   "source": [
    "------"
   ]
  },
  {
   "cell_type": "markdown",
   "metadata": {},
   "source": [
    "# <font color='#FFCA36'>4. Réduction du nombre de pays</font> "
   ]
  },
  {
   "cell_type": "code",
   "execution_count": 35,
   "metadata": {},
   "outputs": [
    {
     "data": {
      "text/html": [
       "<div>\n",
       "<style scoped>\n",
       "    .dataframe tbody tr th:only-of-type {\n",
       "        vertical-align: middle;\n",
       "    }\n",
       "\n",
       "    .dataframe tbody tr th {\n",
       "        vertical-align: top;\n",
       "    }\n",
       "\n",
       "    .dataframe thead th {\n",
       "        text-align: right;\n",
       "    }\n",
       "</style>\n",
       "<table border=\"1\" class=\"dataframe\">\n",
       "  <thead>\n",
       "    <tr style=\"text-align: right;\">\n",
       "      <th></th>\n",
       "      <th>ratio_evol_pop</th>\n",
       "      <th>dispo_PROT_(g/pers/j)</th>\n",
       "      <th>prop_prot_animales</th>\n",
       "      <th>dispo_ALI_(kcal/pers/j)</th>\n",
       "      <th>PIB_par_hbt_(US$)</th>\n",
       "      <th>cluster</th>\n",
       "    </tr>\n",
       "    <tr>\n",
       "      <th>Zone</th>\n",
       "      <th></th>\n",
       "      <th></th>\n",
       "      <th></th>\n",
       "      <th></th>\n",
       "      <th></th>\n",
       "      <th></th>\n",
       "    </tr>\n",
       "  </thead>\n",
       "  <tbody>\n",
       "    <tr>\n",
       "      <th>Chine, Taiwan Province de</th>\n",
       "      <td>0.010800</td>\n",
       "      <td>85.71</td>\n",
       "      <td>0.504609</td>\n",
       "      <td>2976.0</td>\n",
       "      <td>57500.000000</td>\n",
       "      <td>5</td>\n",
       "    </tr>\n",
       "    <tr>\n",
       "      <th>Nouvelle-Zélande</th>\n",
       "      <td>0.040615</td>\n",
       "      <td>90.80</td>\n",
       "      <td>0.428084</td>\n",
       "      <td>3153.0</td>\n",
       "      <td>43651.468216</td>\n",
       "      <td>5</td>\n",
       "    </tr>\n",
       "    <tr>\n",
       "      <th>Japon</th>\n",
       "      <td>-0.006324</td>\n",
       "      <td>86.52</td>\n",
       "      <td>0.444637</td>\n",
       "      <td>2699.0</td>\n",
       "      <td>38121.908661</td>\n",
       "      <td>5</td>\n",
       "    </tr>\n",
       "    <tr>\n",
       "      <th>Nouvelle-Calédonie</th>\n",
       "      <td>0.048849</td>\n",
       "      <td>83.12</td>\n",
       "      <td>0.419153</td>\n",
       "      <td>2750.0</td>\n",
       "      <td>34239.202596</td>\n",
       "      <td>5</td>\n",
       "    </tr>\n",
       "    <tr>\n",
       "      <th>Koweït</th>\n",
       "      <td>0.150218</td>\n",
       "      <td>99.69</td>\n",
       "      <td>0.524426</td>\n",
       "      <td>3445.0</td>\n",
       "      <td>28897.241961</td>\n",
       "      <td>5</td>\n",
       "    </tr>\n",
       "    <tr>\n",
       "      <th>Chypre</th>\n",
       "      <td>0.031308</td>\n",
       "      <td>80.20</td>\n",
       "      <td>0.430673</td>\n",
       "      <td>2612.0</td>\n",
       "      <td>26473.007605</td>\n",
       "      <td>5</td>\n",
       "    </tr>\n",
       "    <tr>\n",
       "      <th>Arabie saoudite</th>\n",
       "      <td>0.101461</td>\n",
       "      <td>87.51</td>\n",
       "      <td>0.577191</td>\n",
       "      <td>3194.0</td>\n",
       "      <td>20905.391689</td>\n",
       "      <td>5</td>\n",
       "    </tr>\n",
       "    <tr>\n",
       "      <th>Polynésie française</th>\n",
       "      <td>0.021359</td>\n",
       "      <td>97.51</td>\n",
       "      <td>0.337196</td>\n",
       "      <td>2917.0</td>\n",
       "      <td>20091.185754</td>\n",
       "      <td>5</td>\n",
       "    </tr>\n",
       "  </tbody>\n",
       "</table>\n",
       "</div>"
      ],
      "text/plain": [
       "                           ratio_evol_pop  dispo_PROT_(g/pers/j)  \\\n",
       "Zone                                                               \n",
       "Chine, Taiwan Province de        0.010800                  85.71   \n",
       "Nouvelle-Zélande                 0.040615                  90.80   \n",
       "Japon                           -0.006324                  86.52   \n",
       "Nouvelle-Calédonie               0.048849                  83.12   \n",
       "Koweït                           0.150218                  99.69   \n",
       "Chypre                           0.031308                  80.20   \n",
       "Arabie saoudite                  0.101461                  87.51   \n",
       "Polynésie française              0.021359                  97.51   \n",
       "\n",
       "                           prop_prot_animales  dispo_ALI_(kcal/pers/j)  \\\n",
       "Zone                                                                     \n",
       "Chine, Taiwan Province de            0.504609                   2976.0   \n",
       "Nouvelle-Zélande                     0.428084                   3153.0   \n",
       "Japon                                0.444637                   2699.0   \n",
       "Nouvelle-Calédonie                   0.419153                   2750.0   \n",
       "Koweït                               0.524426                   3445.0   \n",
       "Chypre                               0.430673                   2612.0   \n",
       "Arabie saoudite                      0.577191                   3194.0   \n",
       "Polynésie française                  0.337196                   2917.0   \n",
       "\n",
       "                           PIB_par_hbt_(US$)  cluster  \n",
       "Zone                                                   \n",
       "Chine, Taiwan Province de       57500.000000        5  \n",
       "Nouvelle-Zélande                43651.468216        5  \n",
       "Japon                           38121.908661        5  \n",
       "Nouvelle-Calédonie              34239.202596        5  \n",
       "Koweït                          28897.241961        5  \n",
       "Chypre                          26473.007605        5  \n",
       "Arabie saoudite                 20905.391689        5  \n",
       "Polynésie française             20091.185754        5  "
      ]
     },
     "execution_count": 35,
     "metadata": {},
     "output_type": "execute_result"
    }
   ],
   "source": [
    "(X_c\n",
    "         # Je sélectionne le cluster qui m'intéresse\n",
    "         .query('cluster == 5')\n",
    "         \n",
    "         # Sélection des PIB les plus élevés\n",
    "         .sort_values(by='ratio_evol_pop', ascending=False)\n",
    " \n",
    "          # Réduction du nb de pays\n",
    "         .head(8)\n",
    ")"
   ]
  },
  {
   "cell_type": "code",
   "execution_count": 33,
   "metadata": {},
   "outputs": [
    {
     "data": {
      "text/html": [
       "<div>\n",
       "<style scoped>\n",
       "    .dataframe tbody tr th:only-of-type {\n",
       "        vertical-align: middle;\n",
       "    }\n",
       "\n",
       "    .dataframe tbody tr th {\n",
       "        vertical-align: top;\n",
       "    }\n",
       "\n",
       "    .dataframe thead th {\n",
       "        text-align: right;\n",
       "    }\n",
       "</style>\n",
       "<table border=\"1\" class=\"dataframe\">\n",
       "  <thead>\n",
       "    <tr style=\"text-align: right;\">\n",
       "      <th></th>\n",
       "      <th>ratio_evol_pop</th>\n",
       "      <th>dispo_PROT_(g/pers/j)</th>\n",
       "      <th>prop_prot_animales</th>\n",
       "      <th>dispo_ALI_(kcal/pers/j)</th>\n",
       "      <th>PIB_par_hbt_(US$)</th>\n",
       "      <th>cluster</th>\n",
       "    </tr>\n",
       "    <tr>\n",
       "      <th>Zone</th>\n",
       "      <th></th>\n",
       "      <th></th>\n",
       "      <th></th>\n",
       "      <th></th>\n",
       "      <th></th>\n",
       "      <th></th>\n",
       "    </tr>\n",
       "  </thead>\n",
       "  <tbody>\n",
       "    <tr>\n",
       "      <th>Koweït</th>\n",
       "      <td>0.150218</td>\n",
       "      <td>99.69</td>\n",
       "      <td>0.524426</td>\n",
       "      <td>3445.0</td>\n",
       "      <td>28897.241961</td>\n",
       "      <td>5</td>\n",
       "    </tr>\n",
       "    <tr>\n",
       "      <th>Arabie saoudite</th>\n",
       "      <td>0.101461</td>\n",
       "      <td>87.51</td>\n",
       "      <td>0.577191</td>\n",
       "      <td>3194.0</td>\n",
       "      <td>20905.391689</td>\n",
       "      <td>5</td>\n",
       "    </tr>\n",
       "    <tr>\n",
       "      <th>Algérie</th>\n",
       "      <td>0.085187</td>\n",
       "      <td>92.85</td>\n",
       "      <td>0.723209</td>\n",
       "      <td>3345.0</td>\n",
       "      <td>4051.244377</td>\n",
       "      <td>5</td>\n",
       "    </tr>\n",
       "    <tr>\n",
       "      <th>Égypte</th>\n",
       "      <td>0.090922</td>\n",
       "      <td>96.27</td>\n",
       "      <td>0.750182</td>\n",
       "      <td>3315.0</td>\n",
       "      <td>2000.297246</td>\n",
       "      <td>5</td>\n",
       "    </tr>\n",
       "    <tr>\n",
       "      <th>Kirghizistan</th>\n",
       "      <td>0.079987</td>\n",
       "      <td>85.28</td>\n",
       "      <td>0.595216</td>\n",
       "      <td>2796.0</td>\n",
       "      <td>1274.241408</td>\n",
       "      <td>5</td>\n",
       "    </tr>\n",
       "  </tbody>\n",
       "</table>\n",
       "</div>"
      ],
      "text/plain": [
       "                 ratio_evol_pop  dispo_PROT_(g/pers/j)  prop_prot_animales  \\\n",
       "Zone                                                                         \n",
       "Koweït                 0.150218                  99.69            0.524426   \n",
       "Arabie saoudite        0.101461                  87.51            0.577191   \n",
       "Algérie                0.085187                  92.85            0.723209   \n",
       "Égypte                 0.090922                  96.27            0.750182   \n",
       "Kirghizistan           0.079987                  85.28            0.595216   \n",
       "\n",
       "                 dispo_ALI_(kcal/pers/j)  PIB_par_hbt_(US$)  cluster  \n",
       "Zone                                                                  \n",
       "Koweït                            3445.0       28897.241961        5  \n",
       "Arabie saoudite                   3194.0       20905.391689        5  \n",
       "Algérie                           3345.0        4051.244377        5  \n",
       "Égypte                            3315.0        2000.297246        5  \n",
       "Kirghizistan                      2796.0        1274.241408        5  "
      ]
     },
     "execution_count": 33,
     "metadata": {},
     "output_type": "execute_result"
    }
   ],
   "source": [
    "# Si l'on veut réduire encore : \n",
    "(X_c\n",
    "         # Je sélectionne le cluster qui m'intéresse\n",
    "         .query('cluster == 5')\n",
    "         \n",
    "         # Classsement par PIB\n",
    "         .sort_values(by='ratio_evol_pop', ascending=False)\n",
    " \n",
    "         # Réduction à 5 pays\n",
    "         .head(5)\n",
    " \n",
    "         # Je classe par ratio evol pop\n",
    "         .sort_values(by='PIB_par_hbt_(US$)', ascending=False)\n",
    ")"
   ]
  },
  {
   "cell_type": "markdown",
   "metadata": {},
   "source": [
    "On arrive finalement à un groupe de 5 pays."
   ]
  }
 ],
 "metadata": {
  "kernelspec": {
   "display_name": "Python 3",
   "language": "python",
   "name": "python3"
  },
  "language_info": {
   "codemirror_mode": {
    "name": "ipython",
    "version": 3
   },
   "file_extension": ".py",
   "mimetype": "text/x-python",
   "name": "python",
   "nbconvert_exporter": "python",
   "pygments_lexer": "ipython3",
   "version": "3.6.5"
  }
 },
 "nbformat": 4,
 "nbformat_minor": 2
}
